{
 "cells": [
  {
   "cell_type": "raw",
   "id": "e9854465-b2b0-4014-86a6-b04abe318d2c",
   "metadata": {},
   "source": [
    "Problem 1: Bank Account Create a class representing a bank account with attributes like account number, account holder name, and balance. Implement methods to deposit and withdraw money from the account."
   ]
  },
  {
   "cell_type": "code",
   "execution_count": 8,
   "id": "c95c24a7-efea-4672-a74a-357f9ba2378f",
   "metadata": {},
   "outputs": [],
   "source": [
    "class bank_account:\n",
    "    def open_account(self,act_no,name):\n",
    "        print(\"your account has been opened\")\n",
    "        print(act_no+name)\n",
    "    def diposite(self,balnce):\n",
    "        print(\"Amount deposited\")\n",
    "    def withdraw(self,balance):\n",
    "        print(\"Amount debited\")"
   ]
  },
  {
   "cell_type": "code",
   "execution_count": 12,
   "id": "55d99131-2f72-454f-ae9c-99207e606bec",
   "metadata": {},
   "outputs": [
    {
     "name": "stdout",
     "output_type": "stream",
     "text": [
      "your account has been opened\n",
      "12345harsh\n"
     ]
    }
   ],
   "source": [
    "a = bank_account()\n",
    "a.open_account(\"12345\",\"harsh\")"
   ]
  },
  {
   "cell_type": "code",
   "execution_count": 14,
   "id": "e5da99ec-b8e0-426f-8876-d5044cc584b0",
   "metadata": {},
   "outputs": [
    {
     "name": "stdout",
     "output_type": "stream",
     "text": [
      "Amount deposited\n"
     ]
    }
   ],
   "source": [
    "a.diposite(900000000)"
   ]
  },
  {
   "cell_type": "code",
   "execution_count": 16,
   "id": "ae8956a4-907d-412a-b4a9-a5946d1f7aef",
   "metadata": {},
   "outputs": [
    {
     "name": "stdout",
     "output_type": "stream",
     "text": [
      "Amount debited\n"
     ]
    }
   ],
   "source": [
    "a.withdraw(800000)"
   ]
  },
  {
   "cell_type": "raw",
   "id": "69ebb96d-254a-4c29-9d55-992894eca000",
   "metadata": {},
   "source": [
    "Problem 2: Employee Management Create a class representing an employee with attributes like employee ID, name, and salary. Implement methods to calculate the yearly bonus and display employee details."
   ]
  },
  {
   "cell_type": "code",
   "execution_count": 23,
   "id": "09e8a61b-effa-4d0f-81fc-602f9c245c18",
   "metadata": {},
   "outputs": [],
   "source": [
    "class employee:\n",
    "    def __init__(self,emp_id,name,salary):\n",
    "        self.emp_id='hg1997'\n",
    "        self.name='Harsh'\n",
    "        self.salary=100000\n",
    "    def emp_detail(self):\n",
    "        print(\"Employee id  \"+self.emp_id+\"   \"+\"Name \"+self.name)\n",
    "    def bonus(self):\n",
    "        if self.salary>=50000:\n",
    "            return (self.salary*20)/100\n",
    "        elif self.salary>=25000 and self.salary<50000:\n",
    "            return (self.salary*10)/100\n",
    "        else:\n",
    "            return (self.salary*5)/100"
   ]
  },
  {
   "cell_type": "code",
   "execution_count": 25,
   "id": "2676977e-e982-4279-babe-646fda2d2c18",
   "metadata": {},
   "outputs": [
    {
     "name": "stdout",
     "output_type": "stream",
     "text": [
      "Employee id  hg1997   Name Harsh\n"
     ]
    }
   ],
   "source": [
    "a = employee('hg1997','Harsh',100000)\n",
    "a.emp_detail()"
   ]
  },
  {
   "cell_type": "code",
   "execution_count": 27,
   "id": "533d5e40-8ab5-488d-bc72-ee1d84f4ae95",
   "metadata": {},
   "outputs": [
    {
     "data": {
      "text/plain": [
       "20000.0"
      ]
     },
     "execution_count": 27,
     "metadata": {},
     "output_type": "execute_result"
    }
   ],
   "source": [
    "a.bonus()"
   ]
  },
  {
   "cell_type": "code",
   "execution_count": 40,
   "id": "ce55bc59-92d8-456e-9b61-fe5f46c4d09f",
   "metadata": {},
   "outputs": [
    {
     "name": "stdout",
     "output_type": "stream",
     "text": [
      "Employee id  hg1997   Name Harsh\n"
     ]
    }
   ],
   "source": [
    "a = employee('hg1997','Harsh',100000)\n",
    "a.emp_detail()"
   ]
  },
  {
   "cell_type": "code",
   "execution_count": 42,
   "id": "46510304-a6a1-43da-ba7e-98ffbeb9b7a7",
   "metadata": {},
   "outputs": [
    {
     "data": {
      "text/plain": [
       "20000.0"
      ]
     },
     "execution_count": 42,
     "metadata": {},
     "output_type": "execute_result"
    }
   ],
   "source": [
    "a.bonus()"
   ]
  },
  {
   "cell_type": "raw",
   "id": "901cce30-38b5-4a1f-97c8-56da52311cc1",
   "metadata": {},
   "source": [
    "Problem 3: Vehicle Rental Create a class representing a vehicle rental system. Implement methods to rent a vehicle, return a vehicle, and display available vehicles."
   ]
  },
  {
   "cell_type": "code",
   "execution_count": 53,
   "id": "16bb0d7d-c921-40d6-b85a-7f3195251871",
   "metadata": {},
   "outputs": [],
   "source": [
    "class vehicle_rental:\n",
    "    def rent(self,amount):\n",
    "        if amount ==150:\n",
    "            print(\"vehicle rented -1234  \")\n",
    "        else:\n",
    "            print(\"provide enough money\")\n",
    "    def return_(self,code):\n",
    "        if code ==1234:\n",
    "            print(\"Vehicle returned\")\n",
    "        else:\n",
    "            print(\"Provide correct code\")"
   ]
  },
  {
   "cell_type": "code",
   "execution_count": 55,
   "id": "e4fd7af4-de0d-42c9-bcdf-a0a086becc3c",
   "metadata": {},
   "outputs": [
    {
     "name": "stdout",
     "output_type": "stream",
     "text": [
      "vehicle rented -1234  \n",
      "Vehicle returned\n"
     ]
    }
   ],
   "source": [
    "a = vehicle_rental()\n",
    "a.rent(150)\n",
    "a.return_(1234)"
   ]
  },
  {
   "cell_type": "raw",
   "id": "d698dd8b-06d1-45a8-ad1a-663215c2ea54",
   "metadata": {},
   "source": [
    "Problem 4: Library Catalog Create classes representing a library and a book. Implement methods to add books to the library, borrow books, and display available books."
   ]
  },
  {
   "cell_type": "code",
   "execution_count": 10,
   "id": "6a957360-84b1-4b73-9de6-ad7d1aa4cf0a",
   "metadata": {},
   "outputs": [
    {
     "name": "stdout",
     "output_type": "stream",
     "text": [
      "[('DSA', 'krish', '0123344', 22)]\n"
     ]
    },
    {
     "data": {
      "text/plain": [
       "[('DSA', 'krish', '0123344', 22)]"
      ]
     },
     "execution_count": 10,
     "metadata": {},
     "output_type": "execute_result"
    }
   ],
   "source": [
    "class Library:\n",
    "    books=[]\n",
    "    written_by_author =[]\n",
    "    books_under_price = []\n",
    "    def __init__(self,name,author,isbn,price):\n",
    "        self.name = name\n",
    "        self.author = author\n",
    "        self.isbn = isbn\n",
    "        self.price = price\n",
    "    def add_book(self):\n",
    "        Library.books.append((self.name,self.author,self.isbn,self.price))\n",
    "    def searchbookisbn(self,isbn):\n",
    "        for book in Library.books:\n",
    "            if book[2]==isbn:\n",
    "                return book\n",
    "    def searchbookauthor(self,author):\n",
    "        for book in Library.books:\n",
    "            if book[1]==author:\n",
    "                Library.written_by_author.append(book)\n",
    "        return Library.written_by_author\n",
    "    def searunderprice(self,price):\n",
    "        for book in Library.books:\n",
    "            if book[3]<price:\n",
    "                Library.books_under_price(book)\n",
    "        return Library.books_under_price\n",
    "book = Library('DSA','krish','0123344',22)\n",
    "book.add_book()\n",
    "print(book.searchbookauthor('krish'))\n",
    "Library.books\n",
    "\n",
    "        \n",
    "        "
   ]
  },
  {
   "cell_type": "code",
   "execution_count": 25,
   "id": "71d4373d-acb6-44ad-85f0-caa35934d7f7",
   "metadata": {},
   "outputs": [
    {
     "ename": "TypeError",
     "evalue": "product() takes no arguments",
     "output_type": "error",
     "traceback": [
      "\u001b[0;31m---------------------------------------------------------------------------\u001b[0m",
      "\u001b[0;31mTypeError\u001b[0m                                 Traceback (most recent call last)",
      "Cell \u001b[0;32mIn[25], line 19\u001b[0m\n\u001b[1;32m     17\u001b[0m         value \u001b[38;5;241m=\u001b[39m \u001b[38;5;28mself\u001b[39m\u001b[38;5;241m.\u001b[39mqty\u001b[38;5;241m*\u001b[39m\u001b[38;5;28mself\u001b[39m\u001b[38;5;241m.\u001b[39mprice\n\u001b[1;32m     18\u001b[0m         \u001b[38;5;28;01mreturn\u001b[39;00m value\n\u001b[0;32m---> 19\u001b[0m product1 \u001b[38;5;241m=\u001b[39m \u001b[43mproduct\u001b[49m\u001b[43m(\u001b[49m\u001b[38;5;124;43m'\u001b[39;49m\u001b[38;5;124;43mfishing\u001b[39;49m\u001b[38;5;124;43m'\u001b[39;49m\u001b[43m,\u001b[49m\u001b[38;5;241;43m20\u001b[39;49m\u001b[43m,\u001b[49m\u001b[38;5;241;43m10\u001b[39;49m\u001b[43m)\u001b[49m\n\u001b[1;32m     20\u001b[0m product2 \u001b[38;5;241m=\u001b[39m product(\u001b[38;5;124m'\u001b[39m\u001b[38;5;124mapparel\u001b[39m\u001b[38;5;124m'\u001b[39m,\u001b[38;5;241m35\u001b[39m,\u001b[38;5;241m20\u001b[39m)\n\u001b[1;32m     22\u001b[0m \u001b[38;5;28;01mclass\u001b[39;00m \u001b[38;5;21;01minventory\u001b[39;00m:\n",
      "\u001b[0;31mTypeError\u001b[0m: product() takes no arguments"
     ]
    }
   ],
   "source": [
    "class product:\n",
    "    def __init(self,pid,price,qty):\n",
    "        self.pid = pid\n",
    "        self.price = price\n",
    "        self.qty = qty\n",
    "    def get_id(self):\n",
    "        return self.pid\n",
    "    def get_price(self):\n",
    "        return self.price\n",
    "    def get_quantity(self):\n",
    "        return self.qty\n",
    "    def increase_qty(self):\n",
    "        self.qty +=1\n",
    "    def decrease_qty(self):\n",
    "        self.qty -=1\n",
    "    def get_value(self):\n",
    "        value = self.qty*self.price\n",
    "        return value\n",
    "product1 = product('fishing',20,10)\n",
    "product2 = product('apparel',35,20)\n",
    "\n",
    "class inventory:\n",
    "    def __init__(self,products):\n",
    "        self.products=products\n",
    "        self.fishing_list=[]\n",
    "        self.apparel_list =[]\n",
    "        self.value=0\n",
    "    def add_fishing(self):\n",
    "        for product in self.products:\n",
    "            if product.get_id()=='fishing':\n",
    "                self.fishing_list.append(product)\n",
    "        return self.fishing_list\n",
    "    def add_apprel(self):\n",
    "        for product in self.products:\n",
    "            if product.get_id()=='apparel':\n",
    "                self.apparel_list.append(product)\n",
    "        return self.apparel_list\n",
    "inventory_1 = inventory([product1,product2])\n",
    "inventory_1.add_fishing()\n",
    "print(inventory_1)\n",
    "\n",
    "\n",
    "        \n",
    "    \n",
    "    "
   ]
  },
  {
   "cell_type": "raw",
   "id": "f9ba4f97-298e-43b8-b92a-a66050d5c0c9",
   "metadata": {},
   "source": []
  }
 ],
 "metadata": {
  "kernelspec": {
   "display_name": "Python 3 (ipykernel)",
   "language": "python",
   "name": "python3"
  },
  "language_info": {
   "codemirror_mode": {
    "name": "ipython",
    "version": 3
   },
   "file_extension": ".py",
   "mimetype": "text/x-python",
   "name": "python",
   "nbconvert_exporter": "python",
   "pygments_lexer": "ipython3",
   "version": "3.10.8"
  }
 },
 "nbformat": 4,
 "nbformat_minor": 5
}
