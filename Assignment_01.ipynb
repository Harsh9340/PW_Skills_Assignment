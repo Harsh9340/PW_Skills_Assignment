{
 "cells": [
  {
   "cell_type": "markdown",
   "id": "9d206037-ad61-491c-854e-6825c6d57d45",
   "metadata": {},
   "source": [
    "***Assignment - Python Basic Variable***"
   ]
  },
  {
   "cell_type": "markdown",
   "id": "e9fc55fb-292c-445a-a137-9eea488ffc0d",
   "metadata": {},
   "source": [
    "****Answer -1****"
   ]
  },
  {
   "cell_type": "code",
   "execution_count": 3,
   "id": "96373fae-9215-4c62-91a9-d4edc87d62c0",
   "metadata": {},
   "outputs": [],
   "source": [
    "'''Declaire variable and assigned integer value'''\n",
    "x = 15\n",
    "y = 10"
   ]
  },
  {
   "cell_type": "code",
   "execution_count": 4,
   "id": "9f1e4fd4-07ad-44be-a8be-f411903e6fad",
   "metadata": {},
   "outputs": [],
   "source": [
    "x = x-y   # x = 5 , y = 10\n",
    "y = x+y   # x = 5 , y = 15\n",
    "x = y-x   # x = 10 ,y = 15"
   ]
  },
  {
   "cell_type": "code",
   "execution_count": 5,
   "id": "21d71c72-e56e-4003-96a4-cde3f1f9082d",
   "metadata": {},
   "outputs": [
    {
     "data": {
      "text/plain": [
       "(10, 15)"
      ]
     },
     "execution_count": 5,
     "metadata": {},
     "output_type": "execute_result"
    }
   ],
   "source": [
    "''' Value of x and y after swaping'''\n",
    "x,y"
   ]
  },
  {
   "cell_type": "markdown",
   "id": "9b284b67-6639-4708-a6e4-4c9ec7a1379a",
   "metadata": {},
   "source": [
    "****Answer - 2****"
   ]
  },
  {
   "cell_type": "code",
   "execution_count": 6,
   "id": "2bba6a63-d9e0-4d08-9649-60fe3cd01d4b",
   "metadata": {},
   "outputs": [
    {
     "name": "stdin",
     "output_type": "stream",
     "text": [
      "Enter length of Ractangle\n",
      " 45\n",
      "Enter Width of Ractangle\n",
      " 25\n"
     ]
    }
   ],
   "source": [
    "''' Take length(L) and Width(W) of Ractangle from users'''\n",
    "L = int(input(\"Enter length of Ractangle\\n\"))\n",
    "W = int(input(\"Enter Width of Ractangle\\n\"))"
   ]
  },
  {
   "cell_type": "code",
   "execution_count": 7,
   "id": "ef128b16-a406-480d-83b9-ce58abe9eff2",
   "metadata": {},
   "outputs": [],
   "source": [
    "''' Area of Ractangle( A = L*W)'''\n",
    "A = L*W"
   ]
  },
  {
   "cell_type": "code",
   "execution_count": 8,
   "id": "97bafa70-6dbc-406f-9782-c2e412f6da60",
   "metadata": {},
   "outputs": [
    {
     "data": {
      "text/plain": [
       "1125"
      ]
     },
     "execution_count": 8,
     "metadata": {},
     "output_type": "execute_result"
    }
   ],
   "source": [
    "'''Out put of Area Calculation'''\n",
    "A"
   ]
  },
  {
   "cell_type": "markdown",
   "id": "b8e371ab-6571-43a5-964b-150dcc00e280",
   "metadata": {},
   "source": [
    "****Answer-3****"
   ]
  },
  {
   "cell_type": "code",
   "execution_count": 9,
   "id": "b93c9314-d4f1-4765-8aed-3fac9e3f21f5",
   "metadata": {},
   "outputs": [
    {
     "name": "stdin",
     "output_type": "stream",
     "text": [
      "Enter Temperature in celsius\n",
      " 39\n"
     ]
    }
   ],
   "source": [
    "''' Take the Temperature in celsius as input'''\n",
    "T = int(input(\"Enter Temperature in celsius\\n\"))"
   ]
  },
  {
   "cell_type": "code",
   "execution_count": 10,
   "id": "4a687de5-5d09-4ea1-9e88-f4b604e8b183",
   "metadata": {},
   "outputs": [],
   "source": [
    "''' formula for converting Temperature celsuis to Fahrenheit((°C × 9/5) + 32 = °F)'''\n",
    "\n",
    "f = (T*1.8)+32"
   ]
  },
  {
   "cell_type": "code",
   "execution_count": 11,
   "id": "7bf02fd1-f3fa-4b47-82d2-7d126f39068a",
   "metadata": {},
   "outputs": [
    {
     "data": {
      "text/plain": [
       "102.2"
      ]
     },
     "execution_count": 11,
     "metadata": {},
     "output_type": "execute_result"
    }
   ],
   "source": [
    "''' Output after converting in Fahrenheit'''\n",
    "f"
   ]
  },
  {
   "cell_type": "markdown",
   "id": "9518cd7b-8108-4e02-a0fb-2c5ea88be652",
   "metadata": {},
   "source": [
    "***Assignment - String Based Question***"
   ]
  },
  {
   "cell_type": "markdown",
   "id": "8d277be1-c8b7-4320-8918-d70f9f5faf79",
   "metadata": {},
   "source": [
    "****Answer - 1****"
   ]
  },
  {
   "cell_type": "code",
   "execution_count": 12,
   "id": "d45ded52-e76d-47c5-8368-6e1e309a3910",
   "metadata": {},
   "outputs": [
    {
     "name": "stdin",
     "output_type": "stream",
     "text": [
      "please enter here\n",
      " harsh\n"
     ]
    }
   ],
   "source": [
    "''' Take input as a string'''\n",
    "str_a = input(\"please enter here\\n\")"
   ]
  },
  {
   "cell_type": "code",
   "execution_count": 13,
   "id": "81211220-587e-49e5-ba5a-16813ac91ec7",
   "metadata": {},
   "outputs": [
    {
     "data": {
      "text/plain": [
       "5"
      ]
     },
     "execution_count": 13,
     "metadata": {},
     "output_type": "execute_result"
    }
   ],
   "source": [
    "'''length of the string using len() '''\n",
    "len(str_a)"
   ]
  },
  {
   "cell_type": "markdown",
   "id": "335e9c17-aad0-4a18-abc3-a40f730555a3",
   "metadata": {},
   "source": [
    "****Answer - 2****"
   ]
  },
  {
   "cell_type": "code",
   "execution_count": 14,
   "id": "2e722fd4-a34e-4a21-be02-a253ed0492f9",
   "metadata": {},
   "outputs": [
    {
     "name": "stdin",
     "output_type": "stream",
     "text": [
      "Please enter a sentence here\n",
      " harsh is a good boy he is learning python\n"
     ]
    }
   ],
   "source": [
    "''' Take the input sentence from the user'''\n",
    "\n",
    "a = input(\"Please enter a sentence here\\n\")"
   ]
  },
  {
   "cell_type": "code",
   "execution_count": 15,
   "id": "e089c893-75a6-4138-bf5a-bb650e33c283",
   "metadata": {},
   "outputs": [
    {
     "data": {
      "text/plain": [
       "[3, 2, 3, 4, 0]"
      ]
     },
     "execution_count": 15,
     "metadata": {},
     "output_type": "execute_result"
    }
   ],
   "source": [
    "\n",
    "'''count of the vowels(a,e,i,o,u)'''\n",
    "\n",
    "[a.count(\"a\"),a.count(\"e\"),a.count(\"i\"),a.count(\"o\"),a.count(\"u\")]\n"
   ]
  },
  {
   "cell_type": "markdown",
   "id": "fcf5ca20-6ce7-400e-8755-cca9ebb9abf2",
   "metadata": {},
   "source": [
    "****Answer-3****"
   ]
  },
  {
   "cell_type": "code",
   "execution_count": 17,
   "id": "70954320-8e6e-4654-8657-ddb61d241738",
   "metadata": {},
   "outputs": [],
   "source": [
    "''' Giving a string'''\n",
    "\n",
    "r = \"harsh gupta\""
   ]
  },
  {
   "cell_type": "code",
   "execution_count": 18,
   "id": "67106a7d-714e-404a-9d38-a5c1732273de",
   "metadata": {},
   "outputs": [
    {
     "data": {
      "text/plain": [
       "'harsh gupta'"
      ]
     },
     "execution_count": 18,
     "metadata": {},
     "output_type": "execute_result"
    }
   ],
   "source": [
    "r"
   ]
  },
  {
   "cell_type": "code",
   "execution_count": 19,
   "id": "b5ab35de-56ee-4ff0-b415-2db7133f655a",
   "metadata": {},
   "outputs": [
    {
     "data": {
      "text/plain": [
       "'atpug hsrah'"
      ]
     },
     "execution_count": 19,
     "metadata": {},
     "output_type": "execute_result"
    }
   ],
   "source": [
    "''' Reversing the order of string using slicing'''\n",
    "r[-1::-1]        # in this start index given -1(reverse index) and -1 given step index also i avoid to give end index no."
   ]
  },
  {
   "cell_type": "markdown",
   "id": "a70da6a0-3c4d-45b2-8b0c-79f1297b5624",
   "metadata": {},
   "source": [
    "****Answer-4****"
   ]
  },
  {
   "cell_type": "code",
   "execution_count": 20,
   "id": "d706f638-c48a-4c9a-9c1c-446ed7383558",
   "metadata": {},
   "outputs": [
    {
     "name": "stdin",
     "output_type": "stream",
     "text": [
      "please type here\n",
      " pwskills\n"
     ]
    }
   ],
   "source": [
    "'''Taking input a string from the user'''\n",
    "p = input(\"please type here\\n\")"
   ]
  },
  {
   "cell_type": "code",
   "execution_count": 21,
   "id": "f01e57e4-ea6d-48f2-aede-2b02b582a327",
   "metadata": {},
   "outputs": [
    {
     "data": {
      "text/plain": [
       "False"
      ]
     },
     "execution_count": 21,
     "metadata": {},
     "output_type": "execute_result"
    }
   ],
   "source": [
    "'''checking  given string by user is palindrome or not'''\n",
    "\n",
    "\n",
    "'''in this i did forword slicing to extract string and then did reverse slicing\n",
    "    and compare them ,output is false which indicate given inout is not palindrome'''\n",
    "\n",
    "p[0::] == p[-1::-1]"
   ]
  },
  {
   "cell_type": "markdown",
   "id": "abf50f04-bb90-42e8-b061-148818e95713",
   "metadata": {},
   "source": [
    "****Answer-5****"
   ]
  },
  {
   "cell_type": "code",
   "execution_count": 2,
   "id": "9061452c-6ef4-4ffc-aa18-97b84a335c5f",
   "metadata": {},
   "outputs": [
    {
     "name": "stdin",
     "output_type": "stream",
     "text": [
      "please type here\n",
      "    my name  is    harsh  im leraning      python\n"
     ]
    }
   ],
   "source": [
    "''' Taking a string from input'''\n",
    "s = input(\"please type here\\n\")"
   ]
  },
  {
   "cell_type": "code",
   "execution_count": 4,
   "id": "f54b94b5-b888-4e99-942d-58af2b7a1245",
   "metadata": {},
   "outputs": [
    {
     "data": {
      "text/plain": [
       "'mynameisharshimleraningpython'"
      ]
     },
     "execution_count": 4,
     "metadata": {},
     "output_type": "execute_result"
    }
   ],
   "source": [
    "'''Using replace function to remove all space from gievn sentence'''\n",
    "\n",
    "s.replace(\" \",\"\")"
   ]
  }
 ],
 "metadata": {
  "kernelspec": {
   "display_name": "Python 3 (ipykernel)",
   "language": "python",
   "name": "python3"
  },
  "language_info": {
   "codemirror_mode": {
    "name": "ipython",
    "version": 3
   },
   "file_extension": ".py",
   "mimetype": "text/x-python",
   "name": "python",
   "nbconvert_exporter": "python",
   "pygments_lexer": "ipython3",
   "version": "3.10.8"
  }
 },
 "nbformat": 4,
 "nbformat_minor": 5
}
