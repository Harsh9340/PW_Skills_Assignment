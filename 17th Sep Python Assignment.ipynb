{
 "cells": [
  {
   "cell_type": "markdown",
   "id": "2d70eb16-f0b7-4959-bf0f-8b783385d51e",
   "metadata": {},
   "source": [
    "***Answer-1****"
   ]
  },
  {
   "cell_type": "code",
   "execution_count": 4,
   "id": "dd9adb61-2019-4f9a-bcc4-8496ec0439cf",
   "metadata": {},
   "outputs": [
    {
     "name": "stdout",
     "output_type": "stream",
     "text": [
      "1\n",
      "2\n",
      "3\n",
      "4\n",
      "5\n",
      "6\n",
      "7\n",
      "8\n",
      "9\n",
      "10\n"
     ]
    }
   ],
   "source": [
    "for i in range (1,11):\n",
    "    print(i)\n"
   ]
  },
  {
   "cell_type": "markdown",
   "id": "25a5a8d1-9b7e-42bb-b2ba-4222783fbfaf",
   "metadata": {},
   "source": [
    "***Answer-2****"
   ]
  },
  {
   "cell_type": "markdown",
   "id": "36a2eba8-fee3-43d8-9518-c48b8d73035c",
   "metadata": {},
   "source": [
    "For Loop -  For loop is used when the number of iterations is already known\n",
    "while Loop - While loop is used when the number of iterations is already Unknown"
   ]
  },
  {
   "cell_type": "markdown",
   "id": "6fa6892f-484e-4c83-875c-438e95912edf",
   "metadata": {},
   "source": [
    "Answer-3"
   ]
  },
  {
   "cell_type": "code",
   "execution_count": 7,
   "id": "4a4da3af-5a00-4b12-add8-6730f046b9dd",
   "metadata": {},
   "outputs": [
    {
     "name": "stdout",
     "output_type": "stream",
     "text": [
      "1\n",
      "3\n",
      "6\n",
      "10\n",
      "15\n",
      "21\n",
      "28\n",
      "36\n",
      "45\n",
      "55\n",
      "66\n",
      "78\n",
      "91\n",
      "105\n",
      "120\n",
      "136\n",
      "153\n",
      "171\n",
      "190\n",
      "210\n",
      "231\n",
      "253\n",
      "276\n",
      "300\n",
      "325\n",
      "351\n",
      "378\n",
      "406\n",
      "435\n",
      "465\n",
      "496\n",
      "528\n",
      "561\n",
      "595\n",
      "630\n",
      "666\n",
      "703\n",
      "741\n",
      "780\n",
      "820\n",
      "861\n",
      "903\n",
      "946\n",
      "990\n",
      "1035\n",
      "1081\n",
      "1128\n",
      "1176\n",
      "1225\n",
      "1275\n",
      "1326\n",
      "1378\n",
      "1431\n",
      "1485\n",
      "1540\n",
      "1596\n",
      "1653\n",
      "1711\n",
      "1770\n",
      "1830\n",
      "1891\n",
      "1953\n",
      "2016\n",
      "2080\n",
      "2145\n",
      "2211\n",
      "2278\n",
      "2346\n",
      "2415\n",
      "2485\n",
      "2556\n",
      "2628\n",
      "2701\n",
      "2775\n",
      "2850\n",
      "2926\n",
      "3003\n",
      "3081\n",
      "3160\n",
      "3240\n",
      "3321\n",
      "3403\n",
      "3486\n",
      "3570\n",
      "3655\n",
      "3741\n",
      "3828\n",
      "3916\n",
      "4005\n",
      "4095\n",
      "4186\n",
      "4278\n",
      "4371\n",
      "4465\n",
      "4560\n",
      "4656\n",
      "4753\n",
      "4851\n",
      "4950\n",
      "5050\n"
     ]
    }
   ],
   "source": [
    "sum = 0 \n",
    "for i in range(1,101):\n",
    "    sum = sum+i\n",
    "    print(sum)"
   ]
  },
  {
   "cell_type": "markdown",
   "id": "38f9202d-06e4-47e3-ac87-837dac20c651",
   "metadata": {},
   "source": [
    "Answer-4"
   ]
  },
  {
   "cell_type": "code",
   "execution_count": 8,
   "id": "a29c33fe-68b9-4639-b56a-c4f545b4c9ad",
   "metadata": {},
   "outputs": [
    {
     "name": "stdout",
     "output_type": "stream",
     "text": [
      "1\n",
      "2\n",
      "3\n",
      "4\n",
      "5\n",
      "6\n",
      "7\n"
     ]
    }
   ],
   "source": [
    "list = [1,2,3,4,5,6,7]\n",
    "for i in list:\n",
    "    print(i)"
   ]
  },
  {
   "cell_type": "markdown",
   "id": "11904e1d-7851-4c67-889d-2583d32953d5",
   "metadata": {},
   "source": [
    "Answer-5"
   ]
  },
  {
   "cell_type": "code",
   "execution_count": 22,
   "id": "076feec1-4f56-4221-9b7d-bae8c2de8ba5",
   "metadata": {},
   "outputs": [
    {
     "name": "stdout",
     "output_type": "stream",
     "text": [
      "1\n",
      "3\n"
     ]
    }
   ],
   "source": [
    "def multiplylist(mylist):\n",
    "    result = 1\n",
    "    for i in mylist:\n",
    "        result = result*i\n",
    "        return result\n",
    "\n",
    "list1 = [1,2,3]\n",
    "list2 = [3,4,5]\n",
    "print(multiplylist(list1))\n",
    "print(multiplylist(list2))  \n",
    "\n",
    "    \n",
    "\n",
    "    \n",
    "    \n",
    "    \n"
   ]
  },
  {
   "cell_type": "markdown",
   "id": "0430e4f9-a0d6-4b2f-ada6-0cfa99cddeee",
   "metadata": {},
   "source": [
    "Answer-6"
   ]
  },
  {
   "cell_type": "code",
   "execution_count": 26,
   "id": "96220685-71d0-47bd-b488-540ab5f978e6",
   "metadata": {},
   "outputs": [
    {
     "name": "stdout",
     "output_type": "stream",
     "text": [
      "2 4 6 8 10 "
     ]
    }
   ],
   "source": [
    "for i in range(1,11):\n",
    "    if i % 2 == 0:\n",
    "        print(i,end=\" \")\n",
    "\n"
   ]
  },
  {
   "cell_type": "markdown",
   "id": "86bb6b73-f88c-459f-8a55-fc88c5b09078",
   "metadata": {},
   "source": [
    "Answer -7"
   ]
  },
  {
   "cell_type": "code",
   "execution_count": 35,
   "id": "d19d7131-b423-4be3-8724-53c97385770f",
   "metadata": {},
   "outputs": [
    {
     "name": "stdin",
     "output_type": "stream",
     "text": [
      "enter a number here :   5\n"
     ]
    },
    {
     "name": "stdout",
     "output_type": "stream",
     "text": [
      "120\n"
     ]
    }
   ],
   "source": [
    "n = int(input(\"enter a number here :  \"))\n",
    "factorial = 1\n",
    "if n>=1:\n",
    "    for i in range (1,n+1):\n",
    "        factorial = factorial*i\n",
    "print(factorial)"
   ]
  },
  {
   "cell_type": "markdown",
   "id": "016c0280-39a2-4cdc-8867-1380d4d0444e",
   "metadata": {},
   "source": [
    "Answer-8"
   ]
  },
  {
   "cell_type": "code",
   "execution_count": 37,
   "id": "12accef1-3be4-4869-9c5a-3b6ba9af07ac",
   "metadata": {},
   "outputs": [
    {
     "name": "stdout",
     "output_type": "stream",
     "text": [
      "P\n",
      "W\n",
      "S\n",
      "k\n",
      "i\n",
      "l\n",
      "l\n",
      "s\n",
      "L\n",
      "a\n",
      "b\n"
     ]
    }
   ],
   "source": [
    "string = \"PWSkillsLab\"\n",
    "for i in string:\n",
    "    print(i)\n",
    "\n"
   ]
  },
  {
   "cell_type": "markdown",
   "id": "3df26637-75d7-4aff-82e9-0412570990ef",
   "metadata": {},
   "source": [
    "Answer-9"
   ]
  },
  {
   "cell_type": "code",
   "execution_count": 46,
   "id": "c91e5818-7854-4a1d-a3bb-decaa5726bd2",
   "metadata": {},
   "outputs": [
    {
     "name": "stdout",
     "output_type": "stream",
     "text": [
      "99\n"
     ]
    }
   ],
   "source": [
    "list_new = [10,20,4,46,99]\n",
    "largest = list_new[0]\n",
    "for i in list_new:\n",
    "    if i > largest:\n",
    "        largest = i\n",
    "print(largest)"
   ]
  },
  {
   "cell_type": "markdown",
   "id": "851da993-59e2-43c4-a006-de6bdba61de8",
   "metadata": {},
   "source": [
    "Answer-10"
   ]
  },
  {
   "cell_type": "code",
   "execution_count": 48,
   "id": "4fe3e0fd-b030-49f1-82e7-cdb3cc7a5b8f",
   "metadata": {},
   "outputs": [
    {
     "name": "stdout",
     "output_type": "stream",
     "text": [
      "Fibonacci series with 10 elements: [0, 1, 1, 2, 3, 5, 8, 13, 21, 34]\n"
     ]
    }
   ],
   "source": [
    "def fibonacci_with_list(n):\n",
    "\tfib_series = [0, 1]\n",
    "\tfor i in range(2, n):\n",
    "\t\tfib_series.append(fib_series[-1] + fib_series[-2])\n",
    "\treturn fib_series\n",
    "\n",
    "# Example usage:\n",
    "n = 10\n",
    "result = fibonacci_with_list(n)\n",
    "print(f\"Fibonacci series with {n} elements:\", result)\n"
   ]
  },
  {
   "cell_type": "code",
   "execution_count": 53,
   "id": "b254826f-ea47-42de-9024-7c869d6e3340",
   "metadata": {},
   "outputs": [
    {
     "name": "stdin",
     "output_type": "stream",
     "text": [
      "Enter string: harshgupta\n"
     ]
    },
    {
     "name": "stdout",
     "output_type": "stream",
     "text": [
      "Number of vowels are:\n",
      "3\n"
     ]
    }
   ],
   "source": [
    "string=input(\"Enter string:\")\n",
    "vowels=0\n",
    "for i in string:\n",
    "      if(i=='a' or i=='e' or i=='i' or i=='o' or i=='u' or i=='A' or i=='E' or i=='I' or i=='O' or i=='U'):\n",
    "            vowels=vowels+1\n",
    "print(\"Number of vowels are:\")\n",
    "print(vowels)\n"
   ]
  },
  {
   "cell_type": "markdown",
   "id": "6d46a2a2-72a4-486d-8bc1-34354f9c729a",
   "metadata": {},
   "source": [
    "Answer-12"
   ]
  },
  {
   "cell_type": "code",
   "execution_count": 54,
   "id": "f5cd0db2-5e8f-4064-b565-24b9873a9529",
   "metadata": {},
   "outputs": [
    {
     "name": "stdin",
     "output_type": "stream",
     "text": [
      "Enter the number you want to generate a multiplication table for, then hit the `enter` key:  4\n"
     ]
    },
    {
     "name": "stdout",
     "output_type": "stream",
     "text": [
      "4  *  1  =  4\n",
      "4  *  2  =  8\n",
      "4  *  3  =  12\n",
      "4  *  4  =  16\n",
      "4  *  5  =  20\n"
     ]
    }
   ],
   "source": [
    "ourNum = int(input(\"Enter the number you want to generate a multiplication table for, then hit the `enter` key: \"))\n",
    "ourRange = range(1,6)\n",
    "for x in ourRange:\n",
    "    result = ourNum * x\n",
    "    print(ourNum,\" * \",x,\" = \",result)\n"
   ]
  },
  {
   "cell_type": "markdown",
   "id": "78e7debb-fb3e-48f2-b92d-4efd83cb1166",
   "metadata": {},
   "source": [
    "Answer-13"
   ]
  },
  {
   "cell_type": "code",
   "execution_count": 18,
   "id": "f2c2ee4e-18b6-4b90-bac7-5bf01f2b8140",
   "metadata": {},
   "outputs": [
    {
     "name": "stdout",
     "output_type": "stream",
     "text": [
      "[6, 5, 4, 3, 2, 1]\n"
     ]
    }
   ],
   "source": [
    "Ori_list = [1,2,3,4,5,6]\n",
    "start = 0\n",
    "end = -1\n",
    "\n",
    "while start<len(Ori_list)//2:\n",
    "    Ori_list[start],Ori_list[end]=Ori_list[end],Ori_list[start]\n",
    "    start +=1\n",
    "    end -=1\n",
    "print(Ori_list)"
   ]
  },
  {
   "cell_type": "markdown",
   "id": "9ca11f4c-568e-4080-bb73-28bda659cc8b",
   "metadata": {},
   "source": [
    "Answer-14"
   ]
  },
  {
   "cell_type": "code",
   "execution_count": 20,
   "id": "ae546bde-2f51-4a82-9346-3a794083e2c1",
   "metadata": {},
   "outputs": [
    {
     "name": "stdout",
     "output_type": "stream",
     "text": [
      "{5}\n",
      "No common elements\n"
     ]
    }
   ],
   "source": [
    "def common_member(a, b):\n",
    "    a_set = set(a)\n",
    "    b_set = set(b)\n",
    " \n",
    "    if (a_set & b_set):\n",
    "        print(a_set & b_set)\n",
    "    else:\n",
    "        print(\"No common elements\") \n",
    "          \n",
    "  \n",
    "a = [1, 2, 3, 4, 5]\n",
    "b = [5, 6, 7, 8, 9]\n",
    "common_member(a, b)\n",
    "  \n",
    "a = [1, 2, 3, 4, 5]\n",
    "b = [6, 7, 8, 9]\n",
    "common_member(a, b)"
   ]
  },
  {
   "cell_type": "markdown",
   "id": "edf2ac5a-808b-4ce8-a58c-225be98145af",
   "metadata": {},
   "source": [
    "Answer - 15"
   ]
  },
  {
   "cell_type": "code",
   "execution_count": 22,
   "id": "d39c01af-a5f8-4fa1-a081-23a98a6f6104",
   "metadata": {},
   "outputs": [
    {
     "name": "stdout",
     "output_type": "stream",
     "text": [
      "List Of given capitals:\n",
      "\n",
      "Gandhinagar\n",
      "Mumbai\n",
      "Jaipur\n",
      "Patna\n"
     ]
    }
   ],
   "source": [
    "statesAndCapitals = {\n",
    "    'Gujarat': 'Gandhinagar',\n",
    "    'Maharashtra': 'Mumbai',\n",
    "    'Rajasthan': 'Jaipur',\n",
    "    'Bihar': 'Patna'\n",
    "}\n",
    "print('List Of given capitals:\\n')\n",
    "\n",
    "for capital in statesAndCapitals.values():\n",
    "    print(capital)"
   ]
  },
  {
   "cell_type": "markdown",
   "id": "22f79cf9-6dae-4d84-962d-efd8065debb9",
   "metadata": {},
   "source": [
    "Answer-16"
   ]
  },
  {
   "cell_type": "code",
   "execution_count": 23,
   "id": "2c0a1653-73d4-43ad-9ac9-8394ff4e36c4",
   "metadata": {},
   "outputs": [
    {
     "name": "stdout",
     "output_type": "stream",
     "text": [
      "GCD of 36 and 60 is 12\n"
     ]
    }
   ],
   "source": [
    "num1 = 36\n",
    "num2 = 60\n",
    "gcd = 1\n",
    " \n",
    "for i in range(1, min(num1, num2)):\n",
    "    if num1 % i == 0 and num2 % i == 0:\n",
    "        gcd = i\n",
    "print(\"GCD of\", num1, \"and\", num2, \"is\", gcd)"
   ]
  },
  {
   "cell_type": "markdown",
   "id": "fc404e28-bc6f-4993-8f7b-4f6c5dc8678b",
   "metadata": {},
   "source": [
    "Answer-17"
   ]
  },
  {
   "cell_type": "code",
   "execution_count": 24,
   "id": "b6955e40-244b-4422-b616-6b2d07f70116",
   "metadata": {},
   "outputs": [
    {
     "name": "stdout",
     "output_type": "stream",
     "text": [
      "Yes\n"
     ]
    }
   ],
   "source": [
    "\n",
    "def isPalindrome(s):\n",
    "    return s == s[::-1]\n",
    "\n",
    "\n",
    "# Driver code\n",
    "s = \"malayalam\"\n",
    "ans = isPalindrome(s)\n",
    "\n",
    "if ans:\n",
    "    print(\"Yes\")\n",
    "else:\n",
    "    print(\"No\")"
   ]
  },
  {
   "cell_type": "markdown",
   "id": "382c8a07-fb30-4f96-87ff-43a5ee602335",
   "metadata": {},
   "source": [
    "Answer-18"
   ]
  },
  {
   "cell_type": "code",
   "execution_count": 26,
   "id": "6121d35e-256f-49dc-a7a5-b39e5bba6c6d",
   "metadata": {},
   "outputs": [
    {
     "name": "stdout",
     "output_type": "stream",
     "text": [
      "[2, 4, 10, 20, 5]\n"
     ]
    }
   ],
   "source": [
    "def Remove(duplicate):\n",
    "    final_list = []\n",
    "    for num in duplicate:\n",
    "        if num not in final_list:\n",
    "            final_list.append(num)\n",
    "    return final_list\n",
    "     \n",
    "# Driver Code\n",
    "duplicate = [2, 4, 10, 20, 5, 2, 20, 4]\n",
    "print(Remove(duplicate))"
   ]
  },
  {
   "cell_type": "markdown",
   "id": "39009c61-0b56-4e95-90d0-cbdf09f88799",
   "metadata": {},
   "source": [
    "Answer-19"
   ]
  },
  {
   "cell_type": "code",
   "execution_count": 29,
   "id": "ae5952ea-59e1-4bed-a113-2e0b09bd9ea5",
   "metadata": {},
   "outputs": [
    {
     "ename": "SyntaxError",
     "evalue": "invalid syntax (2744680098.py, line 1)",
     "output_type": "error",
     "traceback": [
      "\u001b[0;36m  Cell \u001b[0;32mIn[29], line 1\u001b[0;36m\u001b[0m\n\u001b[0;31m    using namespace std;\u001b[0m\n\u001b[0m          ^\u001b[0m\n\u001b[0;31mSyntaxError\u001b[0m\u001b[0;31m:\u001b[0m invalid syntax\n"
     ]
    }
   ],
   "source": [
    "\n",
    "using namespace std;\n",
    " \n",
    "int countWords(const string& sentence)\n",
    "{\n",
    "    // Initialize count to 1 assuming at least one word is\n",
    "    // present\n",
    "    int count = 1;\n",
    " \n",
    "    for (char character : sentence) {\n",
    "        if (character == ' ') {\n",
    "            count++;\n",
    "        }\n",
    "    }\n",
    " \n",
    "    return count;\n",
    "}\n",
    " \n",
    "int main()\n",
    "{\n",
    "    string sentence = \"Programming is fun and challenging\";\n",
    "    cout << \"Number of words: \" << countWords(sentence)\n",
    "         << endl;\n",
    " \n",
    "    return 0;\n",
    "}"
   ]
  },
  {
   "cell_type": "markdown",
   "id": "4b2bfcdf-684c-4176-83fc-ca59e18a88cc",
   "metadata": {},
   "source": [
    "Answer-20"
   ]
  },
  {
   "cell_type": "code",
   "execution_count": 30,
   "id": "5921bc1f-55bc-4c0a-8e12-ad90ee72141e",
   "metadata": {},
   "outputs": [
    {
     "name": "stdout",
     "output_type": "stream",
     "text": [
      "5 7 9 11 13 15 17 19 "
     ]
    }
   ],
   "source": [
    "start, end = 4, 19\n",
    "\n",
    "# iterating each number in list\n",
    "for num in range(start, end + 1):\n",
    "    \n",
    "    # checking condition\n",
    "    if num % 2 != 0:\n",
    "        print(num, end = \" \")"
   ]
  },
  {
   "cell_type": "code",
   "execution_count": null,
   "id": "ea22a341-1f90-46d3-aeba-0c4bf5a0fd96",
   "metadata": {},
   "outputs": [],
   "source": []
  }
 ],
 "metadata": {
  "kernelspec": {
   "display_name": "Python 3 (ipykernel)",
   "language": "python",
   "name": "python3"
  },
  "language_info": {
   "codemirror_mode": {
    "name": "ipython",
    "version": 3
   },
   "file_extension": ".py",
   "mimetype": "text/x-python",
   "name": "python",
   "nbconvert_exporter": "python",
   "pygments_lexer": "ipython3",
   "version": "3.10.8"
  }
 },
 "nbformat": 4,
 "nbformat_minor": 5
}
