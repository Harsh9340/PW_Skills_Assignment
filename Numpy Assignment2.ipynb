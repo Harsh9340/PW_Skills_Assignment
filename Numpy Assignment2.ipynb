{
 "cells": [
  {
   "cell_type": "code",
   "execution_count": 3,
   "id": "32f2047f-0fc7-468c-9e13-690841641101",
   "metadata": {},
   "outputs": [],
   "source": [
    "import numpy as np"
   ]
  },
  {
   "cell_type": "markdown",
   "id": "196cecaa-1a21-4133-bec7-22c0e4de2aea",
   "metadata": {},
   "source": [
    "Answer-1"
   ]
  },
  {
   "cell_type": "code",
   "execution_count": 5,
   "id": "78df2514-75fc-4f15-af1a-232e3068a4e0",
   "metadata": {},
   "outputs": [],
   "source": [
    "arr1 = np.array([1,3,5,7,9])"
   ]
  },
  {
   "cell_type": "code",
   "execution_count": 7,
   "id": "25868576-e3c8-4b54-8528-f468f186d4cc",
   "metadata": {},
   "outputs": [],
   "source": [
    "arr2 = np.array([2,4,5,8])"
   ]
  },
  {
   "cell_type": "code",
   "execution_count": 8,
   "id": "901d19bb-10d2-4c5a-8163-d7541e7ffec6",
   "metadata": {},
   "outputs": [
    {
     "data": {
      "text/plain": [
       "array([1, 3, 5, 7, 9])"
      ]
     },
     "execution_count": 8,
     "metadata": {},
     "output_type": "execute_result"
    }
   ],
   "source": [
    "arr1"
   ]
  },
  {
   "cell_type": "code",
   "execution_count": 10,
   "id": "67305c57-1f05-429a-9fd3-a6aaf698dc36",
   "metadata": {},
   "outputs": [
    {
     "data": {
      "text/plain": [
       "array([2, 4, 5, 8])"
      ]
     },
     "execution_count": 10,
     "metadata": {},
     "output_type": "execute_result"
    }
   ],
   "source": [
    "arr2"
   ]
  },
  {
   "cell_type": "code",
   "execution_count": 12,
   "id": "b1dd5ab3-cd14-4caf-af2a-469695ede44e",
   "metadata": {},
   "outputs": [
    {
     "data": {
      "text/plain": [
       "array([5])"
      ]
     },
     "execution_count": 12,
     "metadata": {},
     "output_type": "execute_result"
    }
   ],
   "source": [
    "np.intersect1d(arr1,arr2)"
   ]
  },
  {
   "cell_type": "markdown",
   "id": "c2b2ae53-a93c-4405-b1c1-98c112684213",
   "metadata": {},
   "source": [
    "Answer-2"
   ]
  },
  {
   "cell_type": "code",
   "execution_count": 14,
   "id": "6756f24d-8b75-4309-8b30-439b48b12323",
   "metadata": {},
   "outputs": [],
   "source": [
    "arr1 = np.array([12,3,1,7,8,20])"
   ]
  },
  {
   "cell_type": "code",
   "execution_count": 15,
   "id": "91ed076f-10a1-40d5-b14c-54608fd0ca06",
   "metadata": {},
   "outputs": [
    {
     "data": {
      "text/plain": [
       "array([12,  3,  1,  7,  8, 20])"
      ]
     },
     "execution_count": 15,
     "metadata": {},
     "output_type": "execute_result"
    }
   ],
   "source": [
    "arr1"
   ]
  },
  {
   "cell_type": "markdown",
   "id": "684a1b79-2dc4-4189-b535-d0bf20c8fdbc",
   "metadata": {},
   "source": [
    "Answer-2"
   ]
  },
  {
   "cell_type": "code",
   "execution_count": 20,
   "id": "58a19ed6-32f5-42be-a494-699b6af968ac",
   "metadata": {},
   "outputs": [
    {
     "name": "stdout",
     "output_type": "stream",
     "text": [
      "1\n"
     ]
    }
   ],
   "source": [
    "def  K_smallest(arr,n,k):\n",
    "    for i in range(0,n):\n",
    "        for j in range (0,n-i-1):\n",
    "            if arr[j]>arr[j+1]:\n",
    "                arr[j],arr[j+1]=arr[j],arr[j+1]\n",
    "    return arr[k-1]\n",
    "arr = np.array([12,3,1,7,8,20])\n",
    "n=len(arr)\n",
    "k=3\n",
    "print(K_smallest(arr,n,k))\n",
    "\n",
    "\n",
    "\n"
   ]
  },
  {
   "cell_type": "markdown",
   "id": "1b2dfe62-af86-4b35-8b66-8a6a32c80b0f",
   "metadata": {},
   "source": [
    "Answer-3"
   ]
  },
  {
   "cell_type": "code",
   "execution_count": 2,
   "id": "0d029be9-f12d-4a21-8008-0de6d006bdc4",
   "metadata": {},
   "outputs": [
    {
     "name": "stdout",
     "output_type": "stream",
     "text": [
      "is 2\n"
     ]
    }
   ],
   "source": [
    "def binary_search(arr,low,High,x):\n",
    "    if High>=low:\n",
    "        mid = (High+low)//2\n",
    "        if arr[mid]==x:\n",
    "            return mid\n",
    "        elif arr[mid]>x:\n",
    "            return binary_search(arr,low,mid-1,x)\n",
    "        else:\n",
    "            return binary_search(arr,mid+1,High,x)\n",
    "    else:\n",
    "        return-1\n",
    "arr = [4,5,6,7,8,9,1,2,3]\n",
    "x = 6\n",
    "result = binary_search(arr,0,len(arr)-1,x)\n",
    "if result!=-1:\n",
    "    print(\"is\",str(result))\n",
    "else:\n",
    "    print(\"NO\")"
   ]
  },
  {
   "cell_type": "markdown",
   "id": "009744ea-c479-4df6-9307-0438ec7080f0",
   "metadata": {},
   "source": [
    "Answer-4"
   ]
  },
  {
   "cell_type": "code",
   "execution_count": 7,
   "id": "b360490b-a24f-4294-aea0-b385e5ee273d",
   "metadata": {},
   "outputs": [
    {
     "name": "stdout",
     "output_type": "stream",
     "text": [
      "[1, 2]\n"
     ]
    }
   ],
   "source": [
    "def liner_search(arr,target):\n",
    "    for i in range(len(arr)):\n",
    "        for j in range(len(arr[i])):\n",
    "            if(arr[i][j]==target):\n",
    "                return [i,j]\n",
    "    return [-1,-1]\n",
    "arr = [[1,3,5],[7,9,11],[13,15,17]]\n",
    "target = 11\n",
    "ans = liner_search(arr,target)\n",
    "print(ans)"
   ]
  },
  {
   "cell_type": "markdown",
   "id": "3394fdac-dcf4-49d0-8f1d-3f6ddbfa4481",
   "metadata": {},
   "source": [
    "Answer-5"
   ]
  },
  {
   "cell_type": "code",
   "execution_count": 14,
   "id": "2d2651f7-1a0f-4634-bccc-c092f96957bf",
   "metadata": {},
   "outputs": [
    {
     "name": "stdout",
     "output_type": "stream",
     "text": [
      "['kiwi', 'apple', 'grape', 'banana', 'orange']\n"
     ]
    }
   ],
   "source": [
    "def sorting(ist):\n",
    "    ist2 = sorted(ist,key = len)\n",
    "    return ist2\n",
    "ist = ['apple', 'banana', 'kiwi', 'orange', 'grape']\n",
    "print(sorting(ist))"
   ]
  },
  {
   "cell_type": "markdown",
   "id": "554ecce5-f5c2-49c9-984f-d0b5ca1bbabf",
   "metadata": {},
   "source": [
    "Answer-9"
   ]
  },
  {
   "cell_type": "code",
   "execution_count": 18,
   "id": "458e70ed-2c91-42c2-af43-5e82823f275b",
   "metadata": {},
   "outputs": [
    {
     "name": "stdout",
     "output_type": "stream",
     "text": [
      "2\n"
     ]
    }
   ],
   "source": [
    "def findpeak(arr,n):\n",
    "    if(n==1):\n",
    "        return 0 \n",
    "    if (arr[0]>=arr[1]):\n",
    "        return 0\n",
    "    if (arr[n-1]>=arr[n-2]):\n",
    "        return n-1\n",
    "    for i in range(1,n-1):\n",
    "        if(arr[i]>=arr[i-1] and arr[i] >= arr[i+1]):\n",
    "            return i\n",
    "arr = [1,3,20,4,1,0]\n",
    "n= len(arr)\n",
    "print(findpeak(arr,n))\n",
    "\n",
    "\n",
    "\n",
    "\n",
    "\n",
    "\n"
   ]
  },
  {
   "cell_type": "markdown",
   "id": "cdea66ef-6a4d-4ba8-a353-ee05477c7a93",
   "metadata": {},
   "source": [
    "Answer-10"
   ]
  },
  {
   "cell_type": "code",
   "execution_count": 8,
   "id": "8b584b8c-0ff3-49ca-b5a7-ce2a624eedc0",
   "metadata": {},
   "outputs": [],
   "source": [
    "def insertionsort(A,size):\n",
    "    i , kay,j = 0,0,0\n",
    "    for i in range(size):\n",
    "        key = A[i]\n",
    "        j   =i-1\n",
    "        while j>=0 and A[j]>key:\n",
    "            \n",
    "            A[j+1]=A[j]\n",
    "            j=j-1\n",
    "        A[j+1]=key\n",
    "        \n",
    "        \n",
    "        "
   ]
  }
 ],
 "metadata": {
  "kernelspec": {
   "display_name": "Python 3 (ipykernel)",
   "language": "python",
   "name": "python3"
  },
  "language_info": {
   "codemirror_mode": {
    "name": "ipython",
    "version": 3
   },
   "file_extension": ".py",
   "mimetype": "text/x-python",
   "name": "python",
   "nbconvert_exporter": "python",
   "pygments_lexer": "ipython3",
   "version": "3.10.8"
  }
 },
 "nbformat": 4,
 "nbformat_minor": 5
}
