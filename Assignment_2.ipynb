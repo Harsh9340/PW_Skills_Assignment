{
 "cells": [
  {
   "cell_type": "markdown",
   "id": "9ddf2a1c-c1d6-42ce-9562-8b352c9c414f",
   "metadata": {},
   "source": [
    "***Assignment - String Based assignment problem***"
   ]
  },
  {
   "cell_type": "markdown",
   "id": "6be78621-77e2-4448-be5e-11fc498df582",
   "metadata": {},
   "source": [
    "****Answer -1****"
   ]
  },
  {
   "cell_type": "code",
   "execution_count": 2,
   "id": "fb15e245-c2a1-44b0-b280-62bc9d66cdab",
   "metadata": {},
   "outputs": [],
   "source": [
    "''' Declairing a variable and assigned a value as string'''\n",
    "r = \"harsh\""
   ]
  },
  {
   "cell_type": "code",
   "execution_count": 4,
   "id": "2a857583-09fb-4128-92c1-86f524eddbde",
   "metadata": {},
   "outputs": [
    {
     "data": {
      "text/plain": [
       "'hsrah'"
      ]
     },
     "execution_count": 4,
     "metadata": {},
     "output_type": "execute_result"
    }
   ],
   "source": [
    "''' Using slicing method for reverse string'''\n",
    "r[-1::-1]"
   ]
  },
  {
   "cell_type": "markdown",
   "id": "2f51e80e-efab-4819-80d8-2be1bf5cd35e",
   "metadata": {},
   "source": [
    "****Answer - 2****"
   ]
  },
  {
   "cell_type": "code",
   "execution_count": 16,
   "id": "3d5a3585-59bc-4569-8b4d-098049e44fb7",
   "metadata": {},
   "outputs": [],
   "source": [
    "''' Declairing a variable and assigned a value as string'''\n",
    "p = \"abba\""
   ]
  },
  {
   "cell_type": "code",
   "execution_count": 19,
   "id": "65603c9f-f961-4720-8b8c-fb3269cd0654",
   "metadata": {},
   "outputs": [
    {
     "data": {
      "text/plain": [
       "True"
      ]
     },
     "execution_count": 19,
     "metadata": {},
     "output_type": "execute_result"
    }
   ],
   "source": [
    "''' i did forward and reverse slicing for given string and\n",
    "    then compare both sliced output and the result is true it means given string is palindrome'''\n",
    "\n",
    "p[0::] == p[-1::-1]"
   ]
  },
  {
   "cell_type": "markdown",
   "id": "bd0ddb6c-92c4-4c4a-8698-c4aa5df643ac",
   "metadata": {},
   "source": [
    "****Answer-3****"
   ]
  },
  {
   "cell_type": "code",
   "execution_count": 23,
   "id": "97046d44-16b9-4463-b37d-d6b7b5e4ac95",
   "metadata": {},
   "outputs": [],
   "source": [
    "''' Declairing a variable and assigned a value as string'''\n",
    "u = \"harsh\""
   ]
  },
  {
   "cell_type": "code",
   "execution_count": 26,
   "id": "c042b338-7021-42d6-9fe4-0f118975ec75",
   "metadata": {},
   "outputs": [
    {
     "data": {
      "text/plain": [
       "'HARSH'"
      ]
     },
     "execution_count": 26,
     "metadata": {},
     "output_type": "execute_result"
    }
   ],
   "source": [
    "'''converting in upper case using upper function'''\n",
    "u.upper()"
   ]
  },
  {
   "cell_type": "markdown",
   "id": "dd7094b3-46b9-4590-82b2-d4c38bf06664",
   "metadata": {},
   "source": [
    "****Answer-4****"
   ]
  },
  {
   "cell_type": "code",
   "execution_count": 28,
   "id": "64fbe0e9-452d-4faa-be56-a6c03226df00",
   "metadata": {},
   "outputs": [],
   "source": [
    "''' Declairing a variable and assigned a value as string'''\n",
    "l = \"PW SKILLS\""
   ]
  },
  {
   "cell_type": "code",
   "execution_count": 30,
   "id": "df07eeed-900e-4e5a-b8c1-459d95019692",
   "metadata": {},
   "outputs": [
    {
     "data": {
      "text/plain": [
       "'pw skills'"
      ]
     },
     "execution_count": 30,
     "metadata": {},
     "output_type": "execute_result"
    }
   ],
   "source": [
    "'''converting in lowercase using lower function'''\n",
    "l.lower()"
   ]
  },
  {
   "cell_type": "markdown",
   "id": "55531125-b137-491f-bbda-d463801630f9",
   "metadata": {},
   "source": [
    "****Answer-5****"
   ]
  },
  {
   "cell_type": "code",
   "execution_count": 4,
   "id": "d569424a-cd91-4311-b857-86ca933e8732",
   "metadata": {},
   "outputs": [],
   "source": [
    "'''converting in lowercase using lower function'''\n",
    "c = \"pw skills classes are good and sudhanshu sir is teaching well\""
   ]
  },
  {
   "cell_type": "code",
   "execution_count": 5,
   "id": "404ce378-ae4f-4782-bc5e-d12882880f7e",
   "metadata": {},
   "outputs": [
    {
     "data": {
      "text/plain": [
       "[5, 4, 4, 2, 2]"
      ]
     },
     "execution_count": 5,
     "metadata": {},
     "output_type": "execute_result"
    }
   ],
   "source": [
    "'''counting vowels in given string'''\n",
    "\n",
    "[c.count(\"a\"),c.count(\"e\"),c.count(\"i\"),c.count(\"o\"),c.count(\"u\")]"
   ]
  },
  {
   "cell_type": "markdown",
   "id": "1814b3d0-df5e-422b-b97a-6d6a15661998",
   "metadata": {},
   "source": [
    "****Answer-6****"
   ]
  },
  {
   "cell_type": "code",
   "execution_count": 85,
   "id": "398040fe-4e35-4f60-8bd6-e76803426faf",
   "metadata": {},
   "outputs": [],
   "source": [
    "'''Taken a Variable consonant an assign value 0 and taken a string str and assign value as string'''\n",
    "\n",
    "consonant = 0\n",
    "\n",
    "Str = \"harshislearningpythonfrompwskillsclasses\"\n"
   ]
  },
  {
   "cell_type": "code",
   "execution_count": 86,
   "id": "a3df8f07-c041-4860-a83b-9c8e18660dad",
   "metadata": {},
   "outputs": [],
   "source": [
    "''' Using for loop and if else condition that if vowel available in string then dont add count in consonant if not available then add'''\n",
    "\n",
    "for i in Str:\n",
    "    if i ==\"a\" or i ==\"e\" or i ==\"i\" or i ==\"o\" or i ==\"u\":\n",
    "        consonant  = consonant\n",
    "    else:\n",
    "        consonant = consonant+1"
   ]
  },
  {
   "cell_type": "code",
   "execution_count": 87,
   "id": "e06568e3-779f-4c3e-8ecf-cab8aa8992ee",
   "metadata": {},
   "outputs": [
    {
     "data": {
      "text/plain": [
       "30"
      ]
     },
     "execution_count": 87,
     "metadata": {},
     "output_type": "execute_result"
    }
   ],
   "source": [
    "'''Total No of constant in string'''\n",
    "consonant"
   ]
  },
  {
   "cell_type": "markdown",
   "id": "fa0aa390-e617-40a1-bfbf-252f19cde315",
   "metadata": {},
   "source": [
    "****Answer-7****"
   ]
  },
  {
   "cell_type": "code",
   "execution_count": 90,
   "id": "bd8adb5a-3115-4665-847f-310c2aec9c11",
   "metadata": {},
   "outputs": [],
   "source": [
    "'''Taken a variable and assigned a string'''\n",
    "m = \"Hi my name is harsh gupta im learning python and practicing as well\""
   ]
  },
  {
   "cell_type": "code",
   "execution_count": 95,
   "id": "b00ce30e-79e6-4303-9014-664ca5ab25d7",
   "metadata": {},
   "outputs": [
    {
     "data": {
      "text/plain": [
       "'Himynameisharshguptaimlearningpythonandpracticingaswell'"
      ]
     },
     "execution_count": 95,
     "metadata": {},
     "output_type": "execute_result"
    }
   ],
   "source": [
    "'''Using replace to remoove all whitespaces from string'''\n",
    "\n",
    "m.replace(\" \",\"\")"
   ]
  },
  {
   "cell_type": "markdown",
   "id": "ec315b54-314c-4fa0-947d-9128ed61f9fc",
   "metadata": {},
   "source": [
    "****Answer-8****"
   ]
  },
  {
   "cell_type": "code",
   "execution_count": 146,
   "id": "0abd9d4f-94ab-421e-8e38-db0b9645d72c",
   "metadata": {},
   "outputs": [],
   "source": [
    "S = \"harsh\"\n",
    "count = 0"
   ]
  },
  {
   "cell_type": "code",
   "execution_count": 147,
   "id": "3e0f6ec0-fbec-49ef-b532-8cf5d339c530",
   "metadata": {},
   "outputs": [],
   "source": [
    "'''used for loop to find length of the string'''\n",
    "\n",
    "for i in S:\n",
    "    count = count+1"
   ]
  },
  {
   "cell_type": "code",
   "execution_count": 150,
   "id": "be2a37c4-6ad1-4a83-973e-397764b66ade",
   "metadata": {},
   "outputs": [
    {
     "data": {
      "text/plain": [
       "5"
      ]
     },
     "execution_count": 150,
     "metadata": {},
     "output_type": "execute_result"
    }
   ],
   "source": [
    "count"
   ]
  },
  {
   "cell_type": "markdown",
   "id": "333d7a59-a408-4a47-b13d-61345376b0aa",
   "metadata": {},
   "source": [
    "****Answer-9****"
   ]
  },
  {
   "cell_type": "code",
   "execution_count": 151,
   "id": "976f4b09-8312-4499-90c3-dc0e01223e36",
   "metadata": {},
   "outputs": [],
   "source": [
    "a = \"Almond Solution\""
   ]
  },
  {
   "cell_type": "code",
   "execution_count": 165,
   "id": "f5b217bd-7b1c-44ea-9f4c-169070b9fb42",
   "metadata": {},
   "outputs": [
    {
     "name": "stdout",
     "output_type": "stream",
     "text": [
      "No\n",
      "No\n",
      "No\n",
      "No\n",
      "No\n",
      "No\n",
      "No\n",
      "No\n",
      "No\n",
      "No\n",
      "No\n",
      "yes\n",
      "No\n",
      "No\n",
      "No\n"
     ]
    }
   ],
   "source": [
    "''' for check string contain specific word used for loop\n",
    "     and i given condition if t is available in string then\n",
    "     print yes else print NO'''\n",
    "\n",
    "for i in a:\n",
    "    if i ==\"t\":\n",
    "        print(\"yes\")\n",
    "    else:\n",
    "        print(\"No\")\n",
    "         \n",
    "        "
   ]
  },
  {
   "cell_type": "markdown",
   "id": "d7748710-253f-4e64-afc5-170fba242d28",
   "metadata": {},
   "source": [
    "****Answer-10****"
   ]
  },
  {
   "cell_type": "code",
   "execution_count": 166,
   "id": "1e930e9e-1b38-489e-937d-699cd23ad922",
   "metadata": {},
   "outputs": [],
   "source": [
    "R = \"harsh gupta\""
   ]
  },
  {
   "cell_type": "code",
   "execution_count": 168,
   "id": "71359d3a-629b-4188-8ca8-72ec690c91e4",
   "metadata": {},
   "outputs": [
    {
     "data": {
      "text/plain": [
       "'marsm gupta'"
      ]
     },
     "execution_count": 168,
     "metadata": {},
     "output_type": "execute_result"
    }
   ],
   "source": [
    "'''using Replace function i replace a word h with m'''\n",
    "\n",
    "R.replace(\"h\",\"m\")"
   ]
  },
  {
   "cell_type": "markdown",
   "id": "89206513-1753-48a2-a757-c03627a79200",
   "metadata": {},
   "source": [
    "****Answer-11****"
   ]
  },
  {
   "cell_type": "code",
   "execution_count": 173,
   "id": "4de03bfb-689b-49ed-bc8c-072ea156e3e4",
   "metadata": {},
   "outputs": [],
   "source": [
    "C = \"PW Skills\""
   ]
  },
  {
   "cell_type": "code",
   "execution_count": 175,
   "id": "c3d9c668-8596-4e26-ba36-b99df3a3f1c8",
   "metadata": {},
   "outputs": [
    {
     "data": {
      "text/plain": [
       "2"
      ]
     },
     "execution_count": 175,
     "metadata": {},
     "output_type": "execute_result"
    }
   ],
   "source": [
    "'''Using count fnction and given word l to check occurnace of this word and get output'''\n",
    "\n",
    "C.count(\"l\")"
   ]
  },
  {
   "cell_type": "markdown",
   "id": "4f2c6f0c-f908-49fb-8df1-06917c8233e6",
   "metadata": {},
   "source": [
    "****Answer-12****"
   ]
  },
  {
   "cell_type": "code",
   "execution_count": 176,
   "id": "7aa702d0-8c9d-444c-a779-da56bad632bb",
   "metadata": {},
   "outputs": [],
   "source": [
    "F = \"PW Skills classes\""
   ]
  },
  {
   "cell_type": "code",
   "execution_count": 179,
   "id": "883c46e5-baad-4287-9088-0c9dca8833bf",
   "metadata": {},
   "outputs": [
    {
     "data": {
      "text/plain": [
       "6"
      ]
     },
     "execution_count": 179,
     "metadata": {},
     "output_type": "execute_result"
    }
   ],
   "source": [
    "''' To find first occurance of string used find function\n",
    "    which return me index No of first occurance of that word'''\n",
    "\n",
    "F.find(\"l\")"
   ]
  },
  {
   "cell_type": "markdown",
   "id": "f0bce3bc-56bd-4e55-bc5e-ca402324a516",
   "metadata": {},
   "source": [
    "****Answer-13****"
   ]
  },
  {
   "cell_type": "code",
   "execution_count": 181,
   "id": "59bf8934-69bc-45bb-bd29-125517677fbe",
   "metadata": {},
   "outputs": [],
   "source": [
    "x = \"PW Skills classes\""
   ]
  },
  {
   "cell_type": "code",
   "execution_count": 183,
   "id": "5bc3d360-c20b-49d4-a85e-d5278b64209a",
   "metadata": {},
   "outputs": [
    {
     "data": {
      "text/plain": [
       "11"
      ]
     },
     "execution_count": 183,
     "metadata": {},
     "output_type": "execute_result"
    }
   ],
   "source": [
    "''' usied rfind function which help me to find last occurance for word l'''\n",
    "\n",
    "x.rfind(\"l\")"
   ]
  },
  {
   "cell_type": "markdown",
   "id": "2289343d-5023-4c19-a85b-03fc0f349f0f",
   "metadata": {},
   "source": [
    "****Answer-14****"
   ]
  },
  {
   "cell_type": "code",
   "execution_count": 3,
   "id": "e87b0459-3df4-4db9-8875-e0f0057df575",
   "metadata": {},
   "outputs": [],
   "source": [
    "s = \"Harsh is data science aspirants\""
   ]
  },
  {
   "cell_type": "code",
   "execution_count": 4,
   "id": "47152f3b-046c-404a-b5da-8837f67b110b",
   "metadata": {},
   "outputs": [
    {
     "data": {
      "text/plain": [
       "['Harsh', 'is', 'data', 'science', 'aspirants']"
      ]
     },
     "execution_count": 4,
     "metadata": {},
     "output_type": "execute_result"
    }
   ],
   "source": [
    "s.split()"
   ]
  },
  {
   "cell_type": "markdown",
   "id": "7f1c8393-c739-4dd2-9925-a354b97347ff",
   "metadata": {},
   "source": [
    "****Answer-15****"
   ]
  },
  {
   "cell_type": "code",
   "execution_count": 7,
   "id": "857a4c83-5354-4f00-a860-fc590b0e7fa9",
   "metadata": {},
   "outputs": [],
   "source": [
    "a = [\"h\",\"a\",\"r\",\"s\",\"h\"]"
   ]
  },
  {
   "cell_type": "code",
   "execution_count": 21,
   "id": "06c9c32d-b5b5-4222-ad37-07acd01b023f",
   "metadata": {},
   "outputs": [],
   "source": [
    "'''Using join function to concat word in to string''' \n",
    "\n",
    "s = (\"\".join(a))"
   ]
  },
  {
   "cell_type": "code",
   "execution_count": 24,
   "id": "b35efc71-81eb-423c-a75d-3c412c4a1935",
   "metadata": {},
   "outputs": [
    {
     "data": {
      "text/plain": [
       "'harsh'"
      ]
     },
     "execution_count": 24,
     "metadata": {},
     "output_type": "execute_result"
    }
   ],
   "source": [
    "s"
   ]
  },
  {
   "cell_type": "markdown",
   "id": "7e163a45-46ae-4c1a-a568-4b2d6d721ae9",
   "metadata": {},
   "source": [
    "****Answer-16****"
   ]
  },
  {
   "cell_type": "code",
   "execution_count": 25,
   "id": "cfdd86b0-57f5-492f-ba6b-3f57762de581",
   "metadata": {},
   "outputs": [],
   "source": [
    "''' String where word are seperated by spaces'''\n",
    "q = \"Harsh is student of PWSkills and he is learning python\""
   ]
  },
  {
   "cell_type": "code",
   "execution_count": 27,
   "id": "9ea1e3dc-c0af-471b-8857-352c5605aa62",
   "metadata": {},
   "outputs": [
    {
     "data": {
      "text/plain": [
       "'Harsh_is_student_of_PWSkills_and_he_is_learning_python'"
      ]
     },
     "execution_count": 27,
     "metadata": {},
     "output_type": "execute_result"
    }
   ],
   "source": [
    "q.replace(\" \",\"_\")"
   ]
  },
  {
   "cell_type": "markdown",
   "id": "8044eeb3-c26f-40bf-b7e3-dcfd96397dd1",
   "metadata": {},
   "source": [
    "****Answer-19****"
   ]
  },
  {
   "cell_type": "code",
   "execution_count": 21,
   "id": "e6702521-671b-49dc-b1f9-7cf5fa0484ba",
   "metadata": {},
   "outputs": [],
   "source": [
    "'''taken variable k and assigned an string'''\n",
    "\n",
    "k = \"hello world\""
   ]
  },
  {
   "cell_type": "code",
   "execution_count": 22,
   "id": "d24d8e00-03e9-4d01-9fb4-8bf872e12dbf",
   "metadata": {},
   "outputs": [
    {
     "data": {
      "text/plain": [
       "'Hello World'"
      ]
     },
     "execution_count": 22,
     "metadata": {},
     "output_type": "execute_result"
    }
   ],
   "source": [
    "k.title()"
   ]
  },
  {
   "cell_type": "markdown",
   "id": "4c480e12-b250-4391-a53c-b1061db99b29",
   "metadata": {},
   "source": [
    "****Answer-20****"
   ]
  },
  {
   "cell_type": "code",
   "execution_count": 23,
   "id": "9a134344-3bd0-4f41-8e4a-ced359235012",
   "metadata": {},
   "outputs": [],
   "source": [
    "a = \"Hello everyone good morning this is python class\""
   ]
  },
  {
   "cell_type": "code",
   "execution_count": 26,
   "id": "9b0bf87c-b652-4b27-ab27-5ffc296263de",
   "metadata": {},
   "outputs": [],
   "source": [
    "l = a.split()"
   ]
  },
  {
   "cell_type": "code",
   "execution_count": 30,
   "id": "2da53daf-b94d-4454-b3fe-410146c8b9bc",
   "metadata": {},
   "outputs": [
    {
     "data": {
      "text/plain": [
       "['Hello', 'everyone', 'good', 'morning', 'this', 'is', 'python', 'class']"
      ]
     },
     "execution_count": 30,
     "metadata": {},
     "output_type": "execute_result"
    }
   ],
   "source": [
    "l"
   ]
  },
  {
   "cell_type": "markdown",
   "id": "c0e2e323-6f6b-4a1f-80bc-1ec99fb97aef",
   "metadata": {},
   "source": [
    "****Answer-22****"
   ]
  },
  {
   "cell_type": "code",
   "execution_count": 7,
   "id": "a4c945f6-b095-4ffa-a633-947892825714",
   "metadata": {},
   "outputs": [],
   "source": [
    "a = \"my name is harsh\""
   ]
  },
  {
   "cell_type": "code",
   "execution_count": 9,
   "id": "403de626-bba4-4586-a811-87d9a13e2b69",
   "metadata": {},
   "outputs": [
    {
     "data": {
      "text/plain": [
       "'hsrah si eman ym'"
      ]
     },
     "execution_count": 9,
     "metadata": {},
     "output_type": "execute_result"
    }
   ],
   "source": [
    "a[-1::-1]"
   ]
  },
  {
   "cell_type": "markdown",
   "id": "ecbcbdf5-6ba2-4370-89fc-545653458ac1",
   "metadata": {},
   "source": [
    "****Answer-23*"
   ]
  },
  {
   "cell_type": "code",
   "execution_count": 10,
   "id": "721933b8-df28-41d3-b2d1-c377a713ba59",
   "metadata": {},
   "outputs": [],
   "source": [
    "s1 = \"fa34snfj4\""
   ]
  },
  {
   "cell_type": "code",
   "execution_count": 12,
   "id": "99e4f1f8-7431-4584-8c7b-4e8e591e63c1",
   "metadata": {},
   "outputs": [
    {
     "data": {
      "text/plain": [
       "True"
      ]
     },
     "execution_count": 12,
     "metadata": {},
     "output_type": "execute_result"
    }
   ],
   "source": [
    "s1.isalnum()"
   ]
  },
  {
   "cell_type": "markdown",
   "id": "0005a727-1871-467e-bcb5-de390a9d5835",
   "metadata": {},
   "source": [
    "****Answer-29****"
   ]
  },
  {
   "cell_type": "code",
   "execution_count": 2,
   "id": "ac9959c0-fd77-48a2-b4b9-60c714622297",
   "metadata": {},
   "outputs": [],
   "source": [
    "a = \"fhgj2344dggg\""
   ]
  },
  {
   "cell_type": "code",
   "execution_count": 3,
   "id": "d6bbd5cb-15d2-4ba6-9496-6768e2380d2a",
   "metadata": {},
   "outputs": [
    {
     "data": {
      "text/plain": [
       "'hgj2344dggg'"
      ]
     },
     "execution_count": 3,
     "metadata": {},
     "output_type": "execute_result"
    }
   ],
   "source": [
    "a.strip('f')"
   ]
  },
  {
   "cell_type": "markdown",
   "id": "816744ae-7382-4ba5-8f11-71d648f4d573",
   "metadata": {},
   "source": [
    "****Answer-31****"
   ]
  },
  {
   "cell_type": "code",
   "execution_count": 10,
   "id": "1421f744-6a27-4ac6-8f8d-595a25269cef",
   "metadata": {},
   "outputs": [],
   "source": [
    "a1 = \"harsh.hg89@gmail.com\""
   ]
  },
  {
   "cell_type": "code",
   "execution_count": 12,
   "id": "e10d5fc6-116a-4a12-94e0-c821e7032372",
   "metadata": {},
   "outputs": [
    {
     "data": {
      "text/plain": [
       "'harsh'"
      ]
     },
     "execution_count": 12,
     "metadata": {},
     "output_type": "execute_result"
    }
   ],
   "source": [
    "a1[0:5:]"
   ]
  },
  {
   "cell_type": "markdown",
   "id": "a5038934-2089-471b-9351-ff05b78ee284",
   "metadata": {},
   "source": [
    "*****Answer-32****"
   ]
  },
  {
   "cell_type": "code",
   "execution_count": 14,
   "id": "40e9d692-fbb0-456b-8058-2fd8f56d0113",
   "metadata": {},
   "outputs": [],
   "source": [
    "a2 = \"harsh.hg89@gmail.com\""
   ]
  },
  {
   "cell_type": "code",
   "execution_count": 33,
   "id": "7f1d0dde-aa66-423f-a094-44faa48cd385",
   "metadata": {},
   "outputs": [
    {
     "data": {
      "text/plain": [
       "'gmail.com'"
      ]
     },
     "execution_count": 33,
     "metadata": {},
     "output_type": "execute_result"
    }
   ],
   "source": [
    "a2[11:]"
   ]
  },
  {
   "cell_type": "markdown",
   "id": "2965ee9a-38f0-43e2-b76b-5b6432c8eabb",
   "metadata": {},
   "source": [
    "****Answer-35****"
   ]
  },
  {
   "cell_type": "code",
   "execution_count": 54,
   "id": "05119195-e023-4cb1-8d13-33699aa48feb",
   "metadata": {},
   "outputs": [],
   "source": [
    "a3 = \"https://youtube.com/\""
   ]
  },
  {
   "cell_type": "code",
   "execution_count": 56,
   "id": "95e532c5-29e4-4d55-856d-a5969d11b7f3",
   "metadata": {},
   "outputs": [
    {
     "data": {
      "text/plain": [
       "'https'"
      ]
     },
     "execution_count": 56,
     "metadata": {},
     "output_type": "execute_result"
    }
   ],
   "source": [
    "a3[0:5]"
   ]
  },
  {
   "cell_type": "markdown",
   "id": "b8bcfc7a-cd4f-4afb-9ed2-db6b90d6670a",
   "metadata": {},
   "source": [
    "****Answer-38****"
   ]
  },
  {
   "cell_type": "code",
   "execution_count": 57,
   "id": "e6f03c14-4ff1-42b4-bad1-02acb1f66c74",
   "metadata": {},
   "outputs": [],
   "source": [
    "a4 = \"hadnf5663\""
   ]
  },
  {
   "cell_type": "code",
   "execution_count": 59,
   "id": "bfb0e17a-08ee-4bef-acd8-2df80797062e",
   "metadata": {},
   "outputs": [
    {
     "data": {
      "text/plain": [
       "False"
      ]
     },
     "execution_count": 59,
     "metadata": {},
     "output_type": "execute_result"
    }
   ],
   "source": [
    "a4.isnumeric()"
   ]
  },
  {
   "cell_type": "markdown",
   "id": "d15b25d7-700e-4259-9b09-9797bfaf4fe5",
   "metadata": {},
   "source": [
    "****Answer-39****"
   ]
  },
  {
   "cell_type": "code",
   "execution_count": 60,
   "id": "06206c89-8a46-43ad-a940-72f6f965f5f9",
   "metadata": {},
   "outputs": [],
   "source": [
    "a5 = \"dkfnkfm24343\""
   ]
  },
  {
   "cell_type": "code",
   "execution_count": 62,
   "id": "bfe6fba8-0e99-4c8b-9846-1d51e009ec29",
   "metadata": {},
   "outputs": [
    {
     "data": {
      "text/plain": [
       "False"
      ]
     },
     "execution_count": 62,
     "metadata": {},
     "output_type": "execute_result"
    }
   ],
   "source": [
    "a5.isalpha()"
   ]
  },
  {
   "cell_type": "markdown",
   "id": "ef49706d-6fef-464c-9930-6a9d7b9c98aa",
   "metadata": {},
   "source": [
    "****Answer-40****"
   ]
  },
  {
   "cell_type": "code",
   "execution_count": 19,
   "id": "fa2e3adc-75d5-435b-b2cb-fc0eede5df88",
   "metadata": {},
   "outputs": [],
   "source": [
    "a6 = \"Harsh\""
   ]
  },
  {
   "cell_type": "code",
   "execution_count": 20,
   "id": "1e98a8f2-f7f2-44ac-9000-fed9071dbbd7",
   "metadata": {},
   "outputs": [
    {
     "data": {
      "text/plain": [
       "['H', 'a', 'r', 's', 'h']"
      ]
     },
     "execution_count": 20,
     "metadata": {},
     "output_type": "execute_result"
    }
   ],
   "source": [
    "list(a6)"
   ]
  },
  {
   "cell_type": "markdown",
   "id": "69305112-838f-4a92-90be-2bded93c73e4",
   "metadata": {},
   "source": [
    "****Answer-41****"
   ]
  },
  {
   "cell_type": "code",
   "execution_count": 28,
   "id": "a8dc36ff-bd95-4963-a9c3-3c59ec0a05e1",
   "metadata": {},
   "outputs": [],
   "source": [
    "a7 = \"cat\""
   ]
  },
  {
   "cell_type": "code",
   "execution_count": 24,
   "id": "9525dc99-32da-4870-aff2-400b53e53f84",
   "metadata": {},
   "outputs": [],
   "source": [
    "a8 = \"act\""
   ]
  },
  {
   "cell_type": "code",
   "execution_count": 31,
   "id": "87b16bc6-598a-4d45-9ccd-9d0237baba83",
   "metadata": {},
   "outputs": [],
   "source": [
    "def check(a7,a8):\n",
    "    if(sorted(a7)==sorted(a8)):\n",
    "        print(\"its ana\")\n",
    "    else:\n",
    "        print(\"its not\")"
   ]
  },
  {
   "cell_type": "markdown",
   "id": "d6d8eff0-2f09-40c8-ab12-9e8e98feef1a",
   "metadata": {},
   "source": [
    "****Answer-45****"
   ]
  },
  {
   "cell_type": "code",
   "execution_count": 33,
   "id": "b58884a8-8d74-40ff-9670-9853845af6e9",
   "metadata": {},
   "outputs": [],
   "source": [
    "s1 = \"aaabbbccc\""
   ]
  },
  {
   "cell_type": "code",
   "execution_count": 44,
   "id": "7c7ba0cb-8151-49cc-ba49-135d462ff30f",
   "metadata": {},
   "outputs": [
    {
     "data": {
      "text/plain": [
       "{'a', 'b', 'c'}"
      ]
     },
     "execution_count": 44,
     "metadata": {},
     "output_type": "execute_result"
    }
   ],
   "source": [
    "set(s1)"
   ]
  },
  {
   "cell_type": "code",
   "execution_count": 46,
   "id": "86fdacde-d714-4b50-b791-ca5d464ff087",
   "metadata": {},
   "outputs": [
    {
     "data": {
      "text/plain": [
       "3"
      ]
     },
     "execution_count": 46,
     "metadata": {},
     "output_type": "execute_result"
    }
   ],
   "source": [
    "len(set(s1))"
   ]
  },
  {
   "cell_type": "markdown",
   "id": "2aa479fa-68f8-4077-a8d3-f719e8d6c400",
   "metadata": {},
   "source": [
    "****Answer-47****"
   ]
  },
  {
   "cell_type": "code",
   "execution_count": 49,
   "id": "8c382888-8697-4ce8-9fb9-58b0a1a59ef2",
   "metadata": {},
   "outputs": [],
   "source": [
    "s2 = \"harsh\""
   ]
  },
  {
   "cell_type": "code",
   "execution_count": 51,
   "id": "da0a921b-c2e9-4fa5-a34b-8ffc38703e7a",
   "metadata": {},
   "outputs": [
    {
     "ename": "SyntaxError",
     "evalue": "invalid syntax (476066579.py, line 1)",
     "output_type": "error",
     "traceback": [
      "\u001b[0;36m  Cell \u001b[0;32mIn[51], line 1\u001b[0;36m\u001b[0m\n\u001b[0;31m    s2.\u001b[0m\n\u001b[0m       ^\u001b[0m\n\u001b[0;31mSyntaxError\u001b[0m\u001b[0;31m:\u001b[0m invalid syntax\n"
     ]
    }
   ],
   "source": [
    "s2."
   ]
  },
  {
   "cell_type": "code",
   "execution_count": 52,
   "id": "3a10bab5-b58b-40a9-a4c8-8b1d03166047",
   "metadata": {},
   "outputs": [],
   "source": [
    "a = \"Harsh\""
   ]
  },
  {
   "cell_type": "code",
   "execution_count": 1,
   "id": "667a6cf8-d128-4570-be3b-85f70fd66bab",
   "metadata": {},
   "outputs": [
    {
     "ename": "SyntaxError",
     "evalue": "cannot delete function call (3284277842.py, line 1)",
     "output_type": "error",
     "traceback": [
      "\u001b[0;36m  Cell \u001b[0;32mIn[1], line 1\u001b[0;36m\u001b[0m\n\u001b[0;31m    del a(1)\u001b[0m\n\u001b[0m        ^\u001b[0m\n\u001b[0;31mSyntaxError\u001b[0m\u001b[0;31m:\u001b[0m cannot delete function call\n"
     ]
    }
   ],
   "source": [
    "del a(1)"
   ]
  },
  {
   "cell_type": "markdown",
   "id": "a725a2c6-eea3-4694-a804-a488429631d9",
   "metadata": {},
   "source": [
    "***List Based Question***"
   ]
  },
  {
   "cell_type": "markdown",
   "id": "20ab6dc5-f1f4-460a-a4eb-164b6379fcee",
   "metadata": {},
   "source": [
    "****Answer-1****"
   ]
  },
  {
   "cell_type": "code",
   "execution_count": 2,
   "id": "8e482c61-9b46-4b16-bed7-f00e0264d02d",
   "metadata": {},
   "outputs": [],
   "source": [
    "L = [1,2,3,4,5,6,7,8,9,10]"
   ]
  },
  {
   "cell_type": "code",
   "execution_count": 4,
   "id": "cbca09cd-4500-44f2-9d02-0704b96479f5",
   "metadata": {},
   "outputs": [
    {
     "data": {
      "text/plain": [
       "list"
      ]
     },
     "execution_count": 4,
     "metadata": {},
     "output_type": "execute_result"
    }
   ],
   "source": [
    "type(L)"
   ]
  },
  {
   "cell_type": "markdown",
   "id": "408f23c0-61bb-4d5d-8ea7-32f2a56965c3",
   "metadata": {},
   "source": [
    "****Answer-2****"
   ]
  },
  {
   "cell_type": "code",
   "execution_count": 18,
   "id": "253b1bab-a3fc-4aa1-b223-2c85afdfc4ec",
   "metadata": {},
   "outputs": [],
   "source": [
    "L1 = [\"Harsh\",\"Abhi\",\"Raj\",1,2,4,5]"
   ]
  },
  {
   "cell_type": "code",
   "execution_count": 19,
   "id": "44627e31-05c6-4726-834a-da651ba44c67",
   "metadata": {},
   "outputs": [],
   "source": [
    "count = 0"
   ]
  },
  {
   "cell_type": "code",
   "execution_count": 20,
   "id": "e97c842b-b3a2-49f9-8091-72124a239439",
   "metadata": {},
   "outputs": [],
   "source": [
    "for i in L1:\n",
    "    count = count+1"
   ]
  },
  {
   "cell_type": "code",
   "execution_count": 22,
   "id": "caf4d65e-edbb-4001-b4b3-c0a09fe5647e",
   "metadata": {},
   "outputs": [
    {
     "data": {
      "text/plain": [
       "7"
      ]
     },
     "execution_count": 22,
     "metadata": {},
     "output_type": "execute_result"
    }
   ],
   "source": [
    "count"
   ]
  },
  {
   "cell_type": "markdown",
   "id": "f0773a20-8592-4a17-8391-6e2f36587189",
   "metadata": {},
   "source": [
    "****Answer-3****"
   ]
  },
  {
   "cell_type": "code",
   "execution_count": 23,
   "id": "ddc263d6-b4a2-4839-97c4-d0e805137a16",
   "metadata": {},
   "outputs": [],
   "source": [
    "L2 = [\"harsh\",\"pw\",\"maths\"]"
   ]
  },
  {
   "cell_type": "code",
   "execution_count": 32,
   "id": "97d4452f-5f29-46c2-b0b6-725061a083ea",
   "metadata": {},
   "outputs": [],
   "source": [
    "L2.append(\"Chemistry\")"
   ]
  },
  {
   "cell_type": "code",
   "execution_count": 34,
   "id": "aa23cde1-e0d2-4438-9475-3604cbc282e6",
   "metadata": {},
   "outputs": [
    {
     "data": {
      "text/plain": [
       "['harsh',\n",
       " 'pw',\n",
       " 'maths',\n",
       " 'Chemistry',\n",
       " 'Chemistry',\n",
       " 'Chemistry',\n",
       " 'Chemistry',\n",
       " 'Chemistry',\n",
       " 'Chemistry',\n",
       " 'Chemistry']"
      ]
     },
     "execution_count": 34,
     "metadata": {},
     "output_type": "execute_result"
    }
   ],
   "source": [
    "L2"
   ]
  },
  {
   "cell_type": "markdown",
   "id": "32e32a76-c30b-42bc-a650-b8de09d57eb4",
   "metadata": {},
   "source": [
    "****Answer-4****"
   ]
  },
  {
   "cell_type": "code",
   "execution_count": 36,
   "id": "e1e30920-346b-4ae0-803d-5f67eb36d729",
   "metadata": {},
   "outputs": [],
   "source": [
    "L3 = [\"Physics\",\"Chemistry\",\"Maths\"]"
   ]
  },
  {
   "cell_type": "code",
   "execution_count": 40,
   "id": "048609a4-b31b-4df0-9504-c56f29f42f37",
   "metadata": {},
   "outputs": [],
   "source": [
    "L3.insert(2,\"Biology\")"
   ]
  },
  {
   "cell_type": "code",
   "execution_count": 42,
   "id": "97fa3105-525f-4df4-90ea-e84925d17c27",
   "metadata": {},
   "outputs": [
    {
     "data": {
      "text/plain": [
       "['Physics', 'Chemistry', 'Biology', 'Maths']"
      ]
     },
     "execution_count": 42,
     "metadata": {},
     "output_type": "execute_result"
    }
   ],
   "source": [
    "L3"
   ]
  },
  {
   "cell_type": "markdown",
   "id": "f8a27a8e-8e5a-4730-8b88-efa94d55db53",
   "metadata": {},
   "source": [
    "****Answer-5****"
   ]
  },
  {
   "cell_type": "code",
   "execution_count": 60,
   "id": "cfedcbee-4a41-4ac7-808e-05aaa6decbc8",
   "metadata": {},
   "outputs": [],
   "source": [
    "L4 =[\"Almond\",\"atechnos\",\"Wipro\",\"Google\"]"
   ]
  },
  {
   "cell_type": "code",
   "execution_count": 63,
   "id": "64fcd72c-8c9f-4544-bf0d-02e98441fc11",
   "metadata": {},
   "outputs": [],
   "source": [
    "L4.remove(\"Almond\")"
   ]
  },
  {
   "cell_type": "code",
   "execution_count": 65,
   "id": "20165353-98a0-495e-a144-607b8d9de10e",
   "metadata": {},
   "outputs": [
    {
     "data": {
      "text/plain": [
       "['atechnos', 'Wipro', 'Google']"
      ]
     },
     "execution_count": 65,
     "metadata": {},
     "output_type": "execute_result"
    }
   ],
   "source": [
    "L4"
   ]
  },
  {
   "cell_type": "markdown",
   "id": "4ece67cb-56b3-40e4-818f-a8ae6387ba47",
   "metadata": {},
   "source": [
    "****Answer-6****"
   ]
  },
  {
   "cell_type": "code",
   "execution_count": 69,
   "id": "d384de29-dd0b-41e3-b9a4-6ad9f02ceebb",
   "metadata": {},
   "outputs": [],
   "source": [
    "L5 = [1,2,3,4,5,9]"
   ]
  },
  {
   "cell_type": "code",
   "execution_count": 70,
   "id": "b43dd8c1-72fe-48ef-acf2-09bf1f818a8f",
   "metadata": {},
   "outputs": [
    {
     "data": {
      "text/plain": [
       "2"
      ]
     },
     "execution_count": 70,
     "metadata": {},
     "output_type": "execute_result"
    }
   ],
   "source": [
    "L5.pop(1)"
   ]
  },
  {
   "cell_type": "code",
   "execution_count": 72,
   "id": "6654dadb-683b-4e9b-8ad1-df5e6ad0c8fc",
   "metadata": {},
   "outputs": [
    {
     "data": {
      "text/plain": [
       "[1, 3, 4, 5, 9]"
      ]
     },
     "execution_count": 72,
     "metadata": {},
     "output_type": "execute_result"
    }
   ],
   "source": [
    "L5"
   ]
  },
  {
   "cell_type": "markdown",
   "id": "1fc1cd19-a3da-45ab-8647-1c1446d1e803",
   "metadata": {},
   "source": [
    "****Answer-7****"
   ]
  },
  {
   "cell_type": "code",
   "execution_count": 2,
   "id": "175c2beb-f247-48b1-9e18-2f9e97415232",
   "metadata": {},
   "outputs": [],
   "source": [
    "L6 = [\"Harsh\",3,4,2,5,6]"
   ]
  },
  {
   "cell_type": "code",
   "execution_count": null,
   "id": "42c2349c-6e90-4673-9049-62310705a164",
   "metadata": {},
   "outputs": [
    {
     "data": {
      "text/plain": [
       "0"
      ]
     },
     "execution_count": 4,
     "metadata": {},
     "output_type": "execute_result"
    }
   ],
   "source": [
    "L6.index(\"Harsh\")"
   ]
  },
  {
   "cell_type": "markdown",
   "id": "a8e15af1-f2cf-4623-96c1-759e51b662cf",
   "metadata": {},
   "source": [
    "****Answer-8****"
   ]
  },
  {
   "cell_type": "code",
   "execution_count": 6,
   "id": "4dd62910-59c6-4225-9717-cb3ad9242781",
   "metadata": {},
   "outputs": [],
   "source": [
    "L7 = [\"Harsh\",\"Harsh\",6,4,5]"
   ]
  },
  {
   "cell_type": "code",
   "execution_count": 8,
   "id": "1cb685bf-28f5-49b2-a2ad-026c243b3a50",
   "metadata": {},
   "outputs": [
    {
     "data": {
      "text/plain": [
       "0"
      ]
     },
     "execution_count": 8,
     "metadata": {},
     "output_type": "execute_result"
    }
   ],
   "source": [
    "L7.index(\"Harsh\")"
   ]
  },
  {
   "cell_type": "markdown",
   "id": "5c0c4645-efbc-4280-92e6-d879c48fd7b4",
   "metadata": {},
   "source": [
    "****Answer-9****"
   ]
  },
  {
   "cell_type": "code",
   "execution_count": null,
   "id": "579f452e-c2a7-48b8-926c-d5d775f778b7",
   "metadata": {},
   "outputs": [],
   "source": [
    "L8 = [\"PW\",\"PW\",4,5,6]"
   ]
  },
  {
   "cell_type": "code",
   "execution_count": null,
   "id": "591b8b8f-97bd-4a1a-8a84-30e0a284c5ca",
   "metadata": {},
   "outputs": [
    {
     "data": {
      "text/plain": [
       "2"
      ]
     },
     "execution_count": 13,
     "metadata": {},
     "output_type": "execute_result"
    }
   ],
   "source": [
    "L8.count(\"PW\")"
   ]
  },
  {
   "cell_type": "markdown",
   "id": "d64279f2-3d64-4271-84dc-64981c5ed7d7",
   "metadata": {},
   "source": [
    "****Answer-11****"
   ]
  },
  {
   "cell_type": "code",
   "execution_count": 37,
   "id": "abcb10cb-6d0f-4827-a0f3-1e9b6be8101c",
   "metadata": {},
   "outputs": [],
   "source": [
    "L9 = [9,5,9,3,1,6]"
   ]
  },
  {
   "cell_type": "code",
   "execution_count": 39,
   "id": "7df8e1c6-e860-4aea-8dd9-3c905b3be87a",
   "metadata": {},
   "outputs": [],
   "source": [
    "L9.sort()"
   ]
  },
  {
   "cell_type": "code",
   "execution_count": 41,
   "id": "94971dff-4e65-4682-bda7-832f24c4b438",
   "metadata": {},
   "outputs": [
    {
     "data": {
      "text/plain": [
       "[1, 3, 5, 6, 9, 9]"
      ]
     },
     "execution_count": 41,
     "metadata": {},
     "output_type": "execute_result"
    }
   ],
   "source": [
    "L9"
   ]
  },
  {
   "cell_type": "markdown",
   "id": "28c77ab8-c948-4ee8-ba02-76849bf7322b",
   "metadata": {},
   "source": [
    "****Answer-12****"
   ]
  },
  {
   "cell_type": "code",
   "execution_count": 42,
   "id": "b2d5c8e5-4204-4361-92e9-254dd453ee79",
   "metadata": {},
   "outputs": [],
   "source": [
    "L10 = [1,2,3,4,5,6,7,8]"
   ]
  },
  {
   "cell_type": "code",
   "execution_count": 57,
   "id": "06a9ee1b-e1d5-45fc-99c7-9489b5cd7efd",
   "metadata": {},
   "outputs": [],
   "source": [
    "L10.sort(reverse=True)"
   ]
  },
  {
   "cell_type": "code",
   "execution_count": 59,
   "id": "ab98821d-c39a-4eeb-b9ac-b26320c6eac0",
   "metadata": {},
   "outputs": [
    {
     "data": {
      "text/plain": [
       "[8, 7, 6, 5, 4, 3, 2, 1]"
      ]
     },
     "execution_count": 59,
     "metadata": {},
     "output_type": "execute_result"
    }
   ],
   "source": [
    "L10"
   ]
  },
  {
   "cell_type": "markdown",
   "id": "9c60510b-c337-49f8-a001-ffdd014a9d22",
   "metadata": {},
   "source": [
    "****Answer-13****"
   ]
  },
  {
   "cell_type": "code",
   "execution_count": 90,
   "id": "64b8f2f0-9e96-4f38-b948-84b0a29c70bc",
   "metadata": {},
   "outputs": [],
   "source": [
    "even_number =[]"
   ]
  },
  {
   "cell_type": "code",
   "execution_count": 91,
   "id": "522eba58-bd8f-4e96-9b23-e8e7b70c687b",
   "metadata": {},
   "outputs": [
    {
     "name": "stdout",
     "output_type": "stream",
     "text": [
      "[2]\n",
      "[2, 4]\n",
      "[2, 4, 6]\n",
      "[2, 4, 6, 8]\n",
      "[2, 4, 6, 8, 10]\n",
      "[2, 4, 6, 8, 10, 12]\n",
      "[2, 4, 6, 8, 10, 12, 14]\n",
      "[2, 4, 6, 8, 10, 12, 14, 16]\n",
      "[2, 4, 6, 8, 10, 12, 14, 16, 18]\n",
      "[2, 4, 6, 8, 10, 12, 14, 16, 18, 20]\n"
     ]
    }
   ],
   "source": [
    "for i in range(1,11):\n",
    "    even_number.append(i*2)\n",
    "    print(even_number)"
   ]
  },
  {
   "cell_type": "markdown",
   "id": "58bceb17-957d-421e-a4af-70ba87fa2005",
   "metadata": {},
   "source": [
    "****Answer-14****"
   ]
  },
  {
   "cell_type": "code",
   "execution_count": 93,
   "id": "b7d25876-ab86-42b2-8fe1-3fb1a448ce39",
   "metadata": {},
   "outputs": [],
   "source": [
    "odd_number = []"
   ]
  },
  {
   "cell_type": "code",
   "execution_count": 94,
   "id": "236a9719-750a-4e19-9446-e462f8c5aeb5",
   "metadata": {},
   "outputs": [
    {
     "name": "stdout",
     "output_type": "stream",
     "text": [
      "[1]\n",
      "[1, 3]\n",
      "[1, 3, 5]\n",
      "[1, 3, 5, 7]\n",
      "[1, 3, 5, 7, 9]\n",
      "[1, 3, 5, 7, 9, 11]\n",
      "[1, 3, 5, 7, 9, 11, 13]\n",
      "[1, 3, 5, 7, 9, 11, 13, 15]\n",
      "[1, 3, 5, 7, 9, 11, 13, 15, 17]\n",
      "[1, 3, 5, 7, 9, 11, 13, 15, 17, 19]\n"
     ]
    }
   ],
   "source": [
    "for i in range(0,10):\n",
    "    odd_number.append(i*2+1)\n",
    "    print(odd_number)"
   ]
  },
  {
   "cell_type": "markdown",
   "id": "d08144a1-b777-4407-bc87-5ee66b7c327c",
   "metadata": {},
   "source": [
    "****Answer-15****"
   ]
  },
  {
   "cell_type": "code",
   "execution_count": 96,
   "id": "d7763f61-e8f9-421d-9c4d-0fad9d7237ee",
   "metadata": {},
   "outputs": [],
   "source": [
    "L12 = [3,4,2,5,7,9]"
   ]
  },
  {
   "cell_type": "code",
   "execution_count": 99,
   "id": "a0298988-e230-463e-9a78-0d8b67befc23",
   "metadata": {},
   "outputs": [
    {
     "data": {
      "text/plain": [
       "30"
      ]
     },
     "execution_count": 99,
     "metadata": {},
     "output_type": "execute_result"
    }
   ],
   "source": [
    "sum(L12)"
   ]
  },
  {
   "cell_type": "markdown",
   "id": "c41a760e-f1f0-4cb2-9bc4-02a090f40cb2",
   "metadata": {},
   "source": [
    "****Answer-16****"
   ]
  },
  {
   "cell_type": "code",
   "execution_count": 100,
   "id": "da365fbe-1c29-4080-9e49-c71c7abd45bb",
   "metadata": {},
   "outputs": [],
   "source": [
    "L13 = [9,2,4,6,1,5]"
   ]
  },
  {
   "cell_type": "code",
   "execution_count": 102,
   "id": "9d04a0cc-d13e-41e8-987d-505f83a11279",
   "metadata": {},
   "outputs": [
    {
     "data": {
      "text/plain": [
       "9"
      ]
     },
     "execution_count": 102,
     "metadata": {},
     "output_type": "execute_result"
    }
   ],
   "source": [
    "max(L13)"
   ]
  },
  {
   "cell_type": "markdown",
   "id": "6eb6c9ea-a2ed-4c0d-94f2-b3817707afda",
   "metadata": {},
   "source": [
    "****Answer-17****"
   ]
  },
  {
   "cell_type": "code",
   "execution_count": 103,
   "id": "8d4e477f-2f5d-4587-be14-a2494b835fc8",
   "metadata": {},
   "outputs": [],
   "source": [
    "L14 = [91,2,4,1,5,8,3]"
   ]
  },
  {
   "cell_type": "code",
   "execution_count": 105,
   "id": "6543f4be-fab7-4f5f-9e68-3cf115243b05",
   "metadata": {},
   "outputs": [
    {
     "data": {
      "text/plain": [
       "1"
      ]
     },
     "execution_count": 105,
     "metadata": {},
     "output_type": "execute_result"
    }
   ],
   "source": [
    "min(L14)"
   ]
  },
  {
   "cell_type": "markdown",
   "id": "e2ef36c9-a2b3-4976-96de-fab8537beb43",
   "metadata": {},
   "source": [
    "****Answer-18****"
   ]
  },
  {
   "cell_type": "code",
   "execution_count": 134,
   "id": "083509cf-fbcc-4ec0-8c81-6837cfa5375e",
   "metadata": {},
   "outputs": [],
   "source": [
    "squar_list =[]"
   ]
  },
  {
   "cell_type": "code",
   "execution_count": 136,
   "id": "de03f255-8afc-40d4-9aea-5a432c2f44e9",
   "metadata": {},
   "outputs": [
    {
     "name": "stdout",
     "output_type": "stream",
     "text": [
      "[1, 4, 9, 16, 25, 36, 49, 64, 81, 1]\n",
      "[1, 4, 9, 16, 25, 36, 49, 64, 81, 1, 4]\n",
      "[1, 4, 9, 16, 25, 36, 49, 64, 81, 1, 4, 9]\n",
      "[1, 4, 9, 16, 25, 36, 49, 64, 81, 1, 4, 9, 16]\n",
      "[1, 4, 9, 16, 25, 36, 49, 64, 81, 1, 4, 9, 16, 25]\n",
      "[1, 4, 9, 16, 25, 36, 49, 64, 81, 1, 4, 9, 16, 25, 36]\n",
      "[1, 4, 9, 16, 25, 36, 49, 64, 81, 1, 4, 9, 16, 25, 36, 49]\n",
      "[1, 4, 9, 16, 25, 36, 49, 64, 81, 1, 4, 9, 16, 25, 36, 49, 64]\n",
      "[1, 4, 9, 16, 25, 36, 49, 64, 81, 1, 4, 9, 16, 25, 36, 49, 64, 81]\n"
     ]
    }
   ],
   "source": [
    "for i in range(1,10):\n",
    "    squar_list.append(i**2)\n",
    "    print(squar_list)"
   ]
  },
  {
   "cell_type": "markdown",
   "id": "42bea678-77e0-4275-bdd0-e6de3a89dd38",
   "metadata": {},
   "source": [
    "****Answer-19****"
   ]
  },
  {
   "cell_type": "code",
   "execution_count": 144,
   "id": "17c6bae9-d7f9-43d9-aea9-d853d7dd43fe",
   "metadata": {},
   "outputs": [],
   "source": [
    "random_number = []"
   ]
  },
  {
   "cell_type": "code",
   "execution_count": 145,
   "id": "61ef63a6-f923-4e49-a7a4-204f015f81f9",
   "metadata": {},
   "outputs": [
    {
     "name": "stdout",
     "output_type": "stream",
     "text": [
      "[20]\n",
      "[20, 5]\n",
      "[20, 5, 8]\n",
      "[20, 5, 8, 1]\n",
      "[20, 5, 8, 1, 18]\n",
      "[20, 5, 8, 1, 18, 12]\n",
      "[20, 5, 8, 1, 18, 12, 2]\n",
      "[20, 5, 8, 1, 18, 12, 2, 5]\n",
      "[20, 5, 8, 1, 18, 12, 2, 5, 8]\n",
      "[20, 5, 8, 1, 18, 12, 2, 5, 8, 5]\n",
      "[20, 5, 8, 1, 18, 12, 2, 5, 8, 5, 7]\n",
      "[20, 5, 8, 1, 18, 12, 2, 5, 8, 5, 7, 5]\n",
      "[20, 5, 8, 1, 18, 12, 2, 5, 8, 5, 7, 5, 10]\n",
      "[20, 5, 8, 1, 18, 12, 2, 5, 8, 5, 7, 5, 10, 19]\n",
      "[20, 5, 8, 1, 18, 12, 2, 5, 8, 5, 7, 5, 10, 19, 7]\n",
      "[20, 5, 8, 1, 18, 12, 2, 5, 8, 5, 7, 5, 10, 19, 7, 3]\n",
      "[20, 5, 8, 1, 18, 12, 2, 5, 8, 5, 7, 5, 10, 19, 7, 3, 17]\n",
      "[20, 5, 8, 1, 18, 12, 2, 5, 8, 5, 7, 5, 10, 19, 7, 3, 17, 19]\n",
      "[20, 5, 8, 1, 18, 12, 2, 5, 8, 5, 7, 5, 10, 19, 7, 3, 17, 19, 16]\n",
      "[20, 5, 8, 1, 18, 12, 2, 5, 8, 5, 7, 5, 10, 19, 7, 3, 17, 19, 16, 10]\n"
     ]
    }
   ],
   "source": [
    "import random\n",
    "for i  in range(20):\n",
    "    random_number.append(random.randint(1,20))\n",
    "    print(random_number)"
   ]
  },
  {
   "cell_type": "markdown",
   "id": "43680f65-01e2-4b4f-af50-b6857f940e8e",
   "metadata": {},
   "source": [
    "****Answer-20****"
   ]
  },
  {
   "cell_type": "code",
   "execution_count": 153,
   "id": "f3c1d341-12ea-4a7d-a3af-cdf76750bcf3",
   "metadata": {},
   "outputs": [],
   "source": [
    "L20 = [1,2,3,4,1,3,4,2,5,6,5]"
   ]
  },
  {
   "cell_type": "markdown",
   "id": "a4b3f59f-707e-4a72-adb0-fcad6a8ff8cc",
   "metadata": {},
   "source": [
    "set(L20)"
   ]
  },
  {
   "cell_type": "code",
   "execution_count": 155,
   "id": "77ec0d58-0b4d-4f35-9efe-c25052f629fe",
   "metadata": {},
   "outputs": [
    {
     "data": {
      "text/plain": [
       "[1, 2, 3, 4, 5, 6]"
      ]
     },
     "execution_count": 155,
     "metadata": {},
     "output_type": "execute_result"
    }
   ],
   "source": [
    "list(set(L20))"
   ]
  },
  {
   "cell_type": "code",
   "execution_count": 169,
   "id": "b129ec74-5a97-445c-8a06-26339d4f6902",
   "metadata": {},
   "outputs": [],
   "source": [
    "m = [1,2,3,4,5]\n",
    "n = [5,6,7,8,9]\n",
    "\n",
    "\n",
    "def common_value(m,n):\n",
    "    m_set = set(m)\n",
    "    n_set = set(n)\n",
    "    if(m_set & n_set):\n",
    "        print(m_set & n_set)\n",
    "    else:\n",
    "        print(\"no common value\")        "
   ]
  },
  {
   "cell_type": "code",
   "execution_count": 172,
   "id": "74a2e875-4e0a-46b7-b95a-a89e6c9e8fc3",
   "metadata": {},
   "outputs": [
    {
     "data": {
      "text/plain": [
       "([1, 2, 3, 4, 5], [5, 6, 7, 8, 9])"
      ]
     },
     "execution_count": 172,
     "metadata": {},
     "output_type": "execute_result"
    }
   ],
   "source": [
    "m,n"
   ]
  },
  {
   "cell_type": "code",
   "execution_count": 174,
   "id": "67b2ac70-4d70-4d7b-addc-cfe61f1f9142",
   "metadata": {},
   "outputs": [
    {
     "name": "stdout",
     "output_type": "stream",
     "text": [
      "{5}\n"
     ]
    }
   ],
   "source": [
    "common_value(m,n)"
   ]
  },
  {
   "cell_type": "markdown",
   "id": "b85e3d87-29d6-4ca6-8506-ead97018bd00",
   "metadata": {},
   "source": [
    "****Answer-22****"
   ]
  },
  {
   "cell_type": "code",
   "execution_count": 3,
   "id": "ddf2d252-1a62-4e0c-aad6-3c4d0549b2d8",
   "metadata": {},
   "outputs": [],
   "source": [
    "L1 = [1,2,3,4,5,6,7,8]\n",
    "L2 = [5,7,8,9]\n",
    "L3 = []"
   ]
  },
  {
   "cell_type": "code",
   "execution_count": 4,
   "id": "027d10af-fa3a-4017-a22c-319e24dcaa4a",
   "metadata": {},
   "outputs": [],
   "source": [
    "for i in L1:\n",
    "    if L1 not in L2:\n",
    "        L3.append(i)"
   ]
  },
  {
   "cell_type": "code",
   "execution_count": 6,
   "id": "5fa3f0ec-f03c-43ac-9767-19fb2707a3dd",
   "metadata": {},
   "outputs": [
    {
     "data": {
      "text/plain": [
       "[1, 2, 3, 4, 5, 6, 7, 8]"
      ]
     },
     "execution_count": 6,
     "metadata": {},
     "output_type": "execute_result"
    }
   ],
   "source": [
    "L3"
   ]
  },
  {
   "cell_type": "markdown",
   "id": "62b7e5fd-11c7-4c76-8b35-72053d2bfe02",
   "metadata": {},
   "source": [
    "****Answer-23****"
   ]
  },
  {
   "cell_type": "code",
   "execution_count": 9,
   "id": "77ea08dd-affc-43aa-a5e1-73384122c367",
   "metadata": {},
   "outputs": [],
   "source": [
    "L1 = [1,2,3,4,5]\n",
    "L2 = [8,7,9,5,4]"
   ]
  },
  {
   "cell_type": "code",
   "execution_count": 11,
   "id": "a9370fae-07bc-490b-9699-fa1f55bb5180",
   "metadata": {},
   "outputs": [
    {
     "data": {
      "text/plain": [
       "[1, 2, 3, 4, 5, 8, 7, 9, 5, 4]"
      ]
     },
     "execution_count": 11,
     "metadata": {},
     "output_type": "execute_result"
    }
   ],
   "source": [
    "L1+L2"
   ]
  },
  {
   "cell_type": "markdown",
   "id": "178ecc20-e7d5-45ba-97e6-d6f1fc635bca",
   "metadata": {},
   "source": [
    "****Answer-24****"
   ]
  },
  {
   "cell_type": "code",
   "execution_count": 14,
   "id": "908fb67b-02dc-4ce4-b874-c6d0911d82ec",
   "metadata": {},
   "outputs": [
    {
     "name": "stdout",
     "output_type": "stream",
     "text": [
      "10\n",
      "40\n",
      "120\n",
      "240\n",
      "2160\n"
     ]
    }
   ],
   "source": [
    "from operator import*\n",
    "L1 = [5,4,3,2,9]\n",
    "p = 2\n",
    "for i in L1:\n",
    "    p = mul(i,p)\n",
    "    print(p)\n",
    "    "
   ]
  },
  {
   "cell_type": "markdown",
   "id": "6a88dd07-3316-4499-ae5b-9831015637d5",
   "metadata": {},
   "source": [
    "****Answer-25****"
   ]
  },
  {
   "cell_type": "code",
   "execution_count": 22,
   "id": "2e17ccb0-bdb6-4223-a260-a840cd4f81a0",
   "metadata": {},
   "outputs": [],
   "source": [
    "L1 = [2,3,4,6,8,9]\n",
    "L2 = []"
   ]
  },
  {
   "cell_type": "code",
   "execution_count": 23,
   "id": "c716fef0-3e19-41b6-96fe-0fcfd6b44976",
   "metadata": {},
   "outputs": [],
   "source": [
    "for i in L1:\n",
    "    if i%2==0:\n",
    "        L2.append(i)\n",
    "        "
   ]
  },
  {
   "cell_type": "code",
   "execution_count": 25,
   "id": "39b0bc77-9dc4-4d30-9fc5-ea7d3a428bfd",
   "metadata": {},
   "outputs": [
    {
     "name": "stdout",
     "output_type": "stream",
     "text": [
      "[2, 4, 6, 8]\n"
     ]
    }
   ],
   "source": [
    "print(L2)"
   ]
  },
  {
   "cell_type": "markdown",
   "id": "12e929a5-4807-4b68-bc1f-dfca998262ee",
   "metadata": {},
   "source": [
    "****Answer-26****"
   ]
  },
  {
   "cell_type": "code",
   "execution_count": 40,
   "id": "2e5562eb-3546-41a3-aece-a1a471765fad",
   "metadata": {},
   "outputs": [],
   "source": [
    "L8 = ['1','2','3','4','5','6']"
   ]
  },
  {
   "cell_type": "code",
   "execution_count": 41,
   "id": "aabd3b5d-0d80-4feb-922c-ce3631af32d7",
   "metadata": {},
   "outputs": [],
   "source": [
    "for i in range(0,len(L8)):\n",
    "    L8[i]=int(L8[i])"
   ]
  },
  {
   "cell_type": "code",
   "execution_count": 48,
   "id": "c760edba-6526-4ecb-a362-81e211bd017f",
   "metadata": {},
   "outputs": [
    {
     "data": {
      "text/plain": [
       "[1, 2, 3, 4, 5, 6]"
      ]
     },
     "execution_count": 48,
     "metadata": {},
     "output_type": "execute_result"
    }
   ],
   "source": [
    "L8"
   ]
  },
  {
   "cell_type": "markdown",
   "id": "9d85a684-c068-469d-b2c1-73ba8b4133b7",
   "metadata": {},
   "source": [
    "****Answer-27****"
   ]
  },
  {
   "cell_type": "code",
   "execution_count": 44,
   "id": "7d76180d-594e-4a66-a249-4c272e275f69",
   "metadata": {},
   "outputs": [],
   "source": [
    "L9 = [1,2,3,4,5,6]"
   ]
  },
  {
   "cell_type": "code",
   "execution_count": 46,
   "id": "3c739e0f-73bf-48f6-a5ac-6c2063cc01b8",
   "metadata": {},
   "outputs": [],
   "source": [
    "for i in range(0,len(L9)):\n",
    "    L9[i]=str(L9[i])"
   ]
  },
  {
   "cell_type": "code",
   "execution_count": 50,
   "id": "dd64d713-3702-4301-80d1-e69a7b8bfdf2",
   "metadata": {},
   "outputs": [
    {
     "data": {
      "text/plain": [
       "['1', '2', '3', '4', '5', '6']"
      ]
     },
     "execution_count": 50,
     "metadata": {},
     "output_type": "execute_result"
    }
   ],
   "source": [
    "L9"
   ]
  },
  {
   "cell_type": "markdown",
   "id": "290cab77-22b6-4d87-a73e-cd0ea1b19520",
   "metadata": {},
   "source": [
    "****Answer-28****"
   ]
  },
  {
   "cell_type": "code",
   "execution_count": 51,
   "id": "3741ddb7-13bc-460e-8bcf-ea069f93b7ab",
   "metadata": {},
   "outputs": [],
   "source": [
    "L7 = [[1,2],[3,4],[5,6]]"
   ]
  },
  {
   "cell_type": "code",
   "execution_count": 53,
   "id": "9b99ea36-34dd-4054-a2f6-587edd2f1602",
   "metadata": {},
   "outputs": [],
   "source": [
    "flat_list = sum(L7,[])"
   ]
  },
  {
   "cell_type": "code",
   "execution_count": 55,
   "id": "b77ede35-651f-4145-8d8f-f976e278a93b",
   "metadata": {},
   "outputs": [
    {
     "data": {
      "text/plain": [
       "[1, 2, 3, 4, 5, 6]"
      ]
     },
     "execution_count": 55,
     "metadata": {},
     "output_type": "execute_result"
    }
   ],
   "source": [
    "flat_list"
   ]
  },
  {
   "cell_type": "markdown",
   "id": "52606adb-3a04-4315-b54e-fc9f4032e849",
   "metadata": {},
   "source": [
    "****Answer-30****"
   ]
  },
  {
   "cell_type": "code",
   "execution_count": 64,
   "id": "6a583f8d-00c0-497b-9dbf-6c5422a3e94f",
   "metadata": {},
   "outputs": [],
   "source": [
    "L6 = [5,6,3,2,4,1]\n",
    "flag = 0"
   ]
  },
  {
   "cell_type": "code",
   "execution_count": 66,
   "id": "ff0365bf-33b2-4e56-9f27-d03689f043e1",
   "metadata": {},
   "outputs": [
    {
     "name": "stdout",
     "output_type": "stream",
     "text": [
      "not sorted\n"
     ]
    }
   ],
   "source": [
    "if(L6 == sorted(L6)):\n",
    "    flag = 1\n",
    "    \n",
    "if(flag):\n",
    "    print(\"yes sorted\")\n",
    "else:\n",
    "    print(\"not sorted\")"
   ]
  },
  {
   "cell_type": "markdown",
   "id": "9b1dd004-f9b4-4163-9ef0-cfd53f3f9bbe",
   "metadata": {},
   "source": [
    "****Answer-33****"
   ]
  },
  {
   "cell_type": "code",
   "execution_count": 11,
   "id": "7c7dc0d9-2e3d-43a8-ade7-db913259365d",
   "metadata": {},
   "outputs": [
    {
     "name": "stdout",
     "output_type": "stream",
     "text": [
      "2,3,5,7,11,13,17,19,23,29,31,37,41,43,47,"
     ]
    }
   ],
   "source": [
    "for i in range(2,51):\n",
    "    for j in range(2,51):\n",
    "        if i%j==0:\n",
    "            break\n",
    "    if i ==j:\n",
    "        print(i,end=\",\")"
   ]
  },
  {
   "cell_type": "markdown",
   "id": "063a0274-a752-4421-9497-bf7f76f8db6e",
   "metadata": {},
   "source": [
    "****Answer-34****"
   ]
  },
  {
   "cell_type": "code",
   "execution_count": 5,
   "id": "da46999c-1a1f-4853-977d-8806906df640",
   "metadata": {},
   "outputs": [],
   "source": [
    "def chunks(lst,n):\n",
    "    for i in range(0,len(lst),n):\n",
    "        yield lst[i:i+1]\n",
    "\n",
    "    "
   ]
  },
  {
   "cell_type": "code",
   "execution_count": 7,
   "id": "63d175f9-70e6-4e3d-adc6-fe0efa384861",
   "metadata": {},
   "outputs": [
    {
     "name": "stdout",
     "output_type": "stream",
     "text": [
      "[range(10, 11),\n",
      " range(20, 21),\n",
      " range(30, 31),\n",
      " range(40, 41),\n",
      " range(50, 51),\n",
      " range(60, 61),\n",
      " range(70, 71)]\n"
     ]
    }
   ],
   "source": [
    "import pprint\n",
    "pprint.pprint(list(chunks(range(10,75),10)))"
   ]
  },
  {
   "cell_type": "code",
   "execution_count": 9,
   "id": "565dfc5f-64db-41c9-8bd9-c8ceb5a320cd",
   "metadata": {},
   "outputs": [
    {
     "data": {
      "text/plain": [
       "[array([0, 1, 2, 3, 4, 5, 6, 7, 8, 9]),\n",
       " array([10, 11, 12, 13, 14, 15, 16, 17, 18, 19]),\n",
       " array([20, 21, 22, 23, 24, 25, 26, 27, 28, 29]),\n",
       " array([30, 31, 32, 33, 34, 35, 36, 37, 38, 39]),\n",
       " array([40, 41, 42, 43, 44, 45, 46, 47, 48, 49])]"
      ]
     },
     "execution_count": 9,
     "metadata": {},
     "output_type": "execute_result"
    }
   ],
   "source": [
    "import numpy as np\n",
    "lst = range(50)\n",
    "np.array_split(lst,5)"
   ]
  },
  {
   "cell_type": "markdown",
   "id": "66cad386-e2ef-4832-9fa1-4108b0a6956f",
   "metadata": {},
   "source": [
    "****Answer - 35****"
   ]
  },
  {
   "cell_type": "code",
   "execution_count": 12,
   "id": "28a776ce-7c7d-4c39-94db-b37ab1f4b6c1",
   "metadata": {},
   "outputs": [],
   "source": [
    "L1 = [8,4,5,9,2,3]"
   ]
  },
  {
   "cell_type": "code",
   "execution_count": 14,
   "id": "4bbb3396-f706-4474-b19d-0633d26881ce",
   "metadata": {},
   "outputs": [],
   "source": [
    "L2 = list(set(L1))"
   ]
  },
  {
   "cell_type": "code",
   "execution_count": 16,
   "id": "1a2ea4e1-e9ae-45c3-b7b0-69184052a5b7",
   "metadata": {},
   "outputs": [],
   "source": [
    "L2.sort()"
   ]
  },
  {
   "cell_type": "code",
   "execution_count": 18,
   "id": "c01ddcba-d7be-4d2f-95e8-0affa06578cb",
   "metadata": {},
   "outputs": [
    {
     "name": "stdout",
     "output_type": "stream",
     "text": [
      "2nd largest no is 8\n"
     ]
    }
   ],
   "source": [
    "print(\"2nd largest no is\",L2[-2])"
   ]
  },
  {
   "cell_type": "markdown",
   "id": "241454e8-fa48-4544-ab8f-4b32f29b7dd9",
   "metadata": {},
   "source": [
    "****Answer-36****"
   ]
  },
  {
   "cell_type": "code",
   "execution_count": 24,
   "id": "0843c0bb-95f2-48fa-9043-d4820ad0cb5e",
   "metadata": {},
   "outputs": [],
   "source": [
    "L = [2,3,4,5,6]"
   ]
  },
  {
   "cell_type": "code",
   "execution_count": 25,
   "id": "19f4bb30-a660-416a-a3c4-da60bc079967",
   "metadata": {},
   "outputs": [],
   "source": [
    "L1 = []"
   ]
  },
  {
   "cell_type": "code",
   "execution_count": 26,
   "id": "891ae6ec-0297-421c-959f-f771bac8e878",
   "metadata": {},
   "outputs": [
    {
     "name": "stdout",
     "output_type": "stream",
     "text": [
      "[4]\n",
      "[4, 9]\n",
      "[4, 9, 16]\n",
      "[4, 9, 16, 25]\n",
      "[4, 9, 16, 25, 36]\n"
     ]
    }
   ],
   "source": [
    "for i in L:\n",
    "    L1.append(i**2)\n",
    "    print(L1)"
   ]
  },
  {
   "cell_type": "markdown",
   "id": "70b6dc2c-4a1c-4995-b94a-0b2a9ecb2331",
   "metadata": {},
   "source": [
    "****Answer-37****"
   ]
  },
  {
   "cell_type": "code",
   "execution_count": 1,
   "id": "00225478-2a73-4af1-adda-11a201c1eafa",
   "metadata": {},
   "outputs": [],
   "source": [
    "ListName = [\"harsh\",\"rahul\",\"dinesh\",\"pankaj\"]"
   ]
  },
  {
   "cell_type": "code",
   "execution_count": 2,
   "id": "5cc8dc98-297e-468a-a418-7d1b50e4e8ba",
   "metadata": {},
   "outputs": [],
   "source": [
    "name_dict = {}"
   ]
  },
  {
   "cell_type": "code",
   "execution_count": 6,
   "id": "df0b01ab-0884-486c-8f6b-ad28bc0cbf64",
   "metadata": {},
   "outputs": [
    {
     "name": "stdout",
     "output_type": "stream",
     "text": [
      "{1: 'pankaj', 0: 'harsh'}\n",
      "{1: 'rahul', 0: 'harsh'}\n",
      "{1: 'rahul', 0: 'harsh', 2: 'dinesh'}\n",
      "{1: 'rahul', 0: 'harsh', 2: 'dinesh', 3: 'pankaj'}\n"
     ]
    }
   ],
   "source": [
    "for i ,name in enumerate(ListName):\n",
    "    name_dict[i] = name\n",
    "    print(name_dict)"
   ]
  },
  {
   "cell_type": "markdown",
   "id": "b208d020-2786-44e8-8493-0482ddc518b5",
   "metadata": {},
   "source": [
    "****Answer-38****"
   ]
  },
  {
   "cell_type": "code",
   "execution_count": 7,
   "id": "24e7cbb2-2961-400b-9ea3-0310d007130c",
   "metadata": {},
   "outputs": [],
   "source": [
    "L = [9,3,6,7,2,8,1,4,5]"
   ]
  },
  {
   "cell_type": "code",
   "execution_count": 10,
   "id": "6b15e284-e5ae-4478-bc5e-322889f0b6b5",
   "metadata": {},
   "outputs": [],
   "source": [
    "import random\n",
    "random.shuffle(L)"
   ]
  },
  {
   "cell_type": "code",
   "execution_count": 12,
   "id": "cc2983ea-767b-4ebd-b30e-5033f97a9cd9",
   "metadata": {},
   "outputs": [
    {
     "name": "stdout",
     "output_type": "stream",
     "text": [
      "Suffle list is  [7, 5, 3, 6, 4, 8, 2, 9, 1]\n"
     ]
    }
   ],
   "source": [
    "print(\"Suffle list is  \"+str(L))"
   ]
  },
  {
   "cell_type": "markdown",
   "id": "afcfe263-585f-4342-9b9b-d5b9b309931e",
   "metadata": {},
   "source": [
    "****Answer-39****"
   ]
  },
  {
   "cell_type": "code",
   "execution_count": 2,
   "id": "be81adec-f033-4157-b8ac-e456b9448245",
   "metadata": {},
   "outputs": [
    {
     "name": "stdout",
     "output_type": "stream",
     "text": [
      "factorial of 1 is 1\n",
      "factorial of 2 is 2\n",
      "factorial of 3 is 12\n",
      "factorial of 4 is 288\n",
      "factorial of 5 is 34560\n",
      "factorial of 6 is 24883200\n",
      "factorial of 7 is 125411328000\n",
      "factorial of 8 is 5056584744960000\n",
      "factorial of 9 is 1834933472251084800000\n",
      "factorial of 10 is 6658606584104736522240000000\n"
     ]
    }
   ],
   "source": [
    "L= {1,2,3,4,5,6,7,8,9,10}\n",
    "fact = 1\n",
    "for i in L:\n",
    "    for number in range(1,i+1):\n",
    "        fact = fact*number\n",
    "    print(\"factorial of\"  ,i, \"is\",  fact)"
   ]
  },
  {
   "cell_type": "markdown",
   "id": "d906b818-6bd0-4038-8270-3585f1353d21",
   "metadata": {},
   "source": [
    "****Answer No - 40****"
   ]
  },
  {
   "cell_type": "code",
   "execution_count": 26,
   "id": "e3f34261-a117-47cc-9c46-7f99525dd97e",
   "metadata": {},
   "outputs": [],
   "source": [
    "L1 = [1,2,3,4,5,6]\n",
    "L2 = [9,7,11,10,6]\n"
   ]
  },
  {
   "cell_type": "code",
   "execution_count": 28,
   "id": "d1a3770d-db15-4d2d-8614-f9ef956d889c",
   "metadata": {},
   "outputs": [],
   "source": [
    "def common_data(L1,L2):\n",
    "    result = false\n",
    "    for i in L1:\n",
    "        for j in L2:\n",
    "            if i==j:\n",
    "                result = True\n",
    "                return result\n",
    "                \n",
    "            "
   ]
  },
  {
   "cell_type": "markdown",
   "id": "794ae962-e4ba-4be9-9aa8-bf33d4a30258",
   "metadata": {},
   "source": [
    "****Answer - 41*****"
   ]
  },
  {
   "cell_type": "code",
   "execution_count": 34,
   "id": "50eb20a3-d020-4513-9e8d-f7c65a35efa9",
   "metadata": {},
   "outputs": [],
   "source": [
    "L = [1,2,3,4,5]"
   ]
  },
  {
   "cell_type": "code",
   "execution_count": null,
   "id": "006de4d9-e9c1-4aa0-836b-51bd9c9c1b3b",
   "metadata": {},
   "outputs": [],
   "source": []
  },
  {
   "cell_type": "code",
   "execution_count": 35,
   "id": "f039ab89-6447-4ae2-928e-63f7792831b6",
   "metadata": {},
   "outputs": [],
   "source": [
    "L.clear()"
   ]
  },
  {
   "cell_type": "code",
   "execution_count": 37,
   "id": "481248f0-59c5-488b-a70b-edf6fc4f60b8",
   "metadata": {},
   "outputs": [
    {
     "data": {
      "text/plain": [
       "[]"
      ]
     },
     "execution_count": 37,
     "metadata": {},
     "output_type": "execute_result"
    }
   ],
   "source": [
    "L"
   ]
  },
  {
   "cell_type": "markdown",
   "id": "fd410c52-c91d-48aa-9bba-4f2d2d696c83",
   "metadata": {},
   "source": [
    "****Answer-43****"
   ]
  },
  {
   "cell_type": "code",
   "execution_count": 40,
   "id": "416faf7e-e52d-4e28-9f5f-a3d4bbe8289f",
   "metadata": {},
   "outputs": [],
   "source": [
    "S= \"PWSklls\""
   ]
  },
  {
   "cell_type": "code",
   "execution_count": 42,
   "id": "6088b80c-50ec-43d5-893a-a94899037b03",
   "metadata": {},
   "outputs": [
    {
     "data": {
      "text/plain": [
       "['P', 'W', 'S', 'k', 'l', 'l', 's']"
      ]
     },
     "execution_count": 42,
     "metadata": {},
     "output_type": "execute_result"
    }
   ],
   "source": [
    "list(S)"
   ]
  },
  {
   "cell_type": "markdown",
   "id": "a5280b12-6dc9-4cd3-b739-322d62a2dd3f",
   "metadata": {},
   "source": [
    "****Answer - 44****"
   ]
  },
  {
   "cell_type": "code",
   "execution_count": 2,
   "id": "d3abbf26-2bd4-47d4-a17c-51dacb39d5c4",
   "metadata": {},
   "outputs": [],
   "source": [
    "L = ['H','a','r','s','h']"
   ]
  },
  {
   "cell_type": "code",
   "execution_count": 3,
   "id": "73a9d40f-05b7-428b-bb81-6c6901043903",
   "metadata": {},
   "outputs": [],
   "source": [
    "string = \" \".join(L)"
   ]
  },
  {
   "cell_type": "code",
   "execution_count": 4,
   "id": "1387554e-15a8-4cb7-9861-cb7b3f83ca7f",
   "metadata": {},
   "outputs": [
    {
     "data": {
      "text/plain": [
       "'H a r s h'"
      ]
     },
     "execution_count": 4,
     "metadata": {},
     "output_type": "execute_result"
    }
   ],
   "source": [
    "string"
   ]
  },
  {
   "cell_type": "markdown",
   "id": "3c213cd0-0248-4a34-b274-2817d7a954ca",
   "metadata": {},
   "source": [
    "****Answer-45****"
   ]
  },
  {
   "cell_type": "code",
   "execution_count": 37,
   "id": "54e61050-8c37-4410-aad0-ea6ecba91758",
   "metadata": {},
   "outputs": [],
   "source": [
    "def squar(n):\n",
    "    power = n\n",
    "    mylist = []\n",
    "    for i in range(1,n+1):\n",
    "        mylist.append(2**i)\n",
    "    return mylist"
   ]
  },
  {
   "cell_type": "code",
   "execution_count": 40,
   "id": "9f051339-92ee-4034-9fa4-89e8c309b508",
   "metadata": {},
   "outputs": [
    {
     "data": {
      "text/plain": [
       "[2, 4, 8, 16, 32, 64, 128, 256, 512, 1024]"
      ]
     },
     "execution_count": 40,
     "metadata": {},
     "output_type": "execute_result"
    }
   ],
   "source": [
    "squar(10)"
   ]
  },
  {
   "cell_type": "markdown",
   "id": "0a9c149b-c1bd-4799-a301-0ce139ae7c58",
   "metadata": {},
   "source": [
    "****Answer-46****"
   ]
  },
  {
   "cell_type": "code",
   "execution_count": 86,
   "id": "64d791f5-1728-4d9b-bee2-ba61b663decc",
   "metadata": {},
   "outputs": [
    {
     "name": "stdout",
     "output_type": "stream",
     "text": [
      "harshgupta\n"
     ]
    }
   ],
   "source": [
    "mylist = [\"harshgupta\",\"pwskills\",\"sudhanshu\",\"krishNaik\"]\n",
    "\n",
    "maxlist = max(mylist,key= len)\n",
    "\n",
    "print(maxlist)\n",
    "    "
   ]
  },
  {
   "cell_type": "markdown",
   "id": "159bd605-d718-4d03-a5bd-abcae54703e2",
   "metadata": {},
   "source": [
    "*****Answer-47****"
   ]
  },
  {
   "cell_type": "code",
   "execution_count": 87,
   "id": "a9c55906-1a98-4300-b8df-3195b9ebb2d6",
   "metadata": {},
   "outputs": [
    {
     "name": "stdout",
     "output_type": "stream",
     "text": [
      "pwskills\n"
     ]
    }
   ],
   "source": [
    "mylist = [\"harshgupta\",\"pwskills\",\"sudhanshu\",\"krishNaik\"]\n",
    "\n",
    "minlist = min(mylist,key= len)\n",
    "\n",
    "print(minlist)"
   ]
  },
  {
   "cell_type": "markdown",
   "id": "6e6f40a8-2a22-4ff0-beb8-811efe78509d",
   "metadata": {},
   "source": [
    "****Answer-48****"
   ]
  },
  {
   "cell_type": "code",
   "execution_count": 114,
   "id": "6b0ee208-504b-44f1-946c-e88348f8a175",
   "metadata": {},
   "outputs": [],
   "source": [
    "def triangular_series(n):\n",
    "    j = 1\n",
    "    k =1\n",
    "    \n",
    "    for i in range(n):\n",
    "        print(k,end=' ')\n",
    "        j = j+1\n",
    "        k = j+k\n",
    "        "
   ]
  },
  {
   "cell_type": "code",
   "execution_count": 117,
   "id": "776015e9-c710-4a84-8ca8-0cf9309d3020",
   "metadata": {},
   "outputs": [
    {
     "name": "stdout",
     "output_type": "stream",
     "text": [
      "1 3 6 10 15 21 28 36 45 55 "
     ]
    }
   ],
   "source": [
    "triangular_series(10)"
   ]
  },
  {
   "cell_type": "markdown",
   "id": "f1156413-5eb3-42ec-a9f4-233676cd67a0",
   "metadata": {},
   "source": [
    "****Answer - 49****"
   ]
  },
  {
   "cell_type": "code",
   "execution_count": 3,
   "id": "4f4a94b9-2d40-4dc4-a838-eb19d03e37b6",
   "metadata": {},
   "outputs": [
    {
     "name": "stdout",
     "output_type": "stream",
     "text": [
      "yes element ont there\n"
     ]
    }
   ],
   "source": [
    "L1 = ['harsh','krish','sudhanshu','pwskills']\n",
    "L2 = ['harsh','krish','sudhanshu','pwskills']\n",
    "\n",
    "result = all(elem in L1 for elem in L2)\n",
    "\n",
    "if result:\n",
    "    print('yes element ont there')\n",
    "    \n",
    "else:\n",
    "    print('no not available')\n"
   ]
  },
  {
   "cell_type": "markdown",
   "id": "a162388a-fc65-45de-879f-87106e32a42d",
   "metadata": {},
   "source": [
    "****Answer-50****"
   ]
  },
  {
   "cell_type": "code",
   "execution_count": null,
   "id": "5bf1eb75-07dc-4ad0-b9cc-982208ba6b7f",
   "metadata": {},
   "outputs": [],
   "source": [
    "L = [0,12,3,4,5]"
   ]
  }
 ],
 "metadata": {
  "kernelspec": {
   "display_name": "Python 3 (ipykernel)",
   "language": "python",
   "name": "python3"
  },
  "language_info": {
   "codemirror_mode": {
    "name": "ipython",
    "version": 3
   },
   "file_extension": ".py",
   "mimetype": "text/x-python",
   "name": "python",
   "nbconvert_exporter": "python",
   "pygments_lexer": "ipython3",
   "version": "3.10.8"
  }
 },
 "nbformat": 4,
 "nbformat_minor": 5
}
