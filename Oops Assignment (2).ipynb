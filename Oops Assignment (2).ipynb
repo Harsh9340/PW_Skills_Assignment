{
 "cells": [
  {
   "cell_type": "raw",
   "id": "f13704b9-ca0f-40fe-ab22-af77003cce5a",
   "metadata": {},
   "source": [
    " 1- # What is a constructor in Python? Explain its purpose and usage."
   ]
  },
  {
   "cell_type": "raw",
   "id": "80fd24ef-309d-40f2-986c-12895497bf5c",
   "metadata": {},
   "source": [
    "# Constructors in Python is a special class method for creating and initializing an object instance at that class. Every Python class has a constructor; it's not required to be defined explicitly. The purpose of the constructor is to construct an object and assign a value to the object's members "
   ]
  },
  {
   "cell_type": "raw",
   "id": "d5ba2499-3bb7-4b1c-86bb-48d3decd649d",
   "metadata": {},
   "source": [
    "def __init__(self):"
   ]
  },
  {
   "cell_type": "raw",
   "id": "c1083a18-d589-4bb2-952d-7e4ee6c3c562",
   "metadata": {},
   "source": [
    "2- Differentiate between a parameterless constructor and a parameterized constructor in Python."
   ]
  },
  {
   "cell_type": "raw",
   "id": "6b134139-5d15-4199-bc1b-dbc308998840",
   "metadata": {},
   "source": [
    "Parameterized Constructor: A parameterized constructor is a constructor that takes one or more arguments. It is used to create an object with custom values for its attributes\n",
    "\n",
    "Ex -  class Person:\n",
    "    def __init__(self, name, age):\n",
    "        self.name = name\n",
    "        self.age = age\n",
    "\n",
    "person = Person(\"Alice\", 25)\n",
    "print(person.name)\n",
    "print(person.age)"
   ]
  },
  {
   "cell_type": "raw",
   "id": "cb1ade60-e0d4-4bc3-999b-2a994eade416",
   "metadata": {},
   "source": [
    "Non-Parameterized Constructor: A non-parameterized constructor is a constructor that does not take any argument\n",
    "\n",
    "Ex - class MyClass:\n",
    "    def __init__(self):\n",
    "        self.arg1 = 10\n",
    "        self.arg2 = 20"
   ]
  },
  {
   "cell_type": "raw",
   "id": "4f89c3df-40ce-44a4-9697-c319cdf26bf5",
   "metadata": {},
   "source": [
    "3 - How do you define a constructor in a Python class? Provide an example."
   ]
  },
  {
   "cell_type": "code",
   "execution_count": 4,
   "id": "f8932e79-69db-47f3-8019-25711c7ea7aa",
   "metadata": {},
   "outputs": [],
   "source": [
    "class subject:\n",
    "    def __init__(self):\n",
    "        self.maths = 20\n",
    "        self.chem =  30\n",
    "        return self.maths"
   ]
  },
  {
   "cell_type": "raw",
   "id": "b716d2e6-5a17-4c7d-b046-2ba923589d5d",
   "metadata": {},
   "source": [
    "4- Explain the `__init__` method in Python and its role in constructors."
   ]
  },
  {
   "cell_type": "raw",
   "id": "7d6217dc-a35e-4a3d-9274-40e2c2916152",
   "metadata": {},
   "source": [
    "In Python, __init__ is a special method known as the constructor. It is automatically called when a new instance (object) of a class is created. The __init__ method allows you to initialize the attributes (variables) of an object\n",
    "\n",
    "Ex -  class class_name():\n",
    "           \n",
    "          def __init__(self):\n",
    "                  # Required initialisation for data members\n",
    " \n",
    "          # Class methods"
   ]
  },
  {
   "cell_type": "raw",
   "id": "1c789d7d-a686-453b-a57e-a79a01d7c1d5",
   "metadata": {},
   "source": [
    "5. In a class named `Person`, create a constructor that initializes the `name` and `age` attributes. Provide an\n",
    "example of creating an object of this class."
   ]
  },
  {
   "cell_type": "code",
   "execution_count": 18,
   "id": "c70261b2-c14f-4a23-9461-5ae3b9afc188",
   "metadata": {},
   "outputs": [],
   "source": [
    "class person:\n",
    "    def __init__(self,name,age):\n",
    "        self.name = name\n",
    "        self.age = age"
   ]
  },
  {
   "cell_type": "code",
   "execution_count": 20,
   "id": "37618876-27b1-42ab-ae4b-344c1cd7e79d",
   "metadata": {},
   "outputs": [],
   "source": [
    "a = person(\"harsh\",20)"
   ]
  },
  {
   "cell_type": "code",
   "execution_count": 22,
   "id": "3d4f07a4-21ff-4225-890e-dd80f1fab03d",
   "metadata": {},
   "outputs": [
    {
     "data": {
      "text/plain": [
       "20"
      ]
     },
     "execution_count": 22,
     "metadata": {},
     "output_type": "execute_result"
    }
   ],
   "source": [
    "a.age"
   ]
  },
  {
   "cell_type": "code",
   "execution_count": 24,
   "id": "36125c17-a573-402b-91b0-24fbac060049",
   "metadata": {},
   "outputs": [
    {
     "data": {
      "text/plain": [
       "'harsh'"
      ]
     },
     "execution_count": 24,
     "metadata": {},
     "output_type": "execute_result"
    }
   ],
   "source": [
    "a.name"
   ]
  },
  {
   "cell_type": "raw",
   "id": "30c13ae4-ec09-4bad-a308-70c604b0b33e",
   "metadata": {},
   "source": [
    "6. How can you call a constructor explicitly in Python? Give an example."
   ]
  },
  {
   "cell_type": "raw",
   "id": "a8439ae9-fc69-4098-9c16-55fbaadcf49d",
   "metadata": {},
   "source": [
    "# A Sample class with init method.\n",
    "class Person:\n",
    "# init method or constructor.\n",
    "def __init__(self, name):\n",
    "self.name = name.\n",
    "# Sample Method.\n",
    "def say_hi(self):\n",
    "p = Person('Nikhil')"
   ]
  },
  {
   "cell_type": "code",
   "execution_count": null,
   "id": "5075fe53-f409-49e0-9fa0-c524bb87805f",
   "metadata": {},
   "outputs": [],
   "source": [
    " class GeekforGeeks:\n",
    "\n",
    "    # default constructor\n",
    "    def __init__(self):\n",
    "        self.geek = \"GeekforGeeks\"\n",
    "\n",
    "    # a method for printing data members\n",
    "    def print_Geek(self):\n",
    "        print(self.geek)\n",
    "\n",
    "\n",
    "# creating object of the class\n",
    "obj = GeekforGeeks()\n",
    "\n",
    "# calling the instance method using the object obj\n",
    "obj.print_Geek()"
   ]
  },
  {
   "cell_type": "raw",
   "id": "fba0a517-12a3-40ea-8495-d4094435356c",
   "metadata": {},
   "source": [
    "7. What is the significance of the `self` parameter in Python constructors? Explain with an example."
   ]
  },
  {
   "cell_type": "raw",
   "id": "f78d4eb3-9e77-4fb6-9c7f-df903b49cfee",
   "metadata": {},
   "source": [
    "In the constructor, “self” is used to initialize instance variables (arg1 and arg2) with the values passed as arguments. In the my_method, “self” is used to access and print the values of arg1 and arg2.\n",
    "\n",
    "It’s important to note that “self” is a convention and not a keyword in Python"
   ]
  },
  {
   "cell_type": "code",
   "execution_count": 25,
   "id": "49b324f6-2f66-49cb-91e1-b363c6dfc112",
   "metadata": {},
   "outputs": [],
   "source": [
    "class MyClass:\n",
    "    def __init__(self, arg1, arg2):\n",
    "        self.arg1 = arg1\n",
    "        self.arg2 = arg2\n",
    "\n",
    "    def my_method(self):\n",
    "        # accessing instance members using self\n",
    "        print(self.arg1, self.arg2)"
   ]
  },
  {
   "cell_type": "raw",
   "id": "2a2ff2d6-321b-4502-87de-abdd1daa7161",
   "metadata": {},
   "source": [
    "8. Discuss the concept of default constructors in Python. When are they used?"
   ]
  },
  {
   "cell_type": "raw",
   "id": "9f4fbed8-d205-48b5-b016-045a32b03b59",
   "metadata": {},
   "source": [
    "Default Constructors\n",
    "Default constructors are useful when you want to create an object with a\n",
    "predefined set of attributes, but you don’t want to specify the values of those\n",
    "attributes when the object is created."
   ]
  },
  {
   "cell_type": "code",
   "execution_count": null,
   "id": "fc809cfe-8a7e-4b47-9c23-37d6283a6bb0",
   "metadata": {},
   "outputs": [],
   "source": [
    "class Person:\n",
    "def __init__(self):\n",
    "self.name = \"John\"\n",
    "self.age = 30\n",
    "person = Person()\n",
    "print(person.name)\n",
    "print(person.age)\n"
   ]
  },
  {
   "cell_type": "raw",
   "id": "017941c4-6be5-4c77-9b2e-fd2b0a10c92a",
   "metadata": {},
   "source": [
    "9. Create a Python class called `Rectangle` with a constructor that initializes the `width` and `height`\n",
    "attributes. Provide a method to calculate the area of the rectangle."
   ]
  },
  {
   "cell_type": "code",
   "execution_count": 27,
   "id": "f969ec38-0967-4f6e-9dca-64511fae1718",
   "metadata": {},
   "outputs": [],
   "source": [
    "class ractange:\n",
    "    def __init__(self,width,height):\n",
    "        self.width = width\n",
    "        self.height = height\n",
    "    def area(self):\n",
    "        return self.width*self.height"
   ]
  },
  {
   "cell_type": "code",
   "execution_count": 31,
   "id": "990b2d26-214b-4857-bd06-218f741def4d",
   "metadata": {},
   "outputs": [
    {
     "data": {
      "text/plain": [
       "20"
      ]
     },
     "execution_count": 31,
     "metadata": {},
     "output_type": "execute_result"
    }
   ],
   "source": [
    "a = ractange(5,4)\n",
    "a.area()"
   ]
  },
  {
   "cell_type": "raw",
   "id": "618e8f66-1c0f-474b-9f26-b2b11b88d4a0",
   "metadata": {},
   "source": [
    "10. How can you have multiple constructors in a Python class? Explain with an example."
   ]
  },
  {
   "cell_type": "raw",
   "id": "b0478ab4-95e3-4fac-a950-158cd5435244",
   "metadata": {},
   "source": [
    "If multiple __init__ methods are written for the same class, then the latest one overwrites all the previous constructors and the reason for this can be that Python stores all the function names in a class as keys in a dictionary so when a new function is defined with the same name, the key remains the same but the value gets overridden by the new function body."
   ]
  },
  {
   "cell_type": "code",
   "execution_count": 33,
   "id": "2641bc6d-e6ce-4e4b-8f2d-bee619d2b228",
   "metadata": {},
   "outputs": [
    {
     "name": "stdout",
     "output_type": "stream",
     "text": [
      "Three\n"
     ]
    }
   ],
   "source": [
    "class example: \n",
    "  \n",
    "    def __init__(self): \n",
    "        print(\"One\") \n",
    "  \n",
    "    def __init__(self): \n",
    "        print(\"Two\") \n",
    "  \n",
    "    def __init__(self): \n",
    "        print(\"Three\") \n",
    "  \n",
    "  \n",
    "e = example()"
   ]
  },
  {
   "cell_type": "raw",
   "id": "93ba3b11-e60a-436d-9fb9-daf67e6d7ff6",
   "metadata": {},
   "source": [
    "11. What is method overloading, and how is it related to constructors in Python?"
   ]
  },
  {
   "cell_type": "raw",
   "id": "c835d071-53ee-4a99-85c5-c91674c5ec6c",
   "metadata": {},
   "source": [
    "Method overloading refers to the ability to define multiple methods with the same name but different parameters in a class. Python achieves method overloading through default parameter values and variable-length argument lists. Let’s explore the syntax and advantages."
   ]
  },
  {
   "cell_type": "code",
   "execution_count": null,
   "id": "96db9e5d-c823-47ea-bd62-0080bb2604ea",
   "metadata": {},
   "outputs": [
    {
     "name": "stdout",
     "output_type": "stream",
     "text": [
      "Alice None\n",
      "Bob 25\n"
     ]
    }
   ],
   "source": [
    "class Person:\n",
    "\tdef __init__(self, name, age=None):\n",
    "\t\tself.name = name\n",
    "\t\tself.age = age\n",
    "\n",
    "\n",
    "# Example Usage\n",
    "person1 = Person(\"Alice\")\n",
    "person2 = Person(\"Bob\", 25)\n",
    "\n",
    "# Output\n",
    "print(person1.name, person1.age)\n",
    "print(person2.name, person2.age)\n"
   ]
  },
  {
   "cell_type": "raw",
   "id": "c18d4c81-f14b-4252-9299-b2fdc6361498",
   "metadata": {},
   "source": [
    "In this example, The `Person` class defines a constructor with parameters `name` and optional `age`. Two instances, `person1` and `person2`, are created with different sets of parameters. The printed outputs display the names and ages for each instance, with `None` for `person1` and 25 for `person2`."
   ]
  },
  {
   "cell_type": "raw",
   "id": "bb9eb62a-1537-4a44-ab14-12e1f1922bd2",
   "metadata": {},
   "source": [
    "12. Explain the use of the `super()` function in Python constructors. Provide an example."
   ]
  },
  {
   "cell_type": "raw",
   "id": "a4b75241-3f8a-47e7-8c3b-e875d7782e2e",
   "metadata": {},
   "source": [
    "In Python, the super() function is used to refer to the parent class or superclass. It allows you to call methods defined in the superclass from the subclass, enabling you to extend and customize the functionality inherited from the parent class."
   ]
  },
  {
   "cell_type": "code",
   "execution_count": 35,
   "id": "453b0de4-40e9-4ebc-b6fa-8df575a615d7",
   "metadata": {},
   "outputs": [
    {
     "name": "stdout",
     "output_type": "stream",
     "text": [
      "The ID is: 103\n",
      "The Name is: Suraj kr gupta\n",
      "The Address is: Noida\n",
      "The Emails is: KKK@gmails\n"
     ]
    }
   ],
   "source": [
    "class Emp():\n",
    "    def __init__(self, id, name, Add):\n",
    "        self.id = id\n",
    "        self.name = name\n",
    "        self.Add = Add\n",
    "\n",
    "# Class freelancer inherits EMP\n",
    "class Freelance(Emp):\n",
    "    def __init__(self, id, name, Add, Emails):\n",
    "        super().__init__(id, name, Add)\n",
    "        self.Emails = Emails\n",
    "\n",
    "Emp_1 = Freelance(103, \"Suraj kr gupta\", \"Noida\" , \"KKK@gmails\")\n",
    "print('The ID is:', Emp_1.id)\n",
    "print('The Name is:', Emp_1.name)\n",
    "print('The Address is:', Emp_1.Add)\n",
    "print('The Emails is:', Emp_1.Emails)"
   ]
  },
  {
   "cell_type": "raw",
   "id": "33669cf2-ad68-46d8-8889-99bccd7c7058",
   "metadata": {},
   "source": [
    "13. Create a class called `Book` with a constructor that initializes the `title`, `author`, and `published_year`\n",
    "attributes. Provide a method to display book details."
   ]
  },
  {
   "cell_type": "code",
   "execution_count": 44,
   "id": "722e684f-c7a7-4a16-b852-599821bf2b06",
   "metadata": {},
   "outputs": [],
   "source": [
    "class book:\n",
    "    def __init__(self,title,author,year):\n",
    "        self.title = title\n",
    "        self.author = author\n",
    "        self.year = year\n",
    "    def book_detail(self):\n",
    "        return f\"(Title of book is {self.title} author is {self.author} and publish year is {self.year})\"\n",
    "        "
   ]
  },
  {
   "cell_type": "code",
   "execution_count": 45,
   "id": "c4748f5b-0034-4f23-9283-040f89d003cd",
   "metadata": {},
   "outputs": [
    {
     "data": {
      "text/plain": [
       "'(Title of book is atomic habit author is James and publish year is 2018)'"
      ]
     },
     "execution_count": 45,
     "metadata": {},
     "output_type": "execute_result"
    }
   ],
   "source": [
    "a = book(\"atomic habit\",\"James\",2018)\n",
    "a.book_detail()"
   ]
  },
  {
   "cell_type": "raw",
   "id": "2efc6cbe-3b44-4650-8adc-ce4e3cf90e05",
   "metadata": {},
   "source": [
    "14. Discuss the differences between constructors and regular methods in Python classes."
   ]
  },
  {
   "cell_type": "raw",
   "id": "866468ce-49b1-4cea-a69d-011fc1aa62bb",
   "metadata": {},
   "source": [
    "A constructor is a special type of method in a class that is automatically called when an instance of that class is created. While, A method in OOP is a block of code within a class that performs a specific task. In this blog, we will see the differences between them in detail!"
   ]
  },
  {
   "cell_type": "raw",
   "id": "3afc36cd-4a31-4f1b-b50f-3c27e6abbf82",
   "metadata": {},
   "source": [
    "15. Explain the role of the `self` parameter in instance variable initialization within a constructor."
   ]
  },
  {
   "cell_type": "raw",
   "id": "38f6e0d4-8554-46eb-8eff-1dcf9abb9659",
   "metadata": {},
   "source": [
    "In the constructor, “self” is used to initialize instance variables (arg1 and arg2) with the values passed as arguments. In the my_method, “self” is used to access and print the values of arg1 and arg2.\n",
    "\n",
    "It’s important to note that “self” is a convention and not a keyword in Python"
   ]
  },
  {
   "cell_type": "code",
   "execution_count": 47,
   "id": "0dabd760-cc79-4187-91bf-14d38055abf2",
   "metadata": {},
   "outputs": [],
   "source": [
    "class MyClass:\n",
    "    def __init__(self, arg1, arg2):\n",
    "        self.arg1 = arg1\n",
    "        self.arg2 = arg2\n",
    "\n",
    "    def my_method(self):\n",
    "        # accessing instance members using self\n",
    "        print(self.arg1, self.arg2)"
   ]
  },
  {
   "cell_type": "raw",
   "id": "ea654ce4-b516-4e9c-864e-c16419c19fc2",
   "metadata": {},
   "source": [
    "16. How do you prevent a class from having multiple instances by using constructors in Python? Provide an\n",
    "example."
   ]
  },
  {
   "cell_type": "raw",
   "id": "9003951d-a6dc-460c-9b43-b9a8235fdc9a",
   "metadata": {},
   "source": [
    "17. Create a Python class called `Student` with a constructor that takes a list of subjects as a parameter and\n",
    "initializes the `subjects` attribute."
   ]
  },
  {
   "cell_type": "code",
   "execution_count": 4,
   "id": "e4deed18-8b33-4f90-ac71-858e99ba3433",
   "metadata": {},
   "outputs": [],
   "source": [
    "class student:\n",
    "    def __init__(self,l):\n",
    "        self.l = l\n",
    "    def subjects(self):\n",
    "        return f\"(subject are {self.l})\""
   ]
  },
  {
   "cell_type": "code",
   "execution_count": 8,
   "id": "a97575e0-874a-4b60-bfe6-b88289ffbb1a",
   "metadata": {},
   "outputs": [
    {
     "data": {
      "text/plain": [
       "\"(subject are ['math', 'physics', 'chemistry'])\""
      ]
     },
     "execution_count": 8,
     "metadata": {},
     "output_type": "execute_result"
    }
   ],
   "source": [
    "a = student(['math','physics','chemistry'])\n",
    "a.subjects()"
   ]
  },
  {
   "cell_type": "raw",
   "id": "d021fbbd-46b7-49a2-a497-e19770e4dcee",
   "metadata": {},
   "source": [
    "In Python, the __del__() method is referred to as a destructor method. It is called after an object’s garbage collection occurs, which happens after all references to the item have been destroyed"
   ]
  },
  {
   "cell_type": "code",
   "execution_count": 10,
   "id": "812e6bc9-622b-4b7b-8a7d-75efdc350583",
   "metadata": {},
   "outputs": [
    {
     "name": "stdout",
     "output_type": "stream",
     "text": [
      "Student table created.\n",
      "Destructor called, Student table deleted.\n"
     ]
    }
   ],
   "source": [
    "\n",
    "# Python program to illustrate __del__\n",
    "class Student:\n",
    "       # Initializing\n",
    "       def __init__(self):\n",
    "             print('Student table created.')\n",
    "\n",
    "       # Deleting (Calling destructor)\n",
    "       def __del__(self):\n",
    "             print('Destructor called, Student table deleted.')\n",
    "\n",
    "Stud1 = Student()\n",
    "del Stud1"
   ]
  },
  {
   "cell_type": "raw",
   "id": "955066c1-faa8-437b-8df8-c3ca32baed8c",
   "metadata": {},
   "source": [
    "19. Explain the use of constructor chaining in Python. Provide a practical example."
   ]
  },
  {
   "cell_type": "raw",
   "id": "323084d2-c103-4a64-8c80-db033ca8b58f",
   "metadata": {},
   "source": [
    "Constructor chaining is the process of calling one constructor from another constructor. Constructor chaining is useful when you want to invoke multiple constructors, one after another, by initializing only one instance.\n",
    "\n",
    "In Python, constructor chaining is convenient when we are dealing with inheritance."
   ]
  },
  {
   "cell_type": "code",
   "execution_count": 12,
   "id": "ec9af182-bad8-4b9d-aa86-7332468277b1",
   "metadata": {},
   "outputs": [
    {
     "name": "stdout",
     "output_type": "stream",
     "text": [
      "Inside Vehicle Constructor\n",
      "Inside Car Constructor\n",
      "Inside Electric Car Constructor\n",
      "Engine=1500cc, Max Speed=240, Km range=750\n"
     ]
    }
   ],
   "source": [
    "class Vehicle:\n",
    "    # Constructor of Vehicle\n",
    "    def __init__(self, engine):\n",
    "        print('Inside Vehicle Constructor')\n",
    "        self.engine = engine\n",
    "\n",
    "class Car(Vehicle):\n",
    "    # Constructor of Car\n",
    "    def __init__(self, engine, max_speed):\n",
    "        super().__init__(engine)\n",
    "        print('Inside Car Constructor')\n",
    "        self.max_speed = max_speed\n",
    "\n",
    "class Electric_Car(Car):\n",
    "    # Constructor of Electric Car\n",
    "    def __init__(self, engine, max_speed, km_range):\n",
    "        super().__init__(engine, max_speed)\n",
    "        print('Inside Electric Car Constructor')\n",
    "        self.km_range = km_range\n",
    "\n",
    "# Object of electric car\n",
    "ev = Electric_Car('1500cc', 240, 750)\n",
    "print(f'Engine={ev.engine}, Max Speed={ev.max_speed}, Km range={ev.km_range}')"
   ]
  },
  {
   "cell_type": "raw",
   "id": "e26403fe-d825-4a68-98d8-3ea4e178828a",
   "metadata": {},
   "source": [
    "20. Create a Python class called `Car` with a default constructor that initializes the `make` and `model`\n",
    "attributes. Provide a method to display car information."
   ]
  },
  {
   "cell_type": "code",
   "execution_count": 13,
   "id": "134c75b1-5973-4481-ac81-c38f0d167904",
   "metadata": {},
   "outputs": [],
   "source": [
    "class car:\n",
    "    def __init__(self,make,model):\n",
    "        self.make = make\n",
    "        self.madel = model\n",
    "    def display_car(self):\n",
    "        return f\"(made year is {self.make} and model of the car is {self.model})\""
   ]
  },
  {
   "cell_type": "code",
   "execution_count": 32,
   "id": "c10890ba-1f81-4f1b-ab47-8c351211da18",
   "metadata": {},
   "outputs": [
    {
     "ename": "AttributeError",
     "evalue": "'car' object has no attribute 'model'",
     "output_type": "error",
     "traceback": [
      "\u001b[0;31m---------------------------------------------------------------------------\u001b[0m",
      "\u001b[0;31mAttributeError\u001b[0m                            Traceback (most recent call last)",
      "Cell \u001b[0;32mIn[32], line 2\u001b[0m\n\u001b[1;32m      1\u001b[0m shiva \u001b[38;5;241m=\u001b[39m car(\u001b[38;5;124m'\u001b[39m\u001b[38;5;124m2024\u001b[39m\u001b[38;5;124m'\u001b[39m,\u001b[38;5;124m'\u001b[39m\u001b[38;5;124mnew model\u001b[39m\u001b[38;5;124m'\u001b[39m)\n\u001b[0;32m----> 2\u001b[0m \u001b[43mshiva\u001b[49m\u001b[38;5;241;43m.\u001b[39;49m\u001b[43mdisplay_car\u001b[49m\u001b[43m(\u001b[49m\u001b[43m)\u001b[49m\n",
      "Cell \u001b[0;32mIn[13], line 6\u001b[0m, in \u001b[0;36mcar.display_car\u001b[0;34m(self)\u001b[0m\n\u001b[1;32m      5\u001b[0m \u001b[38;5;28;01mdef\u001b[39;00m \u001b[38;5;21mdisplay_car\u001b[39m(\u001b[38;5;28mself\u001b[39m):\n\u001b[0;32m----> 6\u001b[0m     \u001b[38;5;28;01mreturn\u001b[39;00m \u001b[38;5;124mf\u001b[39m\u001b[38;5;124m\"\u001b[39m\u001b[38;5;124m(made year is \u001b[39m\u001b[38;5;132;01m{\u001b[39;00m\u001b[38;5;28mself\u001b[39m\u001b[38;5;241m.\u001b[39mmake\u001b[38;5;132;01m}\u001b[39;00m\u001b[38;5;124m and model of the car is \u001b[39m\u001b[38;5;132;01m{\u001b[39;00m\u001b[38;5;28;43mself\u001b[39;49m\u001b[38;5;241;43m.\u001b[39;49m\u001b[43mmodel\u001b[49m\u001b[38;5;132;01m}\u001b[39;00m\u001b[38;5;124m)\u001b[39m\u001b[38;5;124m\"\u001b[39m\n",
      "\u001b[0;31mAttributeError\u001b[0m: 'car' object has no attribute 'model'"
     ]
    }
   ],
   "source": [
    "shiva = car('2024','new model')\n",
    "shiva.display_car()\n",
    "\n",
    "        "
   ]
  },
  {
   "cell_type": "markdown",
   "id": "ddfa680e-caf4-4962-8110-cf74bf7554ff",
   "metadata": {},
   "source": [
    "****Inheritance:*****"
   ]
  },
  {
   "cell_type": "raw",
   "id": "f1ce46d9-b541-4267-873d-2849a5d073f8",
   "metadata": {},
   "source": [
    "1. What is inheritance in Python? Explain its significance in object-oriented programming."
   ]
  },
  {
   "cell_type": "raw",
   "id": "0a594e47-6309-4828-8741-6148e6a9e638",
   "metadata": {},
   "source": [
    "Inheritance allows us to define a class that inherits all the methods and properties from another class. Parent class is the class being inherited from, also called base class. Child class is the class that inherits from another class, also called derived class"
   ]
  },
  {
   "cell_type": "code",
   "execution_count": 33,
   "id": "908bc429-7738-465d-965a-0bfbf7f35f58",
   "metadata": {},
   "outputs": [],
   "source": [
    "class person:\n",
    "    def __init__(self,name):\n",
    "        self.name = name\n",
    "    def getname(self):\n",
    "        return self.name\n",
    "    def isemployee(self):\n",
    "        return False\n",
    "class employee(person):\n",
    "    def isemployee(self):\n",
    "        return True"
   ]
  },
  {
   "cell_type": "code",
   "execution_count": null,
   "id": "4e426026-2e16-45d0-b94c-cdaaff83aae8",
   "metadata": {},
   "outputs": [
    {
     "data": {
      "text/plain": [
       "False"
      ]
     },
     "execution_count": 38,
     "metadata": {},
     "output_type": "execute_result"
    }
   ],
   "source": [
    "emp = person(\"Harsh\")\n",
    "emp.isemployee()"
   ]
  },
  {
   "cell_type": "code",
   "execution_count": 40,
   "id": "be9cf2d8-8047-4ee0-9c3b-994069182f1b",
   "metadata": {},
   "outputs": [
    {
     "data": {
      "text/plain": [
       "'Harsh'"
      ]
     },
     "execution_count": 40,
     "metadata": {},
     "output_type": "execute_result"
    }
   ],
   "source": [
    "emp.getname()"
   ]
  },
  {
   "cell_type": "code",
   "execution_count": 48,
   "id": "b42e9671-e216-4103-a963-975209ecc825",
   "metadata": {},
   "outputs": [
    {
     "data": {
      "text/plain": [
       "True"
      ]
     },
     "execution_count": 48,
     "metadata": {},
     "output_type": "execute_result"
    }
   ],
   "source": [
    "emp1 = employee(emp)\n",
    "emp1.isemployee()"
   ]
  },
  {
   "cell_type": "raw",
   "id": "c09b776e-1072-4e0e-9606-bf7f8618a39d",
   "metadata": {},
   "source": [
    "2. Differentiate between single inheritance and multiple inheritance in Python. Provide examples for each."
   ]
  },
  {
   "cell_type": "raw",
   "id": "e87e9a0f-2304-4091-b685-c7407bcfeba6",
   "metadata": {},
   "source": [
    "Single Inheritance: \n",
    "Single inheritance enables a derived class to inherit properties from a single parent class, thus enabling code reusability and the addition of new features to existing code.\n"
   ]
  },
  {
   "cell_type": "code",
   "execution_count": 51,
   "id": "e7b3ade6-e329-4ca0-a79a-5d02464df546",
   "metadata": {},
   "outputs": [
    {
     "name": "stdout",
     "output_type": "stream",
     "text": [
      "this function in parent class\n",
      "this function in child class\n"
     ]
    }
   ],
   "source": [
    "class parent:\n",
    "    def func1(self):\n",
    "        print(\"this function in parent class\")\n",
    "class child(parent):\n",
    "    def func2(self):\n",
    "        print(\"this function in child class\")\n",
    "object_ = child()\n",
    "object_.func1()\n",
    "object_.func2()"
   ]
  },
  {
   "cell_type": "raw",
   "id": "cceee41f-3b72-4683-a3d2-44a85216027d",
   "metadata": {},
   "source": [
    "Multiple Inheritance: \n",
    "When a class can be derived from more than one base class this type of inheritance is called multiple inheritances. In multiple inheritances, all the features of the base classes are inherited into the derived class."
   ]
  },
  {
   "cell_type": "code",
   "execution_count": 53,
   "id": "befe484c-8dae-4b5f-b433-4fe5b1862275",
   "metadata": {},
   "outputs": [
    {
     "name": "stdout",
     "output_type": "stream",
     "text": [
      "Father:   ram\n",
      "Mother:   sita\n"
     ]
    }
   ],
   "source": [
    "class mother:\n",
    "    mothername = \"\"\n",
    "    def mother(self):\n",
    "        print(self.mothername)\n",
    "class father:\n",
    "    fathername = \"\"\n",
    "    def father(self):\n",
    "        print(self.fathername)\n",
    "class son(mother,father):\n",
    "    def parents(self):\n",
    "        print(\"Father:  \",self.fathername)\n",
    "        print(\"Mother:  \",self.mothername)\n",
    "s1 = son()\n",
    "s1.fathername = 'ram'\n",
    "s1.mothername = 'sita'\n",
    "s1.parents()\n"
   ]
  },
  {
   "cell_type": "raw",
   "id": "bc831363-cc5b-4cd4-b6e4-69c0f04a53d4",
   "metadata": {},
   "source": [
    "3. Create a Python class called `Vehicle` with attributes `color` and `speed`. Then, create a child class called\n",
    "`Car` that inherits from `Vehicle` and adds a `brand` attribute. Provide an example of creating a `Car` object."
   ]
  },
  {
   "cell_type": "code",
   "execution_count": 8,
   "id": "a1a088ab-9bd8-47a0-b5ab-b18a40df818c",
   "metadata": {},
   "outputs": [],
   "source": [
    "class Vehicle:\n",
    "    def __init__(self,color,speed):\n",
    "        print(\"inside vehicle\")\n",
    "        self.color = color\n",
    "        self.speed = speed\n",
    "class car(Vehicle):\n",
    "    def __init__(self,color,speed,brand):\n",
    "        super().__init__(color,speed)\n",
    "        print(\"car detail\")\n",
    "        self.brand = brand"
   ]
  },
  {
   "cell_type": "code",
   "execution_count": 9,
   "id": "94e17a5a-4585-4d63-8cbd-f24895c6b925",
   "metadata": {},
   "outputs": [
    {
     "name": "stdout",
     "output_type": "stream",
     "text": [
      "inside vehicle\n",
      "car detail\n"
     ]
    }
   ],
   "source": [
    "a = car('white','200','maruti')\n"
   ]
  },
  {
   "cell_type": "raw",
   "id": "f8ace94e-74d5-4078-bd26-66ccf231bd72",
   "metadata": {},
   "source": [
    "4. Explain the concept of method overriding in inheritance. Provide a practical example."
   ]
  },
  {
   "cell_type": "raw",
   "id": "07f54f7d-b0b4-47f2-9f48-46af569c67c7",
   "metadata": {},
   "source": [
    "Method overriding is an ability of any object-oriented programming language that allows a subclass or child class to provide a specific implementation of a method that is already provided by one of its super-classes or parent classes. When a method in a subclass has the same name, the same parameters or signature, and same return type(or sub-type) as a method in its super-class, then the method in the subclass is said to override the method in the super-class."
   ]
  },
  {
   "cell_type": "code",
   "execution_count": 16,
   "id": "23662852-e866-4f53-8e9d-6bd581fd144e",
   "metadata": {},
   "outputs": [
    {
     "name": "stdout",
     "output_type": "stream",
     "text": [
      "inside Parent\n",
      "inside child\n"
     ]
    }
   ],
   "source": [
    "class parent():\n",
    "    def __init__(self):\n",
    "        self.value = \"inside Parent\"\n",
    "    def show(self):\n",
    "        \n",
    "        print(self.value)\n",
    "class child(parent):\n",
    "    def __init__(self):\n",
    "        super().__init__()\n",
    "        self.value = \"inside child\"\n",
    "        \n",
    "    def show(self):\n",
    "        print(self.value)\n",
    "obj1 = parent()\n",
    "obj2 = child()\n",
    "obj1.show()\n",
    "obj2.show()"
   ]
  },
  {
   "cell_type": "raw",
   "id": "752a55fc-84b8-4aa1-9126-f129ad702862",
   "metadata": {},
   "source": [
    "5. How can you access the methods and attributes of a parent class from a child class in Python? Give an\n",
    "example."
   ]
  },
  {
   "cell_type": "raw",
   "id": "a5036d37-33c0-4900-aca4-bcddfe83d6bf",
   "metadata": {},
   "source": [
    "A class is a user-defined blueprint or prototype from which objects are created. Classes provide a means of bundling data and functionality together. Creating a new class creates a new type of object, allowing new instances of that type to be made. Each class instance can have attributes attached to it for maintaining its state. Class instances can also have methods (defined by its class) for modifying its state"
   ]
  },
  {
   "cell_type": "code",
   "execution_count": 20,
   "id": "4fc955be-a127-46c8-b5b6-dda7273349b9",
   "metadata": {},
   "outputs": [],
   "source": [
    "class person:\n",
    "    def __init__(self,name,roll_no):\n",
    "        self.name = name\n",
    "        self.roll_no = roll_no\n",
    "    def display(self):\n",
    "        return f\"(Name of emp is {self.name},roll no of emp is {self.roll_no})\"\n",
    "class employee(person):\n",
    "    def __init__(self,name,roll_no,salary):\n",
    "        super().__init__(name,roll_no)\n",
    "        self.salary = salary\n",
    "    def detail(self):\n",
    "        return f\"(Name {self.name} rollNo {self.roll_no} salary {self.salary})\"\n",
    "        \n",
    "        "
   ]
  },
  {
   "cell_type": "code",
   "execution_count": 24,
   "id": "01cb9255-f183-46c1-a96e-cea75842c99e",
   "metadata": {},
   "outputs": [
    {
     "data": {
      "text/plain": [
       "'(Name Harsh rollNo 1234 salary 12580)'"
      ]
     },
     "execution_count": 24,
     "metadata": {},
     "output_type": "execute_result"
    }
   ],
   "source": [
    "a = employee('Harsh','1234',12580)\n",
    "a.detail()"
   ]
  },
  {
   "cell_type": "raw",
   "id": "d68cf1df-f11b-42fe-b878-207f4d0a6691",
   "metadata": {},
   "source": [
    "6. Discuss the use of the `super()` function in Python inheritance. When and why is it used? Provide an\n",
    "example."
   ]
  },
  {
   "cell_type": "raw",
   "id": "7908a37e-74f9-4ba7-85b8-41eae0e4c7a9",
   "metadata": {},
   "source": [
    "In Python, the super() function is used to refer to the parent class or superclass. It allows you to call methods defined in the superclass from the subclass, enabling you to extend and customize the functionality inherited from the parent class."
   ]
  },
  {
   "cell_type": "code",
   "execution_count": 26,
   "id": "ea388c06-a879-4d05-9e6d-4b08df8e56ef",
   "metadata": {},
   "outputs": [],
   "source": [
    "class person:\n",
    "    def __init__(self,name,roll_no):\n",
    "        self.name = name\n",
    "        self.roll_no = roll_no\n",
    "    def display(self):\n",
    "        return f\"(Name of emp is {self.name},roll no of emp is {self.roll_no})\"\n",
    "class employee(person):\n",
    "    def __init__(self,name,roll_no,salary):\n",
    "        super().__init__(name,roll_no)\n",
    "        self.salary = salary\n",
    "    def detail(self):\n",
    "        return f\"(Name {self.name} rollNo {self.roll_no} salary {self.salary})\"\n",
    "        "
   ]
  },
  {
   "cell_type": "code",
   "execution_count": 27,
   "id": "ff737ff1-9727-4e8b-a154-7b05428f9713",
   "metadata": {},
   "outputs": [
    {
     "data": {
      "text/plain": [
       "'(Name Harsh rollNo 1234 salary 12580)'"
      ]
     },
     "execution_count": 27,
     "metadata": {},
     "output_type": "execute_result"
    }
   ],
   "source": [
    "a = employee('Harsh','1234',12580)\n",
    "a.detail()"
   ]
  },
  {
   "cell_type": "raw",
   "id": "854034a0-5b12-4abb-a397-49ebf65856b8",
   "metadata": {},
   "source": [
    "7. Create a Python class called `Animal` with a method `speak()`. Then, create child classes `Dog` and `Cat` that iterate from Animal and override the speak() method provide an example of using these classes"
   ]
  },
  {
   "cell_type": "code",
   "execution_count": 27,
   "id": "960d5c49-75a6-4c40-b192-3e35f70cdf1e",
   "metadata": {},
   "outputs": [],
   "source": [
    "class Animal:\n",
    "    def __init__(self):\n",
    "        self.value = \"Inside Animal Class\"\n",
    "    def speak(self):\n",
    "        print(self.speak)\n",
    "class Dog(Animal):\n",
    "    def __init__(self):\n",
    "        super().__init__()\n",
    "        self.value = \"Inside Dog Class\"\n",
    "    def speak(self):\n",
    "        print(self.speak)\n",
    "class cat(Dog):\n",
    "    def __init__(self):\n",
    "        super().__init__()\n",
    "        self.value = \"Inside Cat class\"\n",
    "    def speak(self):\n",
    "        print(self.speak)\n",
    "    "
   ]
  },
  {
   "cell_type": "code",
   "execution_count": 30,
   "id": "1a364cc2-d145-4d2d-837a-a1663fef2acc",
   "metadata": {},
   "outputs": [
    {
     "name": "stdout",
     "output_type": "stream",
     "text": [
      "<bound method Animal.speak of <__main__.Animal object at 0x73a83c2bdde0>>\n"
     ]
    }
   ],
   "source": [
    "A = Animal()\n",
    "B = Dog()\n",
    "C = cat()\n",
    "A.speak()"
   ]
  },
  {
   "cell_type": "raw",
   "id": "112af432-0b8d-45a8-934f-0e99f657cc44",
   "metadata": {},
   "source": [
    "8. Explain the role of the `isinstance()` function in Python and how it relates to inheritance."
   ]
  },
  {
   "cell_type": "raw",
   "id": "c8eb646d-c6b2-4025-8981-634ab1c845de",
   "metadata": {},
   "source": [
    "Python isinstance() function returns True if the object is of specified types, and if it does not match then returns False. In this article we will see how isinstance() method works in Python"
   ]
  },
  {
   "cell_type": "code",
   "execution_count": 33,
   "id": "7c6d5f67-2111-4f69-96c0-1738df5759d3",
   "metadata": {},
   "outputs": [
    {
     "name": "stdout",
     "output_type": "stream",
     "text": [
      "The variable number is not instance\n"
     ]
    }
   ],
   "source": [
    "number = [1,2,3,4,5,6]\n",
    "result = isinstance(number,tuple)\n",
    "if result:\n",
    "    print(\"The Variable number is an instance of list\")\n",
    "else:\n",
    "    print(\"The variable number is not instance\")"
   ]
  },
  {
   "cell_type": "raw",
   "id": "6d7ca423-6b6e-4a88-bc7f-9141bdffbf61",
   "metadata": {},
   "source": [
    "9. What is the purpose of the `issubclass()` function in Python? Provide an example."
   ]
  },
  {
   "cell_type": "raw",
   "id": "09e095b3-9311-434b-9f09-555b8bb06260",
   "metadata": {},
   "source": [
    "Python issubclass() is a built-in function used to check if a class is a subclass of another class or not. This function returns True if the given class is the subclass of the given class else it returns False. We can determine class inheritance in Python by using issubclass()."
   ]
  },
  {
   "cell_type": "code",
   "execution_count": 36,
   "id": "59970afe-c713-4137-b433-7ef5eb28251d",
   "metadata": {},
   "outputs": [
    {
     "name": "stdout",
     "output_type": "stream",
     "text": [
      "Float is the subclass of str: False\n",
      "Bool is the subclass of int: True\n",
      "int is the subclass of float: False\n",
      "collections.defaultdict is the subclass of dict:  True\n"
     ]
    }
   ],
   "source": [
    "print(\"Float is the subclass of str:\", issubclass(float,str))\n",
    "print(\"Bool is the subclass of int:\", issubclass(bool,int))\n",
    "print(\"int is the subclass of float:\",issubclass(int,float))\n",
    "import collections\n",
    "print('collections.defaultdict is the subclass of dict: ', issubclass(collections.defaultdict, dict))\n"
   ]
  },
  {
   "cell_type": "raw",
   "id": "234e9fc6-e5c5-43fc-9067-99ae07893ccd",
   "metadata": {},
   "source": [
    "10. Discuss the concept of constructor inheritance in Python. How are constructors inherited in child classes?"
   ]
  },
  {
   "cell_type": "raw",
   "id": "e4420613-2c19-4a1e-8b25-8f9cc6f27cc8",
   "metadata": {},
   "source": [
    "11. Create a Python class called `Shape` with a method `area()` that calculates the area of a shape. Then, create child classes `Circle` and `Rectangle` that inherit from `Shape` and implement the `area()` method\n",
    "accordingly. Provide an example."
   ]
  },
  {
   "cell_type": "code",
   "execution_count": 37,
   "id": "de703e05-5986-4ff8-8b6a-32f2c73d0ba1",
   "metadata": {},
   "outputs": [],
   "source": [
    "class shape:\n",
    "    def __init__(self,width,height):\n",
    "        self.width = width\n",
    "        self.height = height\n",
    "    def area(self):\n",
    "        return f\"(area of shape is {self.width+self.height})\"\n",
    "class circle(shape):\n",
    "    def __init__(self,width,height,radius):\n",
    "        super().__init__(width,height)\n",
    "        self.radius = radius\n",
    "    def area(self):\n",
    "        return f\"(area of circle is {self.radius**2})\"\n",
    "class ractangle(circle):\n",
    "    def __init__(self,width,height,radius):\n",
    "        super().__init__(width,height,radius)\n",
    "    def area(self):\n",
    "        return f\"(area of ractagle is {self.width*self.height})\"\n",
    "    "
   ]
  },
  {
   "cell_type": "code",
   "execution_count": 40,
   "id": "21ea3d15-4156-41c4-8be0-73dfc362d120",
   "metadata": {},
   "outputs": [
    {
     "data": {
      "text/plain": [
       "'(area of ractagle is 6)'"
      ]
     },
     "execution_count": 40,
     "metadata": {},
     "output_type": "execute_result"
    }
   ],
   "source": [
    "a1 = shape(2,3)\n",
    "a1.area()\n",
    "a2 = circle(1,2,3)\n",
    "a2.area()\n",
    "a3 = ractangle(3,2,3)\n",
    "a3.area()"
   ]
  },
  {
   "cell_type": "raw",
   "id": "93c7c5c6-0fba-4509-9fb0-50ceaeea7249",
   "metadata": {},
   "source": [
    "12. Explain the use of abstract base classes (ABCs) in Python and how they relate to inheritance. Provide an\n",
    "example using the `abc` module."
   ]
  },
  {
   "cell_type": "raw",
   "id": "9977196c-a074-44e3-a39d-c7b9f96c7130",
   "metadata": {},
   "source": [
    "An ABC is a special type of class that contains one or more abstract methods. Abstract methods are methods that have no implementation in the ABC but must be implemented in any class that inherits from the ABC. In other words, an ABC provides a set of common methods or attributes that its subclasses must implement"
   ]
  },
  {
   "cell_type": "code",
   "execution_count": 42,
   "id": "68295d6c-34ec-44c3-94e7-7db68082bd77",
   "metadata": {},
   "outputs": [],
   "source": [
    "from abc import ABC,abstractclassmethod\n",
    "class shape(ABC):\n",
    "    @abstractclassmethod\n",
    "    def area(self):\n",
    "        pass\n",
    "    @abstractclassmethod\n",
    "    def perimeter(self):\n",
    "        pass"
   ]
  },
  {
   "cell_type": "raw",
   "id": "44d618fb-96ef-439e-a29b-1b247fb99cfd",
   "metadata": {},
   "source": [
    "13. How can you prevent a child class from modifying certain attributes or methods inherited from a parent\n",
    "class in Python?"
   ]
  },
  {
   "cell_type": "raw",
   "id": "7c0b42e0-5e7f-4c41-9e65-a5c28259609f",
   "metadata": {},
   "source": [
    "14. Create a Python class called `Employee` with attributes `name` and `salary`. Then, create a child class\n",
    "`Manager` that inherits from `Employee` and adds an attribute `department`. Provide an example."
   ]
  },
  {
   "cell_type": "code",
   "execution_count": 12,
   "id": "2ce2a877-d034-4367-9809-0c0264796fcd",
   "metadata": {},
   "outputs": [],
   "source": [
    "class Employee:\n",
    "    def __init__(self,name ,salary):\n",
    "        self.name = name\n",
    "        self.salary = salary\n",
    "    def show(self):\n",
    "        return f\"(Name of the employee is {self.name} and salary is {self.salary})\"\n",
    "class Manager(Employee):\n",
    "    def __init__(self,name,salary,department):\n",
    "        super().__init__(name,salary)\n",
    "        self.department = department\n",
    "    def show(self):\n",
    "        return f\"(Department is {self.department})\"\n",
    "    "
   ]
  },
  {
   "cell_type": "code",
   "execution_count": 14,
   "id": "17206de4-67ea-4c71-a7c5-38a17b212b6c",
   "metadata": {},
   "outputs": [
    {
     "data": {
      "text/plain": [
       "'(Department is IT)'"
      ]
     },
     "execution_count": 14,
     "metadata": {},
     "output_type": "execute_result"
    }
   ],
   "source": [
    "a1 = Employee(\"Harsh\",50000)\n",
    "a1.show()\n",
    "a2 = Manager(\"Harsh\",\"Name\",\"IT\")\n",
    "a2.show()"
   ]
  },
  {
   "cell_type": "raw",
   "id": "900a899c-a19d-4be3-8bf2-4a93474136b5",
   "metadata": {},
   "source": [
    "15. Discuss the concept of method overloading in Python inheritance. How does it differ from method\n",
    "overriding?"
   ]
  },
  {
   "cell_type": "raw",
   "id": "52a8a782-feec-4a48-b169-dc0483de2588",
   "metadata": {},
   "source": [
    "Method Overloading: \n",
    "Method Overloading is an example of Compile time polymorphism. In this, more than one method of the same class shares the same method name having different signatures. Method overloading is used to add more to the behavior of methods and there is no need of more than one class for method overloading.\n",
    "Note: Python does not support method overloading. We may overload the methods but can only use the latest defined method."
   ]
  },
  {
   "cell_type": "code",
   "execution_count": 15,
   "id": "ff634e16-262b-4434-96ee-54ff712f4952",
   "metadata": {},
   "outputs": [
    {
     "name": "stdout",
     "output_type": "stream",
     "text": [
      "11\n",
      "Hi Geeks\n"
     ]
    }
   ],
   "source": [
    "# Function to take multiple arguments \n",
    "def add(datatype, *args): \n",
    "\n",
    "\t# if datatype is int \n",
    "\t# initialize answer as 0 \n",
    "\tif datatype =='int': \n",
    "\t\tanswer = 0\n",
    "\t\t\n",
    "\t# if datatype is str \n",
    "\t# initialize answer as '' \n",
    "\tif datatype =='str': \n",
    "\t\tanswer ='' \n",
    "\n",
    "\t# Traverse through the arguments \n",
    "\tfor x in args: \n",
    "\n",
    "\t\t# This will do addition if the \n",
    "\t\t# arguments are int. Or concatenation \n",
    "\t\t# if the arguments are str \n",
    "\t\tanswer = answer + x \n",
    "\n",
    "\tprint(answer) \n",
    "\n",
    "# Integer \n",
    "add('int', 5, 6) \n",
    "\n",
    "# String \n",
    "add('str', 'Hi ', 'Geeks') \n"
   ]
  },
  {
   "cell_type": "raw",
   "id": "2a539806-82eb-47c1-8c53-51a336cd1f5b",
   "metadata": {},
   "source": [
    "Method Overriding: \n",
    "Method overriding is an example of run time polymorphism. In this, the specific implementation of the method that is already provided by the parent class is provided by the child class. It is used to change the behavior of existing methods and there is a need for at least two classes for method overriding. In method overriding, inheritance always required as it is done between parent class(superclass) and child class(child class) methods."
   ]
  },
  {
   "cell_type": "code",
   "execution_count": 17,
   "id": "22168b5f-1306-4a07-9694-58b96a2bff72",
   "metadata": {},
   "outputs": [],
   "source": [
    "class A:\n",
    "    def func1(self):\n",
    "        print('feature1 classA')\n",
    "    def func2(self):\n",
    "        print('feature2 ClassA')\n",
    "class B(A):\n",
    "    def func1(self):\n",
    "        print('modified feature1 ClassB')\n",
    "    def func3(self):\n",
    "        print('feature3 classA')"
   ]
  },
  {
   "cell_type": "code",
   "execution_count": 23,
   "id": "cec859c5-a7ce-484e-9a00-aa0da64ebe0a",
   "metadata": {},
   "outputs": [
    {
     "name": "stdout",
     "output_type": "stream",
     "text": [
      "feature1 classA\n",
      "modified feature1 ClassB\n"
     ]
    }
   ],
   "source": [
    "a = A()\n",
    "a.func1()\n",
    "b = B()\n",
    "b.func1()"
   ]
  },
  {
   "cell_type": "raw",
   "id": "357320b8-fb5b-4417-8b09-a4dd1af0a481",
   "metadata": {},
   "source": [
    "16. Explain the purpose of the `__init__()` method in Python inheritance and how it is utilized in child classes."
   ]
  },
  {
   "cell_type": "raw",
   "id": "fe5eadf3-2eff-4ffd-933e-fa0a72da97ec",
   "metadata": {},
   "source": [
    "In Python, __init__ is a special method known as the constructor. It is automatically called when a new instance (object) of a class is created. The __init__ method allows you to initialize the attributes (variables) of an object\n",
    "\n",
    "Ex -  class class_name():\n",
    "           \n",
    "          def __init__(self):\n",
    "                  # Required initialisation for data members\n",
    " \n",
    "          # Class methods"
   ]
  },
  {
   "cell_type": "raw",
   "id": "2784a88c-d327-4b32-96b6-c8a074ba5cb4",
   "metadata": {},
   "source": [
    "17. Create a Python class called `Bird` with a method `fly()`. Then, create child classes `Eagle` and `Sparrow` that inherit from `Bird` and implement the `fly()` method differently. Provide an example of using these\n",
    "classes."
   ]
  },
  {
   "cell_type": "code",
   "execution_count": 34,
   "id": "283cb3d9-a838-4fb9-9648-53343e5b813c",
   "metadata": {},
   "outputs": [],
   "source": [
    "class Bird:\n",
    "    def __init__(self,fly):\n",
    "        self.fly = fly\n",
    "    def show(self):\n",
    "        return f\"(this is bird {self.fly})\"\n",
    "class Eagle(Bird):\n",
    "    def __init__(self,fly):\n",
    "        super().__init__(fly)\n",
    "        self.fly = fly\n",
    "    def show(self):\n",
    "        return f\"(This is Eagle {self.fly})\"\n",
    "class sparrow(Bird):\n",
    "    def __init__(self,fly):\n",
    "        super().__init__(fly)\n",
    "        self.fly = fly\n",
    "    def show(self):\n",
    "        return f\"(This is sparrow {self.fly})\"\n",
    "    "
   ]
  },
  {
   "cell_type": "code",
   "execution_count": 36,
   "id": "14f75929-86a1-493c-b62b-63f6f03994b8",
   "metadata": {},
   "outputs": [
    {
     "data": {
      "text/plain": [
       "'(This is sparrow fly)'"
      ]
     },
     "execution_count": 36,
     "metadata": {},
     "output_type": "execute_result"
    }
   ],
   "source": [
    "a1 = Bird(\"fly\")\n",
    "a1.show()\n",
    "a2 = Eagle(\"fly\")\n",
    "a2.show()\n",
    "a3 = sparrow(\"fly\")\n",
    "a3.show()"
   ]
  },
  {
   "cell_type": "raw",
   "id": "1068a6f0-d356-470b-9c7d-0db7abaad6f2",
   "metadata": {},
   "source": [
    "18. What is the \"diamond problem\" in multiple inheritance, and how does Python address it?"
   ]
  },
  {
   "cell_type": "raw",
   "id": "41b49506-c16b-46b4-b711-c6abb7b85cfb",
   "metadata": {},
   "source": [
    "The Diamond Problem is a classic issue that can occur in languages that support multiple inheritance, including Python. It arises when a class inherits from two or more classes that have a common ancestor. This can lead to ambiguity in method and attribute resolution"
   ]
  },
  {
   "cell_type": "raw",
   "id": "11344779-04ad-406d-bd63-7dab3db807ba",
   "metadata": {},
   "source": [
    "19. Discuss the concept of \"is-a\" and \"has-a\" relationships in inheritance, and provide examples of each."
   ]
  },
  {
   "cell_type": "raw",
   "id": "fd7bb9d5-cfe6-4e86-8baa-ad2b897f5d73",
   "metadata": {},
   "source": [
    "The classes which inherit are known as sub classes or child classes. On the other hand, HAS-A relationship is composition. In OOP, IS-A relationship is completely inheritance."
   ]
  },
  {
   "cell_type": "raw",
   "id": "22e4b734-d7b7-4b45-8cd8-25309ea26c7c",
   "metadata": {},
   "source": [
    "20. Create a Python class hierarchy for a university system. Start with a base class `Person` and create child\n",
    "classes `Student` and `Professor`, each with their own attributes and methods. Provide an example of using\n",
    "these classes in a university context."
   ]
  },
  {
   "cell_type": "code",
   "execution_count": 9,
   "id": "ff863a9b-1917-4d97-9349-c3c8342d814a",
   "metadata": {},
   "outputs": [],
   "source": [
    "class person:\n",
    "    def __init__(self,name,designation):\n",
    "        self.name = name\n",
    "        self.designation = designation\n",
    "    def show(self):\n",
    "        return f\"(Name of the Employee is {self.name} and dessignation is {self.designation})\"\n",
    "class student(person):\n",
    "    def __init__(self,name,designation,student_name):\n",
    "        super().__init__(name,designation)\n",
    "        self.student_name = student_name\n",
    "    def show(self):\n",
    "        return f\"(student name is {self.student_name})\"\n",
    "class professor(student):\n",
    "    def __init__(self,name,designation,student_name,professor):\n",
    "        super().__init__(name,designation,student_name)\n",
    "        self.professor = professor\n",
    "    def show(self):\n",
    "        return self.professor"
   ]
  },
  {
   "cell_type": "code",
   "execution_count": 11,
   "id": "dc961914-35bc-4d72-975b-5026467c4eb8",
   "metadata": {},
   "outputs": [
    {
     "data": {
      "text/plain": [
       "'Physics'"
      ]
     },
     "execution_count": 11,
     "metadata": {},
     "output_type": "execute_result"
    }
   ],
   "source": [
    "a1 = person(\"harsh\",\"Analyst\")\n",
    "a1.show()\n",
    "a2 = student(\"harsh\",\"Analyst\",\"pankaj\")\n",
    "a2.show()\n",
    "a3 = professor(\"harsh\",\"Analyst\",\"pankaj\",\"Physics\")\n",
    "a3.show()"
   ]
  },
  {
   "cell_type": "markdown",
   "id": "5b812ad3-2fec-4348-ab9e-ca1ccd831244",
   "metadata": {},
   "source": [
    "****Encapsulation:*****"
   ]
  },
  {
   "cell_type": "raw",
   "id": "af452628-4a01-4c82-a701-4c4c55a09c06",
   "metadata": {},
   "source": [
    "1. Explain the concept of encapsulation in Python. What is its role in object-oriented programming?"
   ]
  },
  {
   "cell_type": "raw",
   "id": "0616252c-c6dc-4016-ab54-f5f2ca7222ed",
   "metadata": {},
   "source": [
    "Encapsulation is a fundamental object-oriented principle in Python. It protects your classes from accidental changes or deletions and promotes code reusability and maintainability. Consider this simple class definition:"
   ]
  },
  {
   "cell_type": "code",
   "execution_count": 13,
   "id": "84df1660-06fc-4dce-86e2-cb9659f79cac",
   "metadata": {},
   "outputs": [
    {
     "name": "stdout",
     "output_type": "stream",
     "text": [
      "Calling protected member of base class:  2\n",
      "Calling modified protected member outside class:  3\n",
      "Accessing protected member of obj1:  3\n",
      "Accessing protected member of obj2:  2\n"
     ]
    }
   ],
   "source": [
    "# Python program to\n",
    "# demonstrate protected members\n",
    "\n",
    "# Creating a base class\n",
    "class Base:\n",
    "    def __init__(self):\n",
    "\n",
    "        # Protected member\n",
    "        self._a = 2\n",
    "\n",
    "# Creating a derived class\n",
    "class Derived(Base):\n",
    "    def __init__(self):\n",
    "\n",
    "        # Calling constructor of\n",
    "        # Base class\n",
    "        Base.__init__(self)\n",
    "        print(\"Calling protected member of base class: \", \n",
    "              self._a)\n",
    "\n",
    "        # Modify the protected variable:\n",
    "        self._a = 3\n",
    "        print(\"Calling modified protected member outside class: \",\n",
    "              self._a)\n",
    "\n",
    "\n",
    "obj1 = Derived()\n",
    "\n",
    "obj2 = Base()\n",
    "\n",
    "# Calling protected member\n",
    "# Can be accessed but should not be done due to convention\n",
    "print(\"Accessing protected member of obj1: \", obj1._a)\n",
    "\n",
    "# Accessing the protected variable outside\n",
    "print(\"Accessing protected member of obj2: \", obj2._a)\n"
   ]
  },
  {
   "cell_type": "raw",
   "id": "8d3c9608-dfd0-4b0b-87ae-051879802fba",
   "metadata": {},
   "source": [
    "2. Describe the key principles of encapsulation, including access control and data hiding."
   ]
  },
  {
   "cell_type": "raw",
   "id": "c1d32740-77e1-4f43-a8fc-1a5b17c17ecd",
   "metadata": {},
   "source": [
    "Data hiding is the fundamental principle of encapsulation. It involves restricting direct access to an object's internal state. By making data members (attributes) private, you prevent external code from directly modifying them. This protection ensures data integrity and prevents unintended consequences."
   ]
  },
  {
   "cell_type": "raw",
   "id": "803622c0-d330-469a-9661-2b3627b6b00a",
   "metadata": {},
   "source": [
    "3. How can you achieve encapsulation in Python classes? Provide an example."
   ]
  },
  {
   "cell_type": "raw",
   "id": "ecc7d56e-eb7a-4386-a49d-284c061e7233",
   "metadata": {},
   "source": [
    "4. Discuss the difference between public, private, and protected access modifiers in Python."
   ]
  },
  {
   "cell_type": "raw",
   "id": "93286750-fafd-4c4c-9d90-3bf69d2f4d23",
   "metadata": {},
   "source": [
    "The members of a class that are declared public are easily accessible from any part of the program. All data members and member functions of a class are public by default. "
   ]
  },
  {
   "cell_type": "code",
   "execution_count": 2,
   "id": "723f9b74-5355-49d3-8830-04c96b555394",
   "metadata": {},
   "outputs": [
    {
     "name": "stdout",
     "output_type": "stream",
     "text": [
      "Age:  28\n"
     ]
    }
   ],
   "source": [
    "class Geek:\n",
    "    def __init__(self,name,age):\n",
    "        self.name = name\n",
    "        self.age = age\n",
    "    def displayAge(self):\n",
    "        print(\"Age: \",self.age)\n",
    "obj = Geek(\"Harsh\",28)\n",
    "obj.displayAge()"
   ]
  },
  {
   "cell_type": "raw",
   "id": "db4cf8fc-4b55-44ba-b2cb-4a24184394e5",
   "metadata": {},
   "source": [
    "Protected Access Modifier:\n",
    "The members of a class that are declared protected are only accessible to a class derived from it. Data members of a class are declared protected by adding a single underscore ‘_’ symbol before the data member of that class. "
   ]
  },
  {
   "cell_type": "code",
   "execution_count": 8,
   "id": "cd7ec63f-638b-4ed6-a687-15df4566c699",
   "metadata": {},
   "outputs": [
    {
     "name": "stdout",
     "output_type": "stream",
     "text": [
      "Name:  R2J\n",
      "Roll:  1706256\n",
      "Branch:  Information Technology\n"
     ]
    }
   ],
   "source": [
    "# program to illustrate protected access modifier in a class\n",
    "\n",
    "# super class\n",
    "\n",
    "\n",
    "class Student:\n",
    "\n",
    "    # protected data members\n",
    "    _name = None\n",
    "    _roll = None\n",
    "    _branch = None\n",
    "\n",
    "    # constructor\n",
    "    def __init__(self, name, roll, branch):\n",
    "        self._name = name\n",
    "        self._roll = roll\n",
    "        self._branch = branch\n",
    "\n",
    "    # protected member function\n",
    "    def _displayRollAndBranch(self):\n",
    "\n",
    "        # accessing protected data members\n",
    "        print(\"Roll: \", self._roll)\n",
    "        print(\"Branch: \", self._branch)\n",
    "\n",
    "\n",
    "# derived class\n",
    "class Geek(Student):\n",
    "\n",
    "    # constructor\n",
    "    def __init__(self, name, roll, branch):\n",
    "        Student.__init__(self, name, roll, branch)\n",
    "\n",
    "    # public member function\n",
    "    def displayDetails(self):\n",
    "\n",
    "              # accessing protected data members of super class\n",
    "        print(\"Name: \", self._name)\n",
    "\n",
    "        # accessing protected member functions of super class\n",
    "        self._displayRollAndBranch()\n",
    "\n",
    "\n",
    "# creating objects of the derived class\n",
    "obj = Geek(\"R2J\", 1706256, \"Information Technology\")\n",
    "\n",
    "# calling public member functions of the class\n",
    "obj.displayDetails()\n"
   ]
  },
  {
   "cell_type": "raw",
   "id": "942e3c08-500b-4547-a1ff-1111cf6abd94",
   "metadata": {},
   "source": [
    "5. Create a Python class called `Person` with a private attribute `__name`. Provide methods to get and set the\n",
    "name attribute."
   ]
  },
  {
   "cell_type": "code",
   "execution_count": 2,
   "id": "ac9d9e2a-61c9-4f06-a017-cabba6679c93",
   "metadata": {},
   "outputs": [],
   "source": [
    "class person:\n",
    "    __name = \"Harsh\"\n",
    "    def showname(self):\n",
    "        return f\"(Name of the person is {self.__name})\""
   ]
  },
  {
   "cell_type": "code",
   "execution_count": 4,
   "id": "36b3844c-e461-457f-9749-93ad4af49004",
   "metadata": {},
   "outputs": [
    {
     "data": {
      "text/plain": [
       "'(Name of the person is Harsh)'"
      ]
     },
     "execution_count": 4,
     "metadata": {},
     "output_type": "execute_result"
    }
   ],
   "source": [
    "A = person()\n",
    "A.showname()"
   ]
  },
  {
   "cell_type": "raw",
   "id": "7108faf1-07c5-4274-8c4d-58e026012f57",
   "metadata": {},
   "source": [
    "6. Explain the purpose of getter and setter methods in encapsulation. Provide examples."
   ]
  },
  {
   "cell_type": "raw",
   "id": "dd081464-3fbd-4e19-a75a-62754c49f83a",
   "metadata": {},
   "source": [
    "Getter methods (getName() and getAge()) are used to return the values of the private variables. Setter methods (setName(String name) and setAge(int age)) are used to set the values of the private variables. The private variables can only be accessed or modified through the corresponding getter and setter methods"
   ]
  },
  {
   "cell_type": "code",
   "execution_count": 11,
   "id": "d31e3e20-47b8-41f4-bd8c-245cfbc5960b",
   "metadata": {},
   "outputs": [
    {
     "name": "stdout",
     "output_type": "stream",
     "text": [
      "Setter method\n",
      "getter method\n",
      "86.0\n"
     ]
    }
   ],
   "source": [
    "class Ninja:\n",
    "    def __init__(self):\n",
    "        self._totalmark = 0\n",
    "        self._totalsub  = 0\n",
    "    @property\n",
    "    def totalMark(self):\n",
    "        print(\"getter method\")\n",
    "        return self._totalmark\n",
    "    @totalMark.setter\n",
    "    def totalMark(self,y):\n",
    "        if(y<200):\n",
    "            raise ValueError(\"Student has failed Exam\")\n",
    "        print(\"Setter method\")\n",
    "        self._totalmark=y\n",
    "student = Ninja()\n",
    "student.totalMark = 430\n",
    "student.totalsub = 5\n",
    "print(student.totalMark/student.totalsub)\n",
    "        "
   ]
  },
  {
   "cell_type": "raw",
   "id": "e71efd5a-d347-431b-b470-c8b242c04f6e",
   "metadata": {},
   "source": [
    "7. What is name mangling in Python, and how does it affect encapsulation?"
   ]
  },
  {
   "cell_type": "raw",
   "id": "af4f51ff-d53c-4d10-ba91-a8e9b1283a0c",
   "metadata": {},
   "source": [
    "Name mangling is a process by which the interpreter changes the name of a variable in a way that makes it harder to create accidental collisions in subclasses. In Python, this is achieved by prefixing the variable name with _ClassName , where ClassName is the name of the class where the variable is defined"
   ]
  },
  {
   "cell_type": "raw",
   "id": "908b8f82-d821-42d1-8792-d29648889ee7",
   "metadata": {},
   "source": [
    "8. Create a Python class called `BankAccount` with private attributes for the account balance (`__balance`) and account number (`__account_number`). Provide methods for depositing and withdrawing money."
   ]
  },
  {
   "cell_type": "code",
   "execution_count": 3,
   "id": "7de0d9c4-2246-42ca-a015-437a3d3d0f00",
   "metadata": {},
   "outputs": [
    {
     "name": "stdin",
     "output_type": "stream",
     "text": [
      "Enter amount to be Deposited:  500\n"
     ]
    },
    {
     "name": "stdout",
     "output_type": "stream",
     "text": [
      "500.0\n"
     ]
    },
    {
     "name": "stdin",
     "output_type": "stream",
     "text": [
      "Enter amount to be Withdrawn 200\n"
     ]
    },
    {
     "name": "stdout",
     "output_type": "stream",
     "text": [
      "200.0\n",
      "300.0\n"
     ]
    }
   ],
   "source": [
    "class BankAccount:\n",
    "    def __init__(self):\n",
    "        self.__balance = 0\n",
    "        self.__account_number = 0\n",
    "    def deposite(self):\n",
    "        amount = float(input(\"Enter amount to be Deposited: \"))\n",
    "        self.__balance += amount\n",
    "        print(amount)\n",
    "    def withdraw(self):\n",
    "        amount = float(input(\"Enter amount to be Withdrawn\"))\n",
    "        if self.__balance>=amount:\n",
    "            self.__balance -= amount\n",
    "            print(amount)\n",
    "        else:\n",
    "            print(\"no balance\")\n",
    "    def display(self):\n",
    "        print(self.__balance)\n",
    "s = BankAccount()\n",
    "s.deposite()\n",
    "s.withdraw()\n",
    "s.display()\n"
   ]
  },
  {
   "cell_type": "raw",
   "id": "c514893f-061c-4e1b-8661-55819e015c59",
   "metadata": {},
   "source": [
    "9. Discuss the advantages of encapsulation in terms of code maintainability and security."
   ]
  },
  {
   "cell_type": "raw",
   "id": "26f1a36c-c57e-444d-b8c6-0d7b044cf420",
   "metadata": {},
   "source": [
    "Encapsulation improves code maintainability, readability, and security by organizing related data and functionality within a single class and preventing unauthorized access to data members."
   ]
  },
  {
   "cell_type": "raw",
   "id": "248a6906-d158-4f2c-b048-f27f0e888a96",
   "metadata": {},
   "source": [
    "10. How can you access private attributes in Python? Provide an example demonstrating the use of name\n",
    "mangling."
   ]
  },
  {
   "cell_type": "raw",
   "id": "5eb7f859-5684-495d-834d-20b1996b8ab0",
   "metadata": {},
   "source": [
    "In name mangling process any identifier with two leading underscore and one trailing underscore is textually replaced with _classname__identifier where classname is the name of the current class. It means that any identifier of the form __geek (at least two leading underscores or at most one trailing underscore) is replaced with _classname__geek, where classname is the current class name with leading underscore(s) stripped."
   ]
  },
  {
   "cell_type": "raw",
   "id": "927a75aa-89c8-4d05-9df5-9602067bde06",
   "metadata": {},
   "source": [
    "11. Create a Python class hierarchy for a school system, including classes for students, teachers, and courses,\n",
    "and implement encapsulation principles to protect sensitive information."
   ]
  },
  {
   "cell_type": "raw",
   "id": "87075f35-e100-42b6-a39b-baa8427b2877",
   "metadata": {},
   "source": [
    "12. Explain the concept of property decorators in Python and how they relate to encapsulation."
   ]
  },
  {
   "cell_type": "raw",
   "id": "5d2d99b7-0c31-4137-9ced-e36016329900",
   "metadata": {},
   "source": [
    "A decorator feature in Python wraps in a function, appends several functionalities to existing code and then returns it. Methods and functions are known to be callable as they can be called. Therefore, a decorator is also a callable that returns callable. This is also known as metaprogramming as at compile time a section of program alters another section of the program"
   ]
  },
  {
   "cell_type": "raw",
   "id": "c61b2d6d-5569-4980-b70c-bf957eb549b3",
   "metadata": {},
   "source": [
    "13. What is data hiding, and why is it important in encapsulation? Provide examples."
   ]
  },
  {
   "cell_type": "raw",
   "id": "20943c2f-0601-4484-b10b-b3d137130d05",
   "metadata": {},
   "source": [
    "Data hiding is the fundamental principle of encapsulation. It involves restricting direct access to an object's internal state. By making data members (attributes) private, you prevent external code from directly modifying them. This protection ensures data integrity and prevents unintended consequences."
   ]
  },
  {
   "cell_type": "raw",
   "id": "feea9015-1db4-471e-a8f3-e429814d451e",
   "metadata": {},
   "source": [
    "14. Create a Python class called `Employee` with private attributes for salary (`__salary`) and employee ID (`__employee_id`). Provide a method to calculate yearly bonuses."
   ]
  },
  {
   "cell_type": "raw",
   "id": "36291366-feaf-438d-8609-6465c0e3de61",
   "metadata": {},
   "source": [
    "15. Discuss the use of accessors and mutators in encapsulation. How do they help maintain control over\n",
    "attribute access?"
   ]
  },
  {
   "cell_type": "raw",
   "id": "e455baab-c451-4b31-838d-10c6b611084e",
   "metadata": {},
   "source": [
    "Accessor Method: This method is used to access the state of the object i.e, the data hidden in the object can be accessed from this method. However, this method cannot change the state of the object, it can only access the data hidden. We can name these methods with the word get. "
   ]
  },
  {
   "cell_type": "raw",
   "id": "c6c3638e-42bc-48e0-b6e6-cabdbfef2768",
   "metadata": {},
   "source": [
    "Mutator Method: This method is used to mutate/modify the state of an object i.e, it alters the hidden value of the data variable. It can set the value of a variable instantly to a new value. This method is also called as update method. Moreover, we can name these methods with the word set. "
   ]
  },
  {
   "cell_type": "raw",
   "id": "e901a3db-8e1d-4181-a5be-e89dbec3041b",
   "metadata": {},
   "source": [
    "16. What are the potential drawbacks or disadvantages of using encapsulation in Python?"
   ]
  },
  {
   "cell_type": "raw",
   "id": "47b3af3e-7ae6-4c78-86a3-673ebba1a1bc",
   "metadata": {},
   "source": [
    "Disadvantages of Python Encapsulation\n",
    "Complexity: Encapsulation can increase the complexity of the codebase, making it harder for new developers to understand the internal workings of classes.\n",
    "Overhead: It may introduce performance overhead due to getter and setter methods, especially if not properly optimized."
   ]
  },
  {
   "cell_type": "raw",
   "id": "27de2c4e-3a74-4573-a73c-e5ffd2b59e49",
   "metadata": {},
   "source": [
    "17. Create a Python class for a library system that encapsulates book information, including titles, authors,\n",
    "and availability status."
   ]
  },
  {
   "cell_type": "code",
   "execution_count": null,
   "id": "7160d27c-e93b-4fc0-b3a1-f374bf289a5b",
   "metadata": {},
   "outputs": [],
   "source": [
    "class library:\n",
    "    def __init__(self):\n",
    "        self.title = \"Atomic Habits\"\n",
    "        self.authors = \"james\"\n",
    "    def show(self"
   ]
  },
  {
   "cell_type": "raw",
   "id": "9aaa07f5-b24b-4d6d-9b1b-1d070ce74cf8",
   "metadata": {},
   "source": [
    "18. Explain how encapsulation enhances code reusability and modularity in Python programs."
   ]
  },
  {
   "cell_type": "raw",
   "id": "c5fa1908-81d6-4a57-8b09-f8f527bf70b1",
   "metadata": {},
   "source": [
    "Encapsulation promotes modularity by encapsulating the data and methods related to a specific object within a class. This modularity has several advantages in Python: Organization: Encapsulation allows you to group related data and methods together, making your Python code more organized and easier to understand"
   ]
  }
 ],
 "metadata": {
  "kernelspec": {
   "display_name": "Python 3 (ipykernel)",
   "language": "python",
   "name": "python3"
  },
  "language_info": {
   "codemirror_mode": {
    "name": "ipython",
    "version": 3
   },
   "file_extension": ".py",
   "mimetype": "text/x-python",
   "name": "python",
   "nbconvert_exporter": "python",
   "pygments_lexer": "ipython3",
   "version": "3.10.8"
  }
 },
 "nbformat": 4,
 "nbformat_minor": 5
}
