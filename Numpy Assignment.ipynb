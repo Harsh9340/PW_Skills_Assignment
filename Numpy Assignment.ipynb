{
 "cells": [
  {
   "cell_type": "code",
   "execution_count": 2,
   "id": "a3a6076f-2382-43b0-80a1-514b8008e7f9",
   "metadata": {},
   "outputs": [],
   "source": [
    "import numpy as np"
   ]
  },
  {
   "cell_type": "markdown",
   "id": "7a083955-64c0-4ba0-9916-aa8159b2bf5d",
   "metadata": {},
   "source": [
    "Answer- 1"
   ]
  },
  {
   "cell_type": "raw",
   "id": "61a58177-af20-46fa-96cf-93b8aee40a6a",
   "metadata": {},
   "source": [
    "python library is set of pre written code and function whic enhance python programming language"
   ]
  },
  {
   "cell_type": "markdown",
   "id": "b3e4b7ae-6061-4fc2-91ee-4b73b9297e58",
   "metadata": {},
   "source": [
    "Answer-2"
   ]
  },
  {
   "cell_type": "raw",
   "id": "e6b4f736-1c93-429a-b596-019b40408491",
   "metadata": {},
   "source": [
    "Array hav efixed size set during creartion and list are dynamic and can change in size during runtime"
   ]
  },
  {
   "cell_type": "markdown",
   "id": "3fa113a1-73e7-488c-a858-8737bda423b5",
   "metadata": {},
   "source": [
    "Answer-3"
   ]
  },
  {
   "cell_type": "code",
   "execution_count": 16,
   "id": "66af7080-abb8-4fa8-8829-b348b1a5d332",
   "metadata": {},
   "outputs": [],
   "source": [
    "l = [[1,2,3,4],\n",
    "     [5,6,7,8],\n",
    "     [9,10,11,12]]"
   ]
  },
  {
   "cell_type": "code",
   "execution_count": 18,
   "id": "f8a95204-f88f-438b-b0f0-6a64323f7098",
   "metadata": {},
   "outputs": [],
   "source": [
    "arr = np.array(l)"
   ]
  },
  {
   "cell_type": "code",
   "execution_count": 19,
   "id": "9a0e8e47-8cc5-4b7f-ba36-c260e75f5c9b",
   "metadata": {},
   "outputs": [
    {
     "data": {
      "text/plain": [
       "array([[ 1,  2,  3,  4],\n",
       "       [ 5,  6,  7,  8],\n",
       "       [ 9, 10, 11, 12]])"
      ]
     },
     "execution_count": 19,
     "metadata": {},
     "output_type": "execute_result"
    }
   ],
   "source": [
    "arr"
   ]
  },
  {
   "cell_type": "code",
   "execution_count": 20,
   "id": "4a2014c2-5932-444f-a80c-c7cba2c27131",
   "metadata": {},
   "outputs": [
    {
     "data": {
      "text/plain": [
       "12"
      ]
     },
     "execution_count": 20,
     "metadata": {},
     "output_type": "execute_result"
    }
   ],
   "source": [
    "arr.size"
   ]
  },
  {
   "cell_type": "code",
   "execution_count": 21,
   "id": "1785fa0c-fb3f-4002-8f72-a3b68f6c86e6",
   "metadata": {},
   "outputs": [
    {
     "data": {
      "text/plain": [
       "(3, 4)"
      ]
     },
     "execution_count": 21,
     "metadata": {},
     "output_type": "execute_result"
    }
   ],
   "source": [
    "arr.shape"
   ]
  },
  {
   "cell_type": "code",
   "execution_count": 22,
   "id": "c3511774-e0a5-4fd7-bece-0e09b1ae6e53",
   "metadata": {},
   "outputs": [
    {
     "data": {
      "text/plain": [
       "2"
      ]
     },
     "execution_count": 22,
     "metadata": {},
     "output_type": "execute_result"
    }
   ],
   "source": [
    "arr.ndim"
   ]
  },
  {
   "cell_type": "markdown",
   "id": "770ea638-8cf4-4ac0-8c8a-49d3b9824e69",
   "metadata": {},
   "source": [
    "Answer-4"
   ]
  },
  {
   "cell_type": "code",
   "execution_count": 23,
   "id": "7aa5050b-5de9-468f-8ba5-ccea7adb0ca6",
   "metadata": {},
   "outputs": [
    {
     "data": {
      "text/plain": [
       "array([[ 1,  2,  3,  4],\n",
       "       [ 5,  6,  7,  8],\n",
       "       [ 9, 10, 11, 12]])"
      ]
     },
     "execution_count": 23,
     "metadata": {},
     "output_type": "execute_result"
    }
   ],
   "source": [
    "arr"
   ]
  },
  {
   "cell_type": "code",
   "execution_count": 26,
   "id": "5747749a-c657-49c4-bf3c-f404fd1b8adf",
   "metadata": {},
   "outputs": [
    {
     "data": {
      "text/plain": [
       "array([1, 2, 3, 4])"
      ]
     },
     "execution_count": 26,
     "metadata": {},
     "output_type": "execute_result"
    }
   ],
   "source": [
    "arr[0,]"
   ]
  },
  {
   "cell_type": "raw",
   "id": "8bc93bc7-2919-43ff-a5d2-81ed1b749d2d",
   "metadata": {},
   "source": [
    "Answer-5"
   ]
  },
  {
   "cell_type": "code",
   "execution_count": 27,
   "id": "ca98bb3b-8e50-47a6-bbe3-da42dc07fdd0",
   "metadata": {},
   "outputs": [
    {
     "data": {
      "text/plain": [
       "array([[ 1,  2,  3,  4],\n",
       "       [ 5,  6,  7,  8],\n",
       "       [ 9, 10, 11, 12]])"
      ]
     },
     "execution_count": 27,
     "metadata": {},
     "output_type": "execute_result"
    }
   ],
   "source": [
    "arr"
   ]
  },
  {
   "cell_type": "code",
   "execution_count": 33,
   "id": "15f76e90-126e-4ee7-b200-66501a7cc414",
   "metadata": {},
   "outputs": [
    {
     "data": {
      "text/plain": [
       "array([[ 9, 10, 11, 12]])"
      ]
     },
     "execution_count": 33,
     "metadata": {},
     "output_type": "execute_result"
    }
   ],
   "source": [
    "arr[2:3]"
   ]
  },
  {
   "cell_type": "code",
   "execution_count": 37,
   "id": "83e63d76-30bb-49d9-ab17-e1166f38e0ba",
   "metadata": {},
   "outputs": [
    {
     "data": {
      "text/plain": [
       "array([[ 4],\n",
       "       [ 8],\n",
       "       [12]])"
      ]
     },
     "execution_count": 37,
     "metadata": {},
     "output_type": "execute_result"
    }
   ],
   "source": [
    "arr[0:3,(3,)]"
   ]
  },
  {
   "cell_type": "markdown",
   "id": "84773cd4-9c10-4851-9011-484fe9fd0e38",
   "metadata": {},
   "source": [
    "Answer-6"
   ]
  },
  {
   "cell_type": "code",
   "execution_count": 38,
   "id": "177abf67-5dff-4531-9bdf-fc025ddd2ad0",
   "metadata": {},
   "outputs": [
    {
     "data": {
      "text/plain": [
       "array([[ 1,  2,  3,  4],\n",
       "       [ 5,  6,  7,  8],\n",
       "       [ 9, 10, 11, 12]])"
      ]
     },
     "execution_count": 38,
     "metadata": {},
     "output_type": "execute_result"
    }
   ],
   "source": [
    "arr"
   ]
  },
  {
   "cell_type": "code",
   "execution_count": 43,
   "id": "98f98e7a-35f2-4af9-bf96-f2a11ffec081",
   "metadata": {},
   "outputs": [
    {
     "data": {
      "text/plain": [
       "array([[ 1,  2,  4],\n",
       "       [ 5,  6,  8],\n",
       "       [ 9, 10, 12]])"
      ]
     },
     "execution_count": 43,
     "metadata": {},
     "output_type": "execute_result"
    }
   ],
   "source": [
    "arr[0:3,(0,1,3)]"
   ]
  },
  {
   "cell_type": "markdown",
   "id": "c331afde-bf46-41b7-884a-88fac6deef9b",
   "metadata": {},
   "source": [
    "Answer-7"
   ]
  },
  {
   "cell_type": "code",
   "execution_count": 50,
   "id": "3604cbd5-a1d8-41b0-a9b0-ca233f0cccbe",
   "metadata": {},
   "outputs": [
    {
     "data": {
      "text/plain": [
       "array([[0, 1, 1],\n",
       "       [1, 1, 0],\n",
       "       [0, 1, 1]])"
      ]
     },
     "execution_count": 50,
     "metadata": {},
     "output_type": "execute_result"
    }
   ],
   "source": [
    "np.random.randint(0,2,(3,3))"
   ]
  },
  {
   "cell_type": "markdown",
   "id": "eece7ee4-82bd-4d29-954e-6ff474e1367f",
   "metadata": {},
   "source": [
    "Answer-10"
   ]
  },
  {
   "cell_type": "markdown",
   "id": "2754e7c1-b338-482f-b3c4-369d1ad49f6d",
   "metadata": {},
   "source": [
    "randn generates numbers from a normal distribution with a mean of 0 and a standard deviation of 1, while `rand` generates numbers from a uniform distribution between 0 and 1"
   ]
  },
  {
   "cell_type": "markdown",
   "id": "a096a163-6e51-4675-bffd-c422b9e5a09d",
   "metadata": {},
   "source": [
    "Answer-11"
   ]
  },
  {
   "cell_type": "code",
   "execution_count": 61,
   "id": "018a1c28-41ae-483a-9bf5-1b8c6f98df91",
   "metadata": {},
   "outputs": [],
   "source": [
    "A = [[1,2,3,4],[5,6,7,8],[9,10,11,12]]\n",
    "B = [[1,2,3,4],[5,6,7,8],[9,10,11,12]]"
   ]
  },
  {
   "cell_type": "markdown",
   "id": "ed95b603-8dfe-4a98-96cd-d97ddf19fb48",
   "metadata": {},
   "source": [
    "1"
   ]
  },
  {
   "cell_type": "code",
   "execution_count": 59,
   "id": "79d58db6-5c4f-4420-bbd1-5ae1227e8a52",
   "metadata": {},
   "outputs": [
    {
     "data": {
      "text/plain": [
       "array([[  1,   4,   9,  16],\n",
       "       [ 25,  36,  49,  64],\n",
       "       [ 81, 100, 121, 144]])"
      ]
     },
     "execution_count": 59,
     "metadata": {},
     "output_type": "execute_result"
    }
   ],
   "source": [
    "np.multiply(A,B)"
   ]
  },
  {
   "cell_type": "code",
   "execution_count": 64,
   "id": "fc3eb4b2-f3b9-43fd-a686-68bc4be3d3a3",
   "metadata": {},
   "outputs": [
    {
     "data": {
      "text/plain": [
       "[[1, 2, 3, 4], [5, 6, 7, 8], [9, 10, 11, 12]]"
      ]
     },
     "execution_count": 64,
     "metadata": {},
     "output_type": "execute_result"
    }
   ],
   "source": [
    "A"
   ]
  },
  {
   "cell_type": "code",
   "execution_count": 66,
   "id": "1f921bdc-cec5-4700-8158-19ff00131bcf",
   "metadata": {},
   "outputs": [
    {
     "data": {
      "text/plain": [
       "[[1, 2, 3, 4], [5, 6, 7, 8], [9, 10, 11, 12]]"
      ]
     },
     "execution_count": 66,
     "metadata": {},
     "output_type": "execute_result"
    }
   ],
   "source": [
    "B"
   ]
  },
  {
   "cell_type": "code",
   "execution_count": 70,
   "id": "21b55875-d99f-47f5-9908-c9934bc94bc3",
   "metadata": {},
   "outputs": [],
   "source": [
    "arr1 = np.array(A)"
   ]
  },
  {
   "cell_type": "code",
   "execution_count": 71,
   "id": "f727a05a-a5fb-4ae3-b9c3-6164f08fd7b7",
   "metadata": {},
   "outputs": [
    {
     "data": {
      "text/plain": [
       "array([[ 1,  2,  3,  4],\n",
       "       [ 5,  6,  7,  8],\n",
       "       [ 9, 10, 11, 12]])"
      ]
     },
     "execution_count": 71,
     "metadata": {},
     "output_type": "execute_result"
    }
   ],
   "source": [
    "arr1"
   ]
  },
  {
   "cell_type": "code",
   "execution_count": 73,
   "id": "a5517845-55c5-4b99-abb1-31cca9bf2da2",
   "metadata": {},
   "outputs": [],
   "source": [
    "arr2 = np.array(B)"
   ]
  },
  {
   "cell_type": "code",
   "execution_count": 74,
   "id": "08ad7f25-3c4b-4e35-963e-c3132d4e2d31",
   "metadata": {},
   "outputs": [
    {
     "data": {
      "text/plain": [
       "array([[ 1,  2,  3,  4],\n",
       "       [ 5,  6,  7,  8],\n",
       "       [ 9, 10, 11, 12]])"
      ]
     },
     "execution_count": 74,
     "metadata": {},
     "output_type": "execute_result"
    }
   ],
   "source": [
    "arr2"
   ]
  },
  {
   "cell_type": "code",
   "execution_count": 76,
   "id": "45acf11f-9a5c-490a-b720-e1e4e90787bb",
   "metadata": {},
   "outputs": [
    {
     "data": {
      "text/plain": [
       "array([[  1,   4,   9,  16],\n",
       "       [ 25,  36,  49,  64],\n",
       "       [ 81, 100, 121, 144]])"
      ]
     },
     "execution_count": 76,
     "metadata": {},
     "output_type": "execute_result"
    }
   ],
   "source": [
    "arr1*arr2"
   ]
  },
  {
   "cell_type": "code",
   "execution_count": 77,
   "id": "fe1980d2-7eb8-487b-88dc-bac2809fd838",
   "metadata": {},
   "outputs": [
    {
     "data": {
      "text/plain": [
       "2"
      ]
     },
     "execution_count": 77,
     "metadata": {},
     "output_type": "execute_result"
    }
   ],
   "source": [
    "2"
   ]
  },
  {
   "cell_type": "code",
   "execution_count": 79,
   "id": "7ffc88bb-d705-4f3f-a455-cfdd795ed92c",
   "metadata": {},
   "outputs": [
    {
     "data": {
      "text/plain": [
       "matrix([[ 2,  4,  6,  8],\n",
       "        [10, 12, 14, 16],\n",
       "        [18, 20, 22, 24]])"
      ]
     },
     "execution_count": 79,
     "metadata": {},
     "output_type": "execute_result"
    }
   ],
   "source": [
    "np.matrix(arr1+arr2)"
   ]
  },
  {
   "cell_type": "code",
   "execution_count": 82,
   "id": "c3e77bfa-8d6e-4026-8e1f-b96349520154",
   "metadata": {},
   "outputs": [
    {
     "data": {
      "text/plain": [
       "matrix([[0, 0, 0, 0],\n",
       "        [0, 0, 0, 0],\n",
       "        [0, 0, 0, 0]])"
      ]
     },
     "execution_count": 82,
     "metadata": {},
     "output_type": "execute_result"
    }
   ],
   "source": [
    "np.matrix(arr2-arr1)"
   ]
  },
  {
   "cell_type": "code",
   "execution_count": 84,
   "id": "1f565504-1a51-481d-9994-8dfdae9445c1",
   "metadata": {},
   "outputs": [
    {
     "data": {
      "text/plain": [
       "matrix([[1., 1., 1., 1.],\n",
       "        [1., 1., 1., 1.],\n",
       "        [1., 1., 1., 1.]])"
      ]
     },
     "execution_count": 84,
     "metadata": {},
     "output_type": "execute_result"
    }
   ],
   "source": [
    "np.matrix(arr2/arr1)"
   ]
  },
  {
   "cell_type": "markdown",
   "id": "a2f331c1-36ae-4781-acfc-e278e83219be",
   "metadata": {},
   "source": [
    "Answer- 12"
   ]
  },
  {
   "cell_type": "code",
   "execution_count": 86,
   "id": "33eb4a62-84e9-4cc6-ac91-f15da26d9ecf",
   "metadata": {},
   "outputs": [
    {
     "data": {
      "text/plain": [
       "array([[ 1,  2,  3,  4],\n",
       "       [ 5,  6,  7,  8],\n",
       "       [ 9, 10, 11, 12]])"
      ]
     },
     "execution_count": 86,
     "metadata": {},
     "output_type": "execute_result"
    }
   ],
   "source": [
    "arr"
   ]
  },
  {
   "cell_type": "code",
   "execution_count": 90,
   "id": "6d150a6b-47a2-49b5-9a86-bbb50a77c820",
   "metadata": {},
   "outputs": [
    {
     "data": {
      "text/plain": [
       "array([[ 72057594037927936, 144115188075855872, 216172782113783808,\n",
       "        288230376151711744],\n",
       "       [360287970189639680, 432345564227567616, 504403158265495552,\n",
       "        576460752303423488],\n",
       "       [648518346341351424, 720575940379279360, 792633534417207296,\n",
       "        864691128455135232]])"
      ]
     },
     "execution_count": 90,
     "metadata": {},
     "output_type": "execute_result"
    }
   ],
   "source": [
    "arr.byteswap(True)"
   ]
  },
  {
   "cell_type": "markdown",
   "id": "d60f7771-67a5-4e86-b78c-8bfeb67e9e93",
   "metadata": {},
   "source": [
    "Answer-13"
   ]
  },
  {
   "cell_type": "raw",
   "id": "9b0057d3-04d7-4718-a898-8bfa15a1d0d1",
   "metadata": {},
   "source": [
    "In linear algebra, the inverse of a matrix is an important concept that allows you to solve systems of linear equations. The NumPy library provides a function np.linalg.inv() to compute the inverse of a given square matrix"
   ]
  },
  {
   "cell_type": "markdown",
   "id": "ba3a44f1-8779-4cfc-9f69-005889599932",
   "metadata": {},
   "source": [
    "Answer-14"
   ]
  },
  {
   "cell_type": "markdown",
   "id": "632a0e16-bac6-46f6-9b3f-e4072f7d641a",
   "metadata": {},
   "source": [
    "np.reshape() function use change the shape of array from row to column"
   ]
  },
  {
   "cell_type": "code",
   "execution_count": 92,
   "id": "d57ce823-955a-4bd0-bde5-1ed78cf29001",
   "metadata": {},
   "outputs": [
    {
     "data": {
      "text/plain": [
       "array([[ 1,  2,  3,  4],\n",
       "       [ 5,  6,  7,  8],\n",
       "       [ 9, 10, 11, 12]])"
      ]
     },
     "execution_count": 92,
     "metadata": {},
     "output_type": "execute_result"
    }
   ],
   "source": [
    "arr1"
   ]
  },
  {
   "cell_type": "code",
   "execution_count": 98,
   "id": "34f7c581-4440-4332-919f-5e4eed924058",
   "metadata": {},
   "outputs": [
    {
     "data": {
      "text/plain": [
       "array([[ 1,  2,  3,  4,  5,  6],\n",
       "       [ 7,  8,  9, 10, 11, 12]])"
      ]
     },
     "execution_count": 98,
     "metadata": {},
     "output_type": "execute_result"
    }
   ],
   "source": [
    "arr1.reshape(2,6)"
   ]
  },
  {
   "cell_type": "code",
   "execution_count": 100,
   "id": "a2415662-713a-445a-bd30-2afcc1c7d919",
   "metadata": {},
   "outputs": [
    {
     "data": {
      "text/plain": [
       "array([[ 1,  2,  3],\n",
       "       [ 4,  5,  6],\n",
       "       [ 7,  8,  9],\n",
       "       [10, 11, 12]])"
      ]
     },
     "execution_count": 100,
     "metadata": {},
     "output_type": "execute_result"
    }
   ],
   "source": [
    "arr1.reshape(4,3)"
   ]
  },
  {
   "cell_type": "code",
   "execution_count": 102,
   "id": "dde4809a-1384-4c6d-b353-fb7035e13939",
   "metadata": {},
   "outputs": [
    {
     "data": {
      "text/plain": [
       "array([[ 1,  2],\n",
       "       [ 3,  4],\n",
       "       [ 5,  6],\n",
       "       [ 7,  8],\n",
       "       [ 9, 10],\n",
       "       [11, 12]])"
      ]
     },
     "execution_count": 102,
     "metadata": {},
     "output_type": "execute_result"
    }
   ],
   "source": [
    "arr1.reshape(6,2)"
   ]
  },
  {
   "cell_type": "markdown",
   "id": "55ecc4dd-8586-4021-9b6a-8a5eccd18556",
   "metadata": {},
   "source": [
    "Answer - 15"
   ]
  },
  {
   "cell_type": "raw",
   "id": "abcf64b0-8e22-40c5-bb8a-79b81599ee97",
   "metadata": {},
   "source": [
    "In NumPy, broadcasting refers to the ability to perform arithmetic operations on arrays of different shapes. This is done by “stretching” the smaller array across the larger one so that they have compatible shapes for element-wise operations. "
   ]
  }
 ],
 "metadata": {
  "kernelspec": {
   "display_name": "Python 3 (ipykernel)",
   "language": "python",
   "name": "python3"
  },
  "language_info": {
   "codemirror_mode": {
    "name": "ipython",
    "version": 3
   },
   "file_extension": ".py",
   "mimetype": "text/x-python",
   "name": "python",
   "nbconvert_exporter": "python",
   "pygments_lexer": "ipython3",
   "version": "3.10.8"
  }
 },
 "nbformat": 4,
 "nbformat_minor": 5
}
