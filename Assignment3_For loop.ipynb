{
 "cells": [
  {
   "cell_type": "markdown",
   "id": "501ad7a6-1c9d-4880-a506-474f489296d8",
   "metadata": {},
   "source": [
    "****Answer-1****"
   ]
  },
  {
   "cell_type": "code",
   "execution_count": 1,
   "id": "ee442efc-9d23-470d-8ee3-9f5e62cf035b",
   "metadata": {},
   "outputs": [
    {
     "name": "stdout",
     "output_type": "stream",
     "text": [
      "1\n",
      "2\n",
      "3\n",
      "4\n",
      "5\n",
      "6\n",
      "7\n",
      "8\n",
      "9\n",
      "10\n"
     ]
    }
   ],
   "source": [
    "for i in range(1,11):\n",
    "    print(i)"
   ]
  },
  {
   "cell_type": "markdown",
   "id": "479eef9c-ca58-4d75-9efe-7a5a6d75a1f9",
   "metadata": {},
   "source": [
    "****Answer-2****"
   ]
  },
  {
   "cell_type": "code",
   "execution_count": 248,
   "id": "d050dbc7-20a8-4332-af63-a0105620e7d4",
   "metadata": {},
   "outputs": [
    {
     "name": "stdout",
     "output_type": "stream",
     "text": [
      "27\n"
     ]
    }
   ],
   "source": [
    "total = 0\n",
    "L1 = [4,5,5,6,7]\n",
    "\n",
    "for i in range(0,len(L1)):\n",
    "    total = total+L1[i]\n",
    "print(total)\n",
    "    "
   ]
  },
  {
   "cell_type": "markdown",
   "id": "f90b0026-84be-49a7-b325-2a8f19946bb1",
   "metadata": {},
   "source": [
    "****Answer-3****"
   ]
  },
  {
   "cell_type": "code",
   "execution_count": 247,
   "id": "874f6aa0-63be-4608-8ad8-d82ceab46e45",
   "metadata": {},
   "outputs": [
    {
     "name": "stdout",
     "output_type": "stream",
     "text": [
      "sllikS WP iHHi PW Skills\n"
     ]
    }
   ],
   "source": [
    "S1 = \"Hi PW Skills\"\n",
    "for i in S1:\n",
    "    S1 = i+S1\n",
    "print(S1)\n"
   ]
  },
  {
   "cell_type": "markdown",
   "id": "e4e8715c-7a09-4ac5-904c-d3d8c5a2f14e",
   "metadata": {},
   "source": [
    "****Answer - 4****"
   ]
  },
  {
   "cell_type": "code",
   "execution_count": 246,
   "id": "db6b3188-b1db-4afc-8c1e-5051a4c037d4",
   "metadata": {},
   "outputs": [
    {
     "name": "stdin",
     "output_type": "stream",
     "text": [
      "enter a number   5\n"
     ]
    },
    {
     "name": "stdout",
     "output_type": "stream",
     "text": [
      "120\n"
     ]
    }
   ],
   "source": [
    "num = int(input(\"enter a number  \"))\n",
    "facto = 1\n",
    "\n",
    "\n",
    "for i in range(1,num+1):\n",
    "    facto = i*facto\n",
    "print(facto)"
   ]
  },
  {
   "cell_type": "markdown",
   "id": "8edc08ec-e4e0-45a1-a846-09e80aa1d9d8",
   "metadata": {},
   "source": [
    "****Answer-5****"
   ]
  },
  {
   "cell_type": "code",
   "execution_count": 162,
   "id": "78dc9a43-8e1b-4409-9041-561a190cb4f3",
   "metadata": {},
   "outputs": [
    {
     "name": "stdin",
     "output_type": "stream",
     "text": [
      "Enter a number    10\n"
     ]
    },
    {
     "name": "stdout",
     "output_type": "stream",
     "text": [
      "10\n",
      "20\n",
      "30\n",
      "40\n",
      "50\n",
      "60\n",
      "70\n",
      "80\n",
      "90\n",
      "100\n"
     ]
    }
   ],
   "source": [
    "num = int(input(\"Enter a number   \"))\n",
    "mul = 1\n",
    "for i in range(1,11):\n",
    "    mul = i*num\n",
    "    print(mul)"
   ]
  },
  {
   "cell_type": "markdown",
   "id": "28b7e0bb-fd1c-4733-b99f-2f6ad4928ef6",
   "metadata": {},
   "source": [
    "****Answer-6****"
   ]
  },
  {
   "cell_type": "code",
   "execution_count": 207,
   "id": "bed13b4d-d6af-45ae-9bbb-4e6b11992d6c",
   "metadata": {},
   "outputs": [
    {
     "name": "stdout",
     "output_type": "stream",
     "text": [
      "4\n",
      "3\n"
     ]
    }
   ],
   "source": [
    "L2 = [2,4,5,6,7,8,9]\n",
    "even_count = 0\n",
    "odd_count = 0\n",
    "for i in L2:\n",
    "    if i%2==0:\n",
    "        even_count +=1\n",
    "    else:\n",
    "        odd_count+=1\n",
    "print(even_count)\n",
    "print(odd_count)\n",
    "\n",
    "\n"
   ]
  },
  {
   "cell_type": "markdown",
   "id": "628d7cd2-1b4f-4244-af41-7daeef0a1620",
   "metadata": {},
   "source": [
    "****Answer-7****"
   ]
  },
  {
   "cell_type": "code",
   "execution_count": 245,
   "id": "753a98aa-c577-4440-86a0-b4cf8b0bbfe3",
   "metadata": {},
   "outputs": [
    {
     "name": "stdout",
     "output_type": "stream",
     "text": [
      "25\n"
     ]
    }
   ],
   "source": [
    "for i in range(1,6):\n",
    "    squar = i*i\n",
    "print(squar)"
   ]
  },
  {
   "cell_type": "markdown",
   "id": "8534957b-d27c-48cf-9d88-20167484f25d",
   "metadata": {},
   "source": [
    "****Answer-8****"
   ]
  },
  {
   "cell_type": "code",
   "execution_count": 244,
   "id": "c0402510-4b1a-4798-b871-0199eacfc92c",
   "metadata": {},
   "outputs": [
    {
     "name": "stdout",
     "output_type": "stream",
     "text": [
      "15\n"
     ]
    }
   ],
   "source": [
    "str1 = \"PWSkillsClasses\"\n",
    "x = 0\n",
    "for i in str1:\n",
    "    x+=1\n",
    "print(x)"
   ]
  },
  {
   "cell_type": "markdown",
   "id": "28d328f8-1f05-4161-a2d1-6b976b599b9a",
   "metadata": {},
   "source": [
    "****Answer-9****"
   ]
  },
  {
   "cell_type": "code",
   "execution_count": 249,
   "id": "ac9a1326-d70c-4f02-bcb6-087295c8d648",
   "metadata": {},
   "outputs": [
    {
     "name": "stdout",
     "output_type": "stream",
     "text": [
      "3.0\n"
     ]
    }
   ],
   "source": [
    "L3 = [3,4,5,6,7,8,9]\n",
    "sum_list = 0\n",
    "for i in range(len(L3)):\n",
    "    sum_list+=i\n",
    "    average = sum_list/len(L3)\n",
    "print(average)"
   ]
  },
  {
   "cell_type": "markdown",
   "id": "72422d13-58e5-4296-8b82-aa0295145e71",
   "metadata": {},
   "source": [
    "****Answer-10****"
   ]
  },
  {
   "cell_type": "code",
   "execution_count": 4,
   "id": "f40954c4-627e-4a5b-99aa-44467f05a5fa",
   "metadata": {},
   "outputs": [
    {
     "name": "stdout",
     "output_type": "stream",
     "text": [
      "1\n",
      "2\n",
      "3\n",
      "5\n",
      "8\n",
      "13\n",
      "21\n",
      "34\n",
      "55\n"
     ]
    }
   ],
   "source": [
    "previous = 0\n",
    "current = 1\n",
    "for i in range(0,11):\n",
    "    if(i<=1):\n",
    "        next = i\n",
    "    else:\n",
    "        next = previous+current\n",
    "        previous = current\n",
    "        current = next\n",
    "        print(next)\n",
    "    \n",
    "    \n",
    "    "
   ]
  },
  {
   "cell_type": "markdown",
   "id": "06184d66-d4ef-4585-91eb-0606c2ddc901",
   "metadata": {},
   "source": [
    "****Answer - 11****"
   ]
  },
  {
   "cell_type": "code",
   "execution_count": 36,
   "id": "c1103934-5a74-4002-b1e9-f3b7f2dc5c2c",
   "metadata": {},
   "outputs": [
    {
     "name": "stdout",
     "output_type": "stream",
     "text": [
      "{1: 1, 2: 1, 3: 2, 4: 1, 7: 1, 5: 1}\n"
     ]
    }
   ],
   "source": [
    "L4 = [1,2,3,4,3,7,5]\n",
    "count_dict = {}\n",
    "for i in L4:\n",
    "    count_dict[i]=L4.count(i)\n",
    "print(count_dict)\n",
    "\n",
    "    \n",
    "    "
   ]
  },
  {
   "cell_type": "markdown",
   "id": "ebdfbe6a-8e0b-4226-9053-2574373a252c",
   "metadata": {},
   "source": [
    "****Answer-12****"
   ]
  },
  {
   "cell_type": "code",
   "execution_count": 70,
   "id": "55d89ef5-3bf6-4f25-bcd4-9ebcd1e70c20",
   "metadata": {},
   "outputs": [
    {
     "name": "stdout",
     "output_type": "stream",
     "text": [
      "2  3  5  7  11  13  17  19  "
     ]
    }
   ],
   "source": [
    "for i in range(2,21):\n",
    "    flag = 0\n",
    "    for j in  range(2,int(i/2)+1):\n",
    "        if i%j == 0:\n",
    "            flag = 1\n",
    "            break\n",
    "    if(flag==0):\n",
    "        print(i,end='  ')\n",
    "        "
   ]
  },
  {
   "cell_type": "markdown",
   "id": "1b143fb6-ee57-4568-8f33-eb1757141454",
   "metadata": {},
   "source": [
    "****Answer-13****"
   ]
  },
  {
   "cell_type": "code",
   "execution_count": 73,
   "id": "6475ba9a-7211-42d3-9569-0f4899f96772",
   "metadata": {},
   "outputs": [
    {
     "name": "stdin",
     "output_type": "stream",
     "text": [
      "please type here hi my name is harsh\n"
     ]
    },
    {
     "name": "stdout",
     "output_type": "stream",
     "text": [
      "5\n"
     ]
    }
   ],
   "source": [
    "str1 = input(\"please type here\")\n",
    "count = 0\n",
    "vowels = set(\"aeiou\")\n",
    "for i in str1:\n",
    "    if i in vowels:\n",
    "        count+=1\n",
    "print(count)"
   ]
  },
  {
   "cell_type": "markdown",
   "id": "5ad3b13d-b3db-489f-83a4-1dffa47d42cd",
   "metadata": {},
   "source": [
    "****Answer-14****"
   ]
  },
  {
   "cell_type": "code",
   "execution_count": 10,
   "id": "50f02d4a-6aa6-4874-bce4-5f908a9d239c",
   "metadata": {},
   "outputs": [
    {
     "name": "stdout",
     "output_type": "stream",
     "text": [
      "9\n"
     ]
    }
   ],
   "source": [
    "L5 = [[1,3,4,5],[3,4,5,6],[9,8,7,3,4]]   #create a 2D list\n",
    "\n",
    "max_element = 0\n",
    "\n",
    "for i in L5:\n",
    "    \n",
    "    for element in i:\n",
    "        if  element>max_element:\n",
    "            \n",
    "            max_element = element\n",
    "print(max_element)"
   ]
  },
  {
   "cell_type": "markdown",
   "id": "bf45b0cc-09d0-4790-8452-eee99d198f75",
   "metadata": {},
   "source": [
    "****Answer-15****"
   ]
  },
  {
   "cell_type": "code",
   "execution_count": 26,
   "id": "ae5d8331-1f30-47af-a956-b0fb56459e6f",
   "metadata": {},
   "outputs": [
    {
     "name": "stdout",
     "output_type": "stream",
     "text": [
      "[2, 4, 5, 6, 7, 4, 2, 4]\n"
     ]
    }
   ],
   "source": [
    "L6 = [2,4,5,6,7,4,3,2,3,4,3] # first define a list\n",
    "remove = 3                   # then define variable which need to remoove from list\n",
    "new_list = []                # taken new blank list to store new list \n",
    "\n",
    "for i in L6:                 # using for loop and check condition if remoble value is not in list then append new list\n",
    "    if i!=remove:\n",
    "        new_list.append(i)\n",
    "\n",
    "print(new_list)"
   ]
  },
  {
   "cell_type": "markdown",
   "id": "fc3d57cf-56c4-46e2-aa27-b6dc310c71c4",
   "metadata": {},
   "source": [
    "****Answer-16****"
   ]
  },
  {
   "cell_type": "code",
   "execution_count": 39,
   "id": "bdf99fdb-451c-4444-bd3c-347ae75ed637",
   "metadata": {},
   "outputs": [
    {
     "name": "stdout",
     "output_type": "stream",
     "text": [
      "1  2  3  4  5  6  7  8  9  10  \n",
      "2  4  6  8  10  12  14  16  18  20  \n",
      "3  6  9  12  15  18  21  24  27  30  \n",
      "4  8  12  16  20  24  28  32  36  40  \n",
      "5  10  15  20  25  30  35  40  45  50  \n"
     ]
    }
   ],
   "source": [
    "for i in range(1,6):         # using for with range value 1 to 6\n",
    "    \n",
    "    for j in range(1,11):      # using nested for loop with range value 1 to 11 \n",
    "        table = i*j            # then multiply with both i and j \n",
    "        print(table,end = '  ')\n",
    "    print()"
   ]
  },
  {
   "cell_type": "markdown",
   "id": "29ff4bc3-7654-4ef5-baaa-2a0ecf377d82",
   "metadata": {},
   "source": [
    "****Answer-17****"
   ]
  },
  {
   "cell_type": "code",
   "execution_count": 50,
   "id": "728fc2fd-30dc-4a77-ae45-f48001fcff14",
   "metadata": {},
   "outputs": [
    {
     "name": "stdout",
     "output_type": "stream",
     "text": [
      "[6.111111111111111, -5.0, 1.1111111111111112, 12.222222222222221, -3.3333333333333335, 18.333333333333332]\n"
     ]
    }
   ],
   "source": [
    "Fahrenheit = [43,23,34,54,26,65]\n",
    "\n",
    "celsius_temp = []\n",
    "\n",
    "for i in Fahrenheit:\n",
    "    fahrenheit_to_celsius = (i-32)*5/9\n",
    "    celsius_temp.append(fahrenheit_to_celsius)\n",
    "print(celsius_temp)"
   ]
  },
  {
   "cell_type": "markdown",
   "id": "ae01d651-60bf-4ba6-b89a-20af60289fa6",
   "metadata": {},
   "source": [
    "****Answer-18****"
   ]
  },
  {
   "cell_type": "code",
   "execution_count": null,
   "id": "821843d9-b075-4c65-b442-d838aef668dd",
   "metadata": {
    "tags": []
   },
   "outputs": [
    {
     "name": "stdout",
     "output_type": "stream",
     "text": [
      "[2, 3, 2, 'pw']\n"
     ]
    }
   ],
   "source": [
    "L1 = [2,3,2,1,8,7,9,5,4,\"pw\"]\n",
    "L2 = [2,3,\"pw\",\"skills\",\"harsh\"]\n",
    "new_list = []\n",
    "\n",
    "for i in L1:\n",
    "    if i in L2:\n",
    "        new_list.append(i)\n",
    "print(new_list)"
   ]
  },
  {
   "cell_type": "markdown",
   "id": "334d1cfe-696b-4bbc-8337-d5c863f2ffef",
   "metadata": {},
   "source": [
    "****Answer-19****"
   ]
  },
  {
   "cell_type": "code",
   "execution_count": 74,
   "id": "0340b279-4b0d-4d61-b560-481ec8d7a649",
   "metadata": {},
   "outputs": [
    {
     "name": "stdout",
     "output_type": "stream",
     "text": [
      "* \n",
      "* * \n",
      "* * * \n",
      "* * * * \n",
      "* * * * * \n",
      "* * * * * * \n",
      "* * * * * * * \n",
      "* * * * * * * * \n",
      "* * * * * * * * * \n",
      "* * * * * * * * * * \n"
     ]
    }
   ],
   "source": [
    "for i in range(1,11):\n",
    "    for j in range (i):\n",
    "        print(\"*\",end=' ')\n",
    "    print()"
   ]
  },
  {
   "cell_type": "markdown",
   "id": "72d06925-8c9c-4f01-8c21-43ca8728627b",
   "metadata": {},
   "source": [
    "****Answer-20****"
   ]
  },
  {
   "cell_type": "markdown",
   "id": "4974531b-3035-4789-9f4f-952e3075b4a9",
   "metadata": {},
   "source": [
    "num1 = int(input(\"enter first num\"))\n",
    "num2 = int(input(\"enter second num\"))\n",
    "\n",
    "min_num = min(num1,num2)\n",
    "gcd = 1\n",
    "\n",
    "for i in range(2,min_num+1):\n",
    "    if num1%2==0 and num2%2==0:\n",
    "        gcd = i\n",
    "print(gcd)\n",
    "      "
   ]
  },
  {
   "cell_type": "markdown",
   "id": "bf16e204-3e4e-4c17-831d-e4314b63ad41",
   "metadata": {},
   "source": [
    "****Answer-21****"
   ]
  },
  {
   "cell_type": "code",
   "execution_count": 5,
   "id": "f52b115c-2a26-4e51-8f5e-dcd0b6ff635a",
   "metadata": {},
   "outputs": [
    {
     "name": "stdout",
     "output_type": "stream",
     "text": [
      "number:245,sum of digits:11\n",
      "number:3677,sum of digits:23\n",
      "number:42323,sum of digits:14\n",
      "number:646,sum of digits:16\n",
      "number:7123,sum of digits:13\n",
      "number:83435,sum of digits:23\n",
      "number:923435,sum of digits:26\n"
     ]
    }
   ],
   "source": [
    "numbers = [245,3677,42323,646,7123,83435,923435]\n",
    "'''we use list comprehension to sum of digit in list numbners,we convert each number to a string to iterate each digit then\n",
    "then again convert it into int to sum of these digit'''\n",
    "digit_sum = [sum(int(digit) for digit in str(number)) for number in numbers]\n",
    "\n",
    "for i in range(len(numbers)):\n",
    "    print(f\"number:{numbers[i]},sum of digits:{digit_sum[i]}\")\n"
   ]
  },
  {
   "cell_type": "markdown",
   "id": "0f323b8e-a1b2-4049-9056-583461c9f3fc",
   "metadata": {},
   "source": [
    "****Answer-22****"
   ]
  },
  {
   "cell_type": "code",
   "execution_count": 7,
   "id": "dcd04d28-fbe5-4f8a-b800-e0e9af889b5e",
   "metadata": {},
   "outputs": [
    {
     "name": "stdin",
     "output_type": "stream",
     "text": [
      "enter a number:   65\n"
     ]
    },
    {
     "name": "stdout",
     "output_type": "stream",
     "text": [
      "the prime factor of 65 are:[5, 13]\n"
     ]
    }
   ],
   "source": [
    "def is_prime(num):\n",
    "    if num<2:\n",
    "        return False\n",
    "    for i in range(2,int(num**0.5)+1):\n",
    "        if num%i==0:\n",
    "            return False\n",
    "    return True\n",
    "\n",
    "number = int(input(\"enter a number:  \"))\n",
    "prime_factor = [factor for factor in range(2,number+1) if number%factor==0 and is_prime(factor)]\n",
    "print(f\"the prime factor of {number} are:{prime_factor}\")"
   ]
  },
  {
   "cell_type": "markdown",
   "id": "55e2314d-8d5d-411c-ba84-cfbd3d19616b",
   "metadata": {},
   "source": [
    "****Answer-23****"
   ]
  },
  {
   "cell_type": "code",
   "execution_count": 11,
   "id": "296aa642-d790-421a-98b6-9930f3f2892e",
   "metadata": {},
   "outputs": [
    {
     "name": "stdout",
     "output_type": "stream",
     "text": [
      "[1, 2, 3, 4, 5, 6, 7, 8, 9]\n"
     ]
    }
   ],
   "source": [
    "Number = [1,2,3,4,5,6,2,1,7,8,9,7,8]\n",
    "unique_number = []\n",
    "\n",
    "[unique_number.append(item) for item in Number if item not in unique_number]\n",
    "print(unique_number)\n"
   ]
  },
  {
   "cell_type": "markdown",
   "id": "e7378c09-905f-4093-af77-0322b1b26954",
   "metadata": {},
   "source": [
    "****Answer-24****"
   ]
  },
  {
   "cell_type": "code",
   "execution_count": null,
   "id": "ad89695c-296e-4d2a-a834-738530a568cc",
   "metadata": {},
   "outputs": [],
   "source": []
  }
 ],
 "metadata": {
  "kernelspec": {
   "display_name": "Python 3 (ipykernel)",
   "language": "python",
   "name": "python3"
  },
  "language_info": {
   "codemirror_mode": {
    "name": "ipython",
    "version": 3
   },
   "file_extension": ".py",
   "mimetype": "text/x-python",
   "name": "python",
   "nbconvert_exporter": "python",
   "pygments_lexer": "ipython3",
   "version": "3.10.8"
  }
 },
 "nbformat": 4,
 "nbformat_minor": 5
}
