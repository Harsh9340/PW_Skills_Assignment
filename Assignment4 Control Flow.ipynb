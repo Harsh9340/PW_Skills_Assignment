{
 "cells": [
  {
   "cell_type": "markdown",
   "id": "13a80c59-0d1a-4626-b789-93a17aebf31d",
   "metadata": {},
   "source": [
    "****Annswer-1****"
   ]
  },
  {
   "cell_type": "code",
   "execution_count": 18,
   "id": "442f9b0e-74ad-4b1a-8389-c57fd579a47f",
   "metadata": {},
   "outputs": [
    {
     "name": "stdin",
     "output_type": "stream",
     "text": [
      "enter a number here\n",
      " 1\n"
     ]
    },
    {
     "name": "stdout",
     "output_type": "stream",
     "text": [
      "given  number is positive\n"
     ]
    }
   ],
   "source": [
    "num = float(input(\"enter a number here\\n\"))\n",
    "if num>0:\n",
    "    print(\"given  number is positive\")\n",
    "elif num==0:\n",
    "    print(\"number is zero\")\n",
    "else:\n",
    "    Print(\"number is negative\")"
   ]
  },
  {
   "cell_type": "markdown",
   "id": "9672c84c-1790-4e96-903e-18fe29019490",
   "metadata": {},
   "source": [
    "****Answer -2****"
   ]
  },
  {
   "cell_type": "code",
   "execution_count": 20,
   "id": "3176d978-da6d-4ddb-a9d4-c40a4058c065",
   "metadata": {},
   "outputs": [
    {
     "name": "stdin",
     "output_type": "stream",
     "text": [
      "enter your age 19\n"
     ]
    },
    {
     "name": "stdout",
     "output_type": "stream",
     "text": [
      "youn are eligible for vote\n"
     ]
    }
   ],
   "source": [
    "age = int(input(\"enter your age\"))\n",
    "if age>=18:\n",
    "    print(\"youn are eligible for vote\")\n",
    "else:\n",
    "    print(\"you are not eligible for vote\")"
   ]
  },
  {
   "cell_type": "markdown",
   "id": "dce5d6d4-488e-487d-9aae-b02c56b3b1cc",
   "metadata": {},
   "source": [
    "****Answer-3****"
   ]
  },
  {
   "cell_type": "code",
   "execution_count": 27,
   "id": "6f4991ee-269b-4bd8-8fdc-17c41a2c391c",
   "metadata": {},
   "outputs": [
    {
     "name": "stdin",
     "output_type": "stream",
     "text": [
      "enter first number 5\n",
      "enter second number 3\n"
     ]
    },
    {
     "name": "stdout",
     "output_type": "stream",
     "text": [
      "5\n"
     ]
    }
   ],
   "source": [
    "num1 = int(input(\"enter first number\"))\n",
    "num2 = int(input(\"enter second number\"))\n",
    "if num1>num2:\n",
    "    print(num1)\n",
    "elif num2>num1:\n",
    "    print(num2)\n",
    "else:\n",
    "    print(\"equal number\")\n"
   ]
  },
  {
   "cell_type": "markdown",
   "id": "276ac1a3-492e-4208-a7c2-f492fb05d3a2",
   "metadata": {},
   "source": [
    "****Answer-4****"
   ]
  },
  {
   "cell_type": "code",
   "execution_count": 30,
   "id": "49cddd28-aae8-4bd3-ba95-667dd65ae0ce",
   "metadata": {},
   "outputs": [
    {
     "name": "stdin",
     "output_type": "stream",
     "text": [
      "enter a year is here 2019\n"
     ]
    },
    {
     "name": "stdout",
     "output_type": "stream",
     "text": [
      "year is not a leap year\n"
     ]
    }
   ],
   "source": [
    "year = int(input(\"enter a year is here\"))\n",
    "if (year%400==0) and (year%100==0):\n",
    "    print(\"year is a leap year\")\n",
    "elif (year%4==0) and (year%100!=0):\n",
    "    print(\"year is a leap year\")\n",
    "else:\n",
    "    print(\"year is not a leap year\")"
   ]
  },
  {
   "cell_type": "markdown",
   "id": "462b9375-77fa-4ec1-9620-116f7599f098",
   "metadata": {},
   "source": [
    "****Answer-5****"
   ]
  },
  {
   "cell_type": "code",
   "execution_count": 37,
   "id": "92341a59-8519-4b2d-8291-a4f839044982",
   "metadata": {},
   "outputs": [
    {
     "name": "stdin",
     "output_type": "stream",
     "text": [
      "enter any character here b\n"
     ]
    },
    {
     "name": "stdout",
     "output_type": "stream",
     "text": [
      "char is not vowel\n"
     ]
    }
   ],
   "source": [
    "vowel = [\"a\",\"e\",\"i\",\"o\",\"u\"]\n",
    "char = input(\"enter any character here\")\n",
    "new_char = char.lower()\n",
    "if new_char in vowel:\n",
    "    print(\"character is vowel\")\n",
    "else:\n",
    "    print(\"char is not vowel\")"
   ]
  },
  {
   "cell_type": "markdown",
   "id": "8ea4257a-77c6-4cc5-bf96-bd6b68184135",
   "metadata": {},
   "source": [
    "****Answer -6****"
   ]
  },
  {
   "cell_type": "code",
   "execution_count": 39,
   "id": "d7f91d7e-460f-47d5-8b48-146ffe78eb33",
   "metadata": {},
   "outputs": [
    {
     "name": "stdin",
     "output_type": "stream",
     "text": [
      "enter a number here 3\n"
     ]
    },
    {
     "name": "stdout",
     "output_type": "stream",
     "text": [
      "enter number is odd\n"
     ]
    }
   ],
   "source": [
    "num = int(input(\"enter a number here\"))\n",
    "if num%2==0:\n",
    "    print(\"enter number is even\")\n",
    "else:\n",
    "    print(\"enter number is odd\")"
   ]
  },
  {
   "cell_type": "markdown",
   "id": "a2ff9982-8ef5-48d0-9d16-6b6b282561eb",
   "metadata": {},
   "source": [
    "****Answer-7****"
   ]
  },
  {
   "cell_type": "code",
   "execution_count": 47,
   "id": "b92fa0f9-c1fb-4789-a2bf-5d69fd46910e",
   "metadata": {},
   "outputs": [
    {
     "name": "stdin",
     "output_type": "stream",
     "text": [
      "enter a number here -5\n"
     ]
    },
    {
     "name": "stdout",
     "output_type": "stream",
     "text": [
      "5.0\n"
     ]
    }
   ],
   "source": [
    "num = float(input(\"enter a number here\"))\n",
    "if num<=0:\n",
    "    print(num *-1)\n",
    "else:\n",
    "    print(num*1)\n",
    "    "
   ]
  },
  {
   "cell_type": "markdown",
   "id": "606ef276-b486-4340-8327-51ea9c53112e",
   "metadata": {},
   "source": [
    "*****Answer -8*****"
   ]
  },
  {
   "cell_type": "code",
   "execution_count": 1,
   "id": "20a99338-9e46-4bb7-bc3b-9876a10515f1",
   "metadata": {},
   "outputs": [
    {
     "name": "stdin",
     "output_type": "stream",
     "text": [
      "enter a number 1\n",
      "enter a number here 2\n",
      "enter a number here 3\n"
     ]
    },
    {
     "name": "stdout",
     "output_type": "stream",
     "text": [
      "equal number\n"
     ]
    }
   ],
   "source": [
    "n1 = int(input(\"enter a number\"))\n",
    "n2 = int(input(\"enter a number here\"))\n",
    "n3 = int(input(\"enter a number here\"))\n",
    "if n1>n2 &n1>n3:\n",
    "    print(n1)\n",
    "if n2>n1&n2>n3:\n",
    "    print(n2)\n",
    "if n3>n1&n3>n2:\n",
    "    print(n3)\n",
    "else:\n",
    "    print(\"equal number\")"
   ]
  },
  {
   "cell_type": "markdown",
   "id": "ba8338ce-2a09-4a3e-a67a-ec9819b76f1c",
   "metadata": {},
   "source": [
    "****Answer-9****"
   ]
  },
  {
   "cell_type": "code",
   "execution_count": 3,
   "id": "043da2ed-a59a-41ee-b997-7b09c665fbee",
   "metadata": {},
   "outputs": [
    {
     "name": "stdout",
     "output_type": "stream",
     "text": [
      "This string is pallindrome\n"
     ]
    }
   ],
   "source": [
    "my_str = \"aIbohPhoBiA\"\n",
    "my_str = my_str.casefold()\n",
    "rev_str = reversed(my_str)\n",
    "if list(my_str)==list(rev_str):\n",
    "    print(\"This string is pallindrome\")\n",
    "else:\n",
    "    print(\"this string is not pallindrome\")"
   ]
  },
  {
   "cell_type": "markdown",
   "id": "f73546e7-098b-4b9c-8ab3-7b9a8396883b",
   "metadata": {},
   "source": [
    "****Answer - 10****"
   ]
  },
  {
   "cell_type": "code",
   "execution_count": 5,
   "id": "f5a70f48-6fe7-45e2-baa9-a96e3421124c",
   "metadata": {},
   "outputs": [
    {
     "name": "stdin",
     "output_type": "stream",
     "text": [
      "enter mark1 80\n",
      "enter mark2 90\n",
      "enter mark3 99\n",
      "enter mark4 89\n"
     ]
    },
    {
     "name": "stdout",
     "output_type": "stream",
     "text": [
      "your grade is A2\n"
     ]
    }
   ],
   "source": [
    "mark1 = int(input(\"enter mark1\"))\n",
    "mark2 = int(input(\"enter mark2\"))\n",
    "mark3 = int(input(\"enter mark3\"))\n",
    "mark4 = int(input(\"enter mark4\"))\n",
    "total_mark = mark1+mark2+mark3+mark4\n",
    "avg_mark = total_mark/4\n",
    "\n",
    "if avg_mark>=91 and avg_mark<=100:\n",
    "    print(\"your grade is A1\")\n",
    "elif avg_mark>=81 and avg_mark<=91:\n",
    "    print(\"your grade is A2\")\n",
    "elif avg_mark>=71 and avg_mark<=81:\n",
    "    print(\"your grade is B1\")\n",
    "elif avg_mark>=61 and avg_mark<=71:\n",
    "    print(\"your grade is B2\")\n",
    "elif avg_mark>=51 and avg_mark<=61:\n",
    "    print(\"your grade is C1\")\n",
    "elif avg_mark>=41 and avg_mark<=51:\n",
    "    print(\"your grade is C2\")\n",
    "elif avg_mark>=33 and avg_mark<=41:\n",
    "    print(\"your grade is D\")\n",
    "else:\n",
    "    print(\"Fail\")\n",
    "    "
   ]
  },
  {
   "cell_type": "markdown",
   "id": "460d5dec-91a7-40b5-a598-3e5f8a9e8b82",
   "metadata": {},
   "source": [
    "****Answer- 11****"
   ]
  },
  {
   "cell_type": "code",
   "execution_count": 8,
   "id": "09e51df1-66d9-4564-a06a-1a2f15f6dbe5",
   "metadata": {},
   "outputs": [
    {
     "name": "stdin",
     "output_type": "stream",
     "text": [
      "Enter first number here 9\n",
      "enter second number here 8\n",
      "enter third number here 5\n"
     ]
    },
    {
     "name": "stdout",
     "output_type": "stream",
     "text": [
      "9\n"
     ]
    }
   ],
   "source": [
    "num1 = int(input(\"Enter first number here\"))\n",
    "num2 = int(input(\"enter second number here\"))\n",
    "num3 = int(input(\"enter third number here\"))\n",
    "if num1>num2:\n",
    "    if num1>num3:\n",
    "        g=num1\n",
    "    else:\n",
    "        g=num3\n",
    "else:\n",
    "    if num2>num3:\n",
    "        g = num2\n",
    "    else:\n",
    "        g = num3\n",
    "print(g)"
   ]
  },
  {
   "cell_type": "markdown",
   "id": "07bd6bd7-d1ac-4328-853e-6f180e79e2e9",
   "metadata": {},
   "source": [
    "****Answer -12****"
   ]
  },
  {
   "cell_type": "code",
   "execution_count": 6,
   "id": "21123b13-5d6a-47d8-8e8a-b1d8c4086113",
   "metadata": {},
   "outputs": [
    {
     "name": "stdin",
     "output_type": "stream",
     "text": [
      "enter first value 2\n",
      "enter second value 4\n",
      "enter third value 2\n"
     ]
    },
    {
     "name": "stdout",
     "output_type": "stream",
     "text": [
      "isoscelence\n"
     ]
    }
   ],
   "source": [
    "x = int(input(\"enter first value\"))\n",
    "y = int(input(\"enter second value\"))\n",
    "z = int(input(\"enter third value\"))\n",
    "\n",
    "if(x==y==z):\n",
    "    print(\"equilateral\")\n",
    "elif(x==y or y==z or z==x):\n",
    "    print(\"isoscelence\")\n",
    "else:\n",
    "    print(\"scalence\")"
   ]
  },
  {
   "cell_type": "markdown",
   "id": "44facbd2-cc2e-445f-82aa-9c724a39abc3",
   "metadata": {},
   "source": [
    "****Answer-13****"
   ]
  },
  {
   "cell_type": "code",
   "execution_count": 12,
   "id": "76b874f5-056f-49d9-933f-31e0114196fa",
   "metadata": {},
   "outputs": [
    {
     "name": "stdin",
     "output_type": "stream",
     "text": [
      "enter year here 2024\n"
     ]
    },
    {
     "name": "stdout",
     "output_type": "stream",
     "text": [
      "year is not leap year and centurian year\n"
     ]
    }
   ],
   "source": [
    "year = int(input(\"enter year here\"))\n",
    "if year%400==0:\n",
    "    print(\"year is a leap year and centurain year\")\n",
    "else:\n",
    "    print(\"year is not leap year and centurian year\")"
   ]
  },
  {
   "cell_type": "markdown",
   "id": "aba9562d-00ec-445a-afaa-5dfdf729e45d",
   "metadata": {},
   "source": [
    "****Answer-14****"
   ]
  },
  {
   "cell_type": "code",
   "execution_count": 17,
   "id": "68f7ae88-e239-496d-aa82-7b2ac2cde081",
   "metadata": {},
   "outputs": [
    {
     "name": "stdin",
     "output_type": "stream",
     "text": [
      "input number is here -1\n"
     ]
    },
    {
     "name": "stdout",
     "output_type": "stream",
     "text": [
      "negative number\n"
     ]
    }
   ],
   "source": [
    "num = float(input(\"input number is here\"))\n",
    "if num>0:\n",
    "    print(\"positive number\")\n",
    "elif num==0:\n",
    "    print(\"number is zero\")\n",
    "else:\n",
    "    print(\"negative number\")\n",
    "    "
   ]
  },
  {
   "cell_type": "markdown",
   "id": "638f2f2b-bed2-4f25-98d8-3345bc7be317",
   "metadata": {},
   "source": [
    "****Answer-15****"
   ]
  },
  {
   "cell_type": "code",
   "execution_count": 23,
   "id": "4f262a3d-e85c-4016-aa3e-70b491d9f656",
   "metadata": {},
   "outputs": [
    {
     "name": "stdin",
     "output_type": "stream",
     "text": [
      "enter your age here 20\n"
     ]
    },
    {
     "name": "stdout",
     "output_type": "stream",
     "text": [
      "you are adult\n"
     ]
    }
   ],
   "source": [
    "age = int(input(\"enter your age here\"))\n",
    "if age>19:\n",
    "    print(\"you are adult\")\n",
    "elif age>=13 and age<=19:\n",
    "    print(\"you are a teenager\")\n",
    "else:\n",
    "    print(\"you are a child\")"
   ]
  },
  {
   "cell_type": "markdown",
   "id": "7220fd3f-4a38-4c57-9e79-7deeb156b366",
   "metadata": {},
   "source": [
    "****Answer - 16****"
   ]
  },
  {
   "cell_type": "code",
   "execution_count": 26,
   "id": "bf079211-0c0f-4137-93f4-f1da3741ff5d",
   "metadata": {},
   "outputs": [
    {
     "name": "stdin",
     "output_type": "stream",
     "text": [
      "enter first number 90\n",
      "enter second number 24\n",
      "enter third number 34\n"
     ]
    },
    {
     "name": "stdout",
     "output_type": "stream",
     "text": [
      "obtuse angle\n"
     ]
    }
   ],
   "source": [
    "a = int(input(\"enter first number\"))\n",
    "b = int(input(\"enter second number\"))\n",
    "c = int(input(\"enter third number\"))\n",
    "\n",
    "if(a+b+c <=90):\n",
    "    print(\"Acute angle\")\n",
    "if(90>a<180 or 90>b<=180 or 90>c<=180):\n",
    "    print(\"obtuse angle\")\n",
    "if(a+b+c >180):\n",
    "    print(\"Not Triangle\")"
   ]
  },
  {
   "cell_type": "markdown",
   "id": "b331a133-8844-49d4-b6a9-41e1447fac3a",
   "metadata": {},
   "source": [
    "****Answer -17****"
   ]
  },
  {
   "cell_type": "code",
   "execution_count": 2,
   "id": "6db57e0b-f03e-4063-bcca-ab20699f26cb",
   "metadata": {},
   "outputs": [
    {
     "name": "stdout",
     "output_type": "stream",
     "text": [
      "real and different roots\n",
      "2.0\n",
      "-12.0\n"
     ]
    }
   ],
   "source": [
    "import math\n",
    "def equationroots(a,b,c):\n",
    "    dis = b*b-4*a*c\n",
    "    sqrt_val = math.sqrt(abs(dis))\n",
    "    \n",
    "    if dis>0:\n",
    "        print(\"real and different roots\")\n",
    "        print((-b + sqrt_val)/(2*a))\n",
    "        print((-b-sqrt_val)/(2*a))\n",
    "    elif dis ==0:\n",
    "        print(\"real and same roots\")\n",
    "        print(-b/(2*a))\n",
    "    else:\n",
    "        print(\"complex roots\")\n",
    "        print(-b/(2*a),+1,sqrt_val)\n",
    "        print(-b/(2*a),-1,sqrt_val)\n",
    "a = 1\n",
    "b = 10\n",
    "c = -24\n",
    "if a==0:\n",
    "    print(\"input correct quadratic equation\")\n",
    "else:\n",
    "    equationroots(a,b,c)\n",
    "        "
   ]
  },
  {
   "cell_type": "markdown",
   "id": "dfbb6e48-e009-4a8f-8286-178546fad0ad",
   "metadata": {},
   "source": [
    "****Answer -18****"
   ]
  },
  {
   "cell_type": "code",
   "execution_count": 7,
   "id": "1149803e-334a-4f8e-86a7-05cee56576e6",
   "metadata": {},
   "outputs": [
    {
     "name": "stdin",
     "output_type": "stream",
     "text": [
      "Enter weekday number(1,7):  1\n"
     ]
    },
    {
     "name": "stdout",
     "output_type": "stream",
     "text": [
      "\n",
      "Monday\n"
     ]
    }
   ],
   "source": [
    "weekday = int(input(\"Enter weekday number(1,7): \"))\n",
    "if weekday ==1:\n",
    "    print(\"\\nMonday\")\n",
    "elif weekday==2:\n",
    "    print(\"\\nTuesday\")\n",
    "elif weekday==3:\n",
    "    print(\"\\nWednesday\")\n",
    "elif weekday==4:\n",
    "    print(\"\\nThursday\")\n",
    "elif weekday==5:\n",
    "    print(\"\\nFriday\")\n",
    "elif weekday==6:\n",
    "    print(\"\\nSaturday\")\n",
    "elif weekday==7:\n",
    "    print(\"\\nsunday\")\n",
    "else:\n",
    "    print(\"\\nPlease enter any weekday number(1-7)\")\n",
    "    "
   ]
  },
  {
   "cell_type": "markdown",
   "id": "b43a42f7-d0d9-4200-90a5-1295d271d7c4",
   "metadata": {},
   "source": [
    "****Answer-19****"
   ]
  },
  {
   "cell_type": "code",
   "execution_count": 8,
   "id": "ff726620-1f16-478a-82f4-ed3d680c1e1c",
   "metadata": {},
   "outputs": [
    {
     "name": "stdin",
     "output_type": "stream",
     "text": [
      "enter any year here 2024\n"
     ]
    },
    {
     "name": "stdout",
     "output_type": "stream",
     "text": [
      "2024 is a leap year\n"
     ]
    }
   ],
   "source": [
    "year = int(input(\"enter any year here\"))\n",
    "if (year%400==0)and(year%100==0):\n",
    "    print(\"{0} is a leap year\".format(year))\n",
    "elif(year%4==0)and(year%100!=0):\n",
    "    print(\"{0} is a leap year\".format(year))\n",
    "else:\n",
    "    print(\"{0} is not a leap year\".format(year))"
   ]
  },
  {
   "cell_type": "markdown",
   "id": "380c03a0-f201-4f51-a18d-ff5b4715b8af",
   "metadata": {},
   "source": [
    "****Answer-20****"
   ]
  },
  {
   "cell_type": "code",
   "execution_count": 8,
   "id": "6b00ada9-9b83-4d85-ae83-b2f136c46b42",
   "metadata": {},
   "outputs": [
    {
     "name": "stdin",
     "output_type": "stream",
     "text": [
      "Enter a number here 3\n"
     ]
    },
    {
     "name": "stdout",
     "output_type": "stream",
     "text": [
      "3 is not a prime number\n"
     ]
    }
   ],
   "source": [
    "num = int(input(\"Enter a number here\"))\n",
    "flag = False\n",
    "if num==1:\n",
    "    print(num,\"is not a prime number\")\n",
    "elif num>1:\n",
    "    for i in range(2,num):\n",
    "        if(num%1)==0:\n",
    "            flag=True\n",
    "            break\n",
    "    if flag:\n",
    "        print(num,\"is not a prime number\")\n",
    "    else:\n",
    "        print(num,\"is a prime number\")"
   ]
  }
 ],
 "metadata": {
  "kernelspec": {
   "display_name": "Python 3 (ipykernel)",
   "language": "python",
   "name": "python3"
  },
  "language_info": {
   "codemirror_mode": {
    "name": "ipython",
    "version": 3
   },
   "file_extension": ".py",
   "mimetype": "text/x-python",
   "name": "python",
   "nbconvert_exporter": "python",
   "pygments_lexer": "ipython3",
   "version": "3.10.8"
  }
 },
 "nbformat": 4,
 "nbformat_minor": 5
}
